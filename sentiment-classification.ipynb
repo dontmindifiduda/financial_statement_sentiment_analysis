{
 "cells": [
  {
   "cell_type": "markdown",
   "metadata": {
    "papermill": {
     "duration": 0.040317,
     "end_time": "2020-12-17T13:41:19.207082",
     "exception": false,
     "start_time": "2020-12-17T13:41:19.166765",
     "status": "completed"
    },
    "tags": []
   },
   "source": [
    "# Sentiment Classification - Financial Statements\n",
    "### Import Libraries & Load Data"
   ]
  },
  {
   "cell_type": "code",
   "execution_count": 1,
   "metadata": {
    "_cell_guid": "b1076dfc-b9ad-4769-8c92-a6c4dae69d19",
    "_uuid": "8f2839f25d086af736a60e9eeb907d3b93b6e0e5",
    "execution": {
     "iopub.execute_input": "2020-12-17T13:41:19.296138Z",
     "iopub.status.busy": "2020-12-17T13:41:19.295559Z",
     "iopub.status.idle": "2020-12-17T13:41:29.230357Z",
     "shell.execute_reply": "2020-12-17T13:41:29.229233Z"
    },
    "papermill": {
     "duration": 9.984013,
     "end_time": "2020-12-17T13:41:29.230488",
     "exception": false,
     "start_time": "2020-12-17T13:41:19.246475",
     "status": "completed"
    },
    "tags": []
   },
   "outputs": [
    {
     "name": "stderr",
     "output_type": "stream",
     "text": [
      "\u001b[34m\u001b[1mwandb\u001b[0m: \u001b[33mWARNING\u001b[0m W&B installed but not logged in.  Run `wandb login` or set the WANDB_API_KEY env variable.\n"
     ]
    }
   ],
   "source": [
    "import numpy as np \n",
    "import pandas as pd \n",
    "\n",
    "import os\n",
    "import re\n",
    "import time\n",
    "import datetime\n",
    "import string\n",
    "\n",
    "import matplotlib.pyplot as plt\n",
    "import seaborn as sns\n",
    "plt.style.use('ggplot')\n",
    "\n",
    "import nltk\n",
    "from nltk.corpus import stopwords\n",
    "from nltk.tokenize import word_tokenize\n",
    "\n",
    "from collections import Counter, defaultdict\n",
    "\n",
    "import transformers\n",
    "from transformers import BertModel, BertTokenizer, DistilBertTokenizer, RobertaModel, RobertaTokenizer\n",
    "from transformers import AutoConfig, AutoModel, AdamW, get_linear_schedule_with_warmup\n",
    "\n",
    "import torch\n",
    "from torch import nn, optim\n",
    "from torch.utils.data import Dataset, random_split, DataLoader, RandomSampler, SequentialSampler\n",
    "\n",
    "from sklearn.model_selection import train_test_split, StratifiedKFold\n",
    "from sklearn.preprocessing import LabelEncoder\n",
    "from sklearn.metrics import accuracy_score, confusion_matrix, classification_report"
   ]
  },
  {
   "cell_type": "code",
   "execution_count": 2,
   "metadata": {
    "_cell_guid": "79c7e3d0-c299-4dcb-8224-4455121ee9b0",
    "_uuid": "d629ff2d2480ee46fbb7e2d37f6b5fab8052498a",
    "execution": {
     "iopub.execute_input": "2020-12-17T13:41:29.314933Z",
     "iopub.status.busy": "2020-12-17T13:41:29.314347Z",
     "iopub.status.idle": "2020-12-17T13:41:29.348795Z",
     "shell.execute_reply": "2020-12-17T13:41:29.347551Z"
    },
    "papermill": {
     "duration": 0.078084,
     "end_time": "2020-12-17T13:41:29.348896",
     "exception": false,
     "start_time": "2020-12-17T13:41:29.270812",
     "status": "completed"
    },
    "tags": []
   },
   "outputs": [],
   "source": [
    "statement_df = pd.read_csv('../input/sentiment-analysis-for-financial-news/all-data.csv', encoding='latin-1', header=None)\n",
    "statement_df.columns = ['sentiment', 'statement']"
   ]
  },
  {
   "cell_type": "markdown",
   "metadata": {
    "papermill": {
     "duration": 0.039909,
     "end_time": "2020-12-17T13:41:29.428462",
     "exception": false,
     "start_time": "2020-12-17T13:41:29.388553",
     "status": "completed"
    },
    "tags": []
   },
   "source": [
    "### Set Device and Apply Random Seed"
   ]
  },
  {
   "cell_type": "code",
   "execution_count": 3,
   "metadata": {
    "execution": {
     "iopub.execute_input": "2020-12-17T13:41:29.515303Z",
     "iopub.status.busy": "2020-12-17T13:41:29.514711Z",
     "iopub.status.idle": "2020-12-17T13:41:29.522732Z",
     "shell.execute_reply": "2020-12-17T13:41:29.523142Z"
    },
    "papermill": {
     "duration": 0.054993,
     "end_time": "2020-12-17T13:41:29.523267",
     "exception": false,
     "start_time": "2020-12-17T13:41:29.468274",
     "status": "completed"
    },
    "tags": []
   },
   "outputs": [
    {
     "data": {
      "text/plain": [
       "<torch._C.Generator at 0x7f6ca6213530>"
      ]
     },
     "execution_count": 3,
     "metadata": {},
     "output_type": "execute_result"
    }
   ],
   "source": [
    "device = torch.device('cuda' if torch.cuda.is_available() else 'cpu')\n",
    "\n",
    "RANDOM_SEED = 73\n",
    "np.random.seed(RANDOM_SEED)\n",
    "torch.manual_seed(RANDOM_SEED)"
   ]
  },
  {
   "cell_type": "markdown",
   "metadata": {
    "papermill": {
     "duration": 0.043691,
     "end_time": "2020-12-17T13:41:29.609769",
     "exception": false,
     "start_time": "2020-12-17T13:41:29.566078",
     "status": "completed"
    },
    "tags": []
   },
   "source": [
    "### Exploratory Data Analysis"
   ]
  },
  {
   "cell_type": "code",
   "execution_count": 4,
   "metadata": {
    "execution": {
     "iopub.execute_input": "2020-12-17T13:41:29.708277Z",
     "iopub.status.busy": "2020-12-17T13:41:29.707620Z",
     "iopub.status.idle": "2020-12-17T13:41:29.715366Z",
     "shell.execute_reply": "2020-12-17T13:41:29.714916Z"
    },
    "papermill": {
     "duration": 0.062374,
     "end_time": "2020-12-17T13:41:29.715458",
     "exception": false,
     "start_time": "2020-12-17T13:41:29.653084",
     "status": "completed"
    },
    "tags": []
   },
   "outputs": [
    {
     "data": {
      "text/html": [
       "<div>\n",
       "<style scoped>\n",
       "    .dataframe tbody tr th:only-of-type {\n",
       "        vertical-align: middle;\n",
       "    }\n",
       "\n",
       "    .dataframe tbody tr th {\n",
       "        vertical-align: top;\n",
       "    }\n",
       "\n",
       "    .dataframe thead th {\n",
       "        text-align: right;\n",
       "    }\n",
       "</style>\n",
       "<table border=\"1\" class=\"dataframe\">\n",
       "  <thead>\n",
       "    <tr style=\"text-align: right;\">\n",
       "      <th></th>\n",
       "      <th>sentiment</th>\n",
       "      <th>statement</th>\n",
       "    </tr>\n",
       "  </thead>\n",
       "  <tbody>\n",
       "    <tr>\n",
       "      <th>0</th>\n",
       "      <td>neutral</td>\n",
       "      <td>According to Gran , the company has no plans t...</td>\n",
       "    </tr>\n",
       "    <tr>\n",
       "      <th>1</th>\n",
       "      <td>neutral</td>\n",
       "      <td>Technopolis plans to develop in stages an area...</td>\n",
       "    </tr>\n",
       "    <tr>\n",
       "      <th>2</th>\n",
       "      <td>negative</td>\n",
       "      <td>The international electronic industry company ...</td>\n",
       "    </tr>\n",
       "    <tr>\n",
       "      <th>3</th>\n",
       "      <td>positive</td>\n",
       "      <td>With the new production plant the company woul...</td>\n",
       "    </tr>\n",
       "    <tr>\n",
       "      <th>4</th>\n",
       "      <td>positive</td>\n",
       "      <td>According to the company 's updated strategy f...</td>\n",
       "    </tr>\n",
       "  </tbody>\n",
       "</table>\n",
       "</div>"
      ],
      "text/plain": [
       "  sentiment                                          statement\n",
       "0   neutral  According to Gran , the company has no plans t...\n",
       "1   neutral  Technopolis plans to develop in stages an area...\n",
       "2  negative  The international electronic industry company ...\n",
       "3  positive  With the new production plant the company woul...\n",
       "4  positive  According to the company 's updated strategy f..."
      ]
     },
     "execution_count": 4,
     "metadata": {},
     "output_type": "execute_result"
    }
   ],
   "source": [
    "statement_df.head()"
   ]
  },
  {
   "cell_type": "code",
   "execution_count": 5,
   "metadata": {
    "execution": {
     "iopub.execute_input": "2020-12-17T13:41:29.807757Z",
     "iopub.status.busy": "2020-12-17T13:41:29.806447Z",
     "iopub.status.idle": "2020-12-17T13:41:29.809682Z",
     "shell.execute_reply": "2020-12-17T13:41:29.810080Z"
    },
    "papermill": {
     "duration": 0.051594,
     "end_time": "2020-12-17T13:41:29.810192",
     "exception": false,
     "start_time": "2020-12-17T13:41:29.758598",
     "status": "completed"
    },
    "tags": []
   },
   "outputs": [
    {
     "data": {
      "text/plain": [
       "(4846, 2)"
      ]
     },
     "execution_count": 5,
     "metadata": {},
     "output_type": "execute_result"
    }
   ],
   "source": [
    "statement_df.shape"
   ]
  },
  {
   "cell_type": "markdown",
   "metadata": {
    "papermill": {
     "duration": 0.041403,
     "end_time": "2020-12-17T13:41:29.892674",
     "exception": false,
     "start_time": "2020-12-17T13:41:29.851271",
     "status": "completed"
    },
    "tags": []
   },
   "source": [
    "#### Check for Missing Data"
   ]
  },
  {
   "cell_type": "code",
   "execution_count": 6,
   "metadata": {
    "execution": {
     "iopub.execute_input": "2020-12-17T13:41:29.982875Z",
     "iopub.status.busy": "2020-12-17T13:41:29.982094Z",
     "iopub.status.idle": "2020-12-17T13:41:29.985750Z",
     "shell.execute_reply": "2020-12-17T13:41:29.985346Z"
    },
    "papermill": {
     "duration": 0.05204,
     "end_time": "2020-12-17T13:41:29.985835",
     "exception": false,
     "start_time": "2020-12-17T13:41:29.933795",
     "status": "completed"
    },
    "tags": []
   },
   "outputs": [
    {
     "data": {
      "text/plain": [
       "sentiment    0\n",
       "statement    0\n",
       "dtype: int64"
      ]
     },
     "execution_count": 6,
     "metadata": {},
     "output_type": "execute_result"
    }
   ],
   "source": [
    "statement_df.isna().sum()"
   ]
  },
  {
   "cell_type": "markdown",
   "metadata": {
    "papermill": {
     "duration": 0.041428,
     "end_time": "2020-12-17T13:41:30.068981",
     "exception": false,
     "start_time": "2020-12-17T13:41:30.027553",
     "status": "completed"
    },
    "tags": []
   },
   "source": [
    "#### Remove Duplicate Entries"
   ]
  },
  {
   "cell_type": "code",
   "execution_count": 7,
   "metadata": {
    "execution": {
     "iopub.execute_input": "2020-12-17T13:41:30.157363Z",
     "iopub.status.busy": "2020-12-17T13:41:30.156637Z",
     "iopub.status.idle": "2020-12-17T13:41:30.165387Z",
     "shell.execute_reply": "2020-12-17T13:41:30.164720Z"
    },
    "papermill": {
     "duration": 0.054477,
     "end_time": "2020-12-17T13:41:30.165510",
     "exception": false,
     "start_time": "2020-12-17T13:41:30.111033",
     "status": "completed"
    },
    "tags": []
   },
   "outputs": [
    {
     "name": "stdout",
     "output_type": "stream",
     "text": [
      "Number of Duplicate Entries:  6\n"
     ]
    }
   ],
   "source": [
    "print('Number of Duplicate Entries: ', len(statement_df[statement_df.duplicated()]))"
   ]
  },
  {
   "cell_type": "code",
   "execution_count": 8,
   "metadata": {
    "execution": {
     "iopub.execute_input": "2020-12-17T13:41:30.254573Z",
     "iopub.status.busy": "2020-12-17T13:41:30.253820Z",
     "iopub.status.idle": "2020-12-17T13:41:30.259915Z",
     "shell.execute_reply": "2020-12-17T13:41:30.259504Z"
    },
    "papermill": {
     "duration": 0.05188,
     "end_time": "2020-12-17T13:41:30.260002",
     "exception": false,
     "start_time": "2020-12-17T13:41:30.208122",
     "status": "completed"
    },
    "tags": []
   },
   "outputs": [],
   "source": [
    "statement_df = statement_df.drop_duplicates()"
   ]
  },
  {
   "cell_type": "markdown",
   "metadata": {
    "papermill": {
     "duration": 0.042448,
     "end_time": "2020-12-17T13:41:30.344928",
     "exception": false,
     "start_time": "2020-12-17T13:41:30.302480",
     "status": "completed"
    },
    "tags": []
   },
   "source": [
    "### Clean Statements"
   ]
  },
  {
   "cell_type": "code",
   "execution_count": 9,
   "metadata": {
    "execution": {
     "iopub.execute_input": "2020-12-17T13:41:30.436589Z",
     "iopub.status.busy": "2020-12-17T13:41:30.435270Z",
     "iopub.status.idle": "2020-12-17T13:41:30.437645Z",
     "shell.execute_reply": "2020-12-17T13:41:30.438099Z"
    },
    "papermill": {
     "duration": 0.05132,
     "end_time": "2020-12-17T13:41:30.438215",
     "exception": false,
     "start_time": "2020-12-17T13:41:30.386895",
     "status": "completed"
    },
    "tags": []
   },
   "outputs": [],
   "source": [
    "def clean_statements(statement):\n",
    "    statement = re.sub(\" '\", \"'\", statement)\n",
    "    statement = re.sub(\" 's\", \"'s\", statement)\n",
    "    statement = re.sub('\\( ', '(', statement)\n",
    "    statement = re.sub(' \\)', ')', statement)\n",
    "    statement = re.sub('``', '\"', statement)\n",
    "    statement = re.sub(\"''\", '\"', statement)\n",
    "    statement = re.sub(r'\\s([?.,%:!\"](?:\\s|$))', r'\\1', statement)\n",
    "#     statement = statement.translate(str.maketrans('', '', string.punctuation))\n",
    "    return statement"
   ]
  },
  {
   "cell_type": "code",
   "execution_count": 10,
   "metadata": {
    "execution": {
     "iopub.execute_input": "2020-12-17T13:41:30.551298Z",
     "iopub.status.busy": "2020-12-17T13:41:30.541008Z",
     "iopub.status.idle": "2020-12-17T13:41:30.615811Z",
     "shell.execute_reply": "2020-12-17T13:41:30.616218Z"
    },
    "papermill": {
     "duration": 0.135815,
     "end_time": "2020-12-17T13:41:30.616325",
     "exception": false,
     "start_time": "2020-12-17T13:41:30.480510",
     "status": "completed"
    },
    "tags": []
   },
   "outputs": [],
   "source": [
    "statement_df['statement'] = statement_df['statement'].apply(clean_statements)"
   ]
  },
  {
   "cell_type": "markdown",
   "metadata": {
    "papermill": {
     "duration": 0.04208,
     "end_time": "2020-12-17T13:41:30.700717",
     "exception": false,
     "start_time": "2020-12-17T13:41:30.658637",
     "status": "completed"
    },
    "tags": []
   },
   "source": [
    "### Split Statements into Words and Characters"
   ]
  },
  {
   "cell_type": "code",
   "execution_count": 11,
   "metadata": {
    "execution": {
     "iopub.execute_input": "2020-12-17T13:41:30.792562Z",
     "iopub.status.busy": "2020-12-17T13:41:30.791789Z",
     "iopub.status.idle": "2020-12-17T13:41:30.803921Z",
     "shell.execute_reply": "2020-12-17T13:41:30.804361Z"
    },
    "papermill": {
     "duration": 0.061783,
     "end_time": "2020-12-17T13:41:30.804462",
     "exception": false,
     "start_time": "2020-12-17T13:41:30.742679",
     "status": "completed"
    },
    "tags": []
   },
   "outputs": [],
   "source": [
    "statement_df['num_char'] = statement_df['statement'].apply(len)\n",
    "statement_df['num_words'] = statement_df['statement'].apply(lambda x: len(x.split()))"
   ]
  },
  {
   "cell_type": "markdown",
   "metadata": {
    "papermill": {
     "duration": 0.041761,
     "end_time": "2020-12-17T13:41:30.889243",
     "exception": false,
     "start_time": "2020-12-17T13:41:30.847482",
     "status": "completed"
    },
    "tags": []
   },
   "source": [
    "#### Number of Class Examples"
   ]
  },
  {
   "cell_type": "code",
   "execution_count": 12,
   "metadata": {
    "execution": {
     "iopub.execute_input": "2020-12-17T13:41:30.979123Z",
     "iopub.status.busy": "2020-12-17T13:41:30.978611Z",
     "iopub.status.idle": "2020-12-17T13:41:31.125238Z",
     "shell.execute_reply": "2020-12-17T13:41:31.125665Z"
    },
    "papermill": {
     "duration": 0.19399,
     "end_time": "2020-12-17T13:41:31.125777",
     "exception": false,
     "start_time": "2020-12-17T13:41:30.931787",
     "status": "completed"
    },
    "tags": []
   },
   "outputs": [
    {
     "data": {
      "image/png": "[encoded data removed]",
      "text/plain": [
       "<Figure size 864x576 with 1 Axes>"
      ]
     },
     "metadata": {},
     "output_type": "display_data"
    }
   ],
   "source": [
    "fig, ax = plt.subplots(figsize=(12,8))\n",
    "sns.countplot(x='sentiment', data=statement_df)\n",
    "plt.xlabel('')\n",
    "plt.ylabel('# of Examples')\n",
    "plt.title('# of Examples by Sentiment')\n",
    "plt.show()"
   ]
  },
  {
   "cell_type": "markdown",
   "metadata": {
    "papermill": {
     "duration": 0.042936,
     "end_time": "2020-12-17T13:41:31.212734",
     "exception": false,
     "start_time": "2020-12-17T13:41:31.169798",
     "status": "completed"
    },
    "tags": []
   },
   "source": [
    "#### Number of Characters by Class"
   ]
  },
  {
   "cell_type": "code",
   "execution_count": 13,
   "metadata": {
    "execution": {
     "iopub.execute_input": "2020-12-17T13:41:31.314021Z",
     "iopub.status.busy": "2020-12-17T13:41:31.313173Z",
     "iopub.status.idle": "2020-12-17T13:41:31.448723Z",
     "shell.execute_reply": "2020-12-17T13:41:31.449143Z"
    },
    "papermill": {
     "duration": 0.192843,
     "end_time": "2020-12-17T13:41:31.449277",
     "exception": false,
     "start_time": "2020-12-17T13:41:31.256434",
     "status": "completed"
    },
    "tags": []
   },
   "outputs": [
    {
     "data": {
      "image/png": "[encoded data removed]",
      "text/plain": [
       "<Figure size 864x576 with 1 Axes>"
      ]
     },
     "metadata": {},
     "output_type": "display_data"
    }
   ],
   "source": [
    "fig, ax = plt.subplots(figsize=(12,8))\n",
    "sns.boxplot(x='sentiment', y='num_char', data=statement_df)\n",
    "plt.xlabel('')\n",
    "plt.ylabel('# of Characters')\n",
    "plt.title('# of Characters by Sentiment')\n",
    "plt.show()"
   ]
  },
  {
   "cell_type": "markdown",
   "metadata": {
    "papermill": {
     "duration": 0.043891,
     "end_time": "2020-12-17T13:41:31.538092",
     "exception": false,
     "start_time": "2020-12-17T13:41:31.494201",
     "status": "completed"
    },
    "tags": []
   },
   "source": [
    "#### Number of Words by Class"
   ]
  },
  {
   "cell_type": "code",
   "execution_count": 14,
   "metadata": {
    "execution": {
     "iopub.execute_input": "2020-12-17T13:41:31.636383Z",
     "iopub.status.busy": "2020-12-17T13:41:31.635243Z",
     "iopub.status.idle": "2020-12-17T13:41:31.768160Z",
     "shell.execute_reply": "2020-12-17T13:41:31.767725Z"
    },
    "papermill": {
     "duration": 0.186044,
     "end_time": "2020-12-17T13:41:31.768270",
     "exception": false,
     "start_time": "2020-12-17T13:41:31.582226",
     "status": "completed"
    },
    "tags": []
   },
   "outputs": [
    {
     "data": {
      "image/png": "[encoded data removed]",
      "text/plain": [
       "<Figure size 864x576 with 1 Axes>"
      ]
     },
     "metadata": {},
     "output_type": "display_data"
    }
   ],
   "source": [
    "fig, ax = plt.subplots(figsize=(12,8))\n",
    "sns.boxplot(x='sentiment', y='num_words', data=statement_df)\n",
    "plt.xlabel('')\n",
    "plt.ylabel('# of Words')\n",
    "plt.title('# of Words by Sentiment')\n",
    "plt.show()"
   ]
  },
  {
   "cell_type": "markdown",
   "metadata": {
    "papermill": {
     "duration": 0.045433,
     "end_time": "2020-12-17T13:41:31.859139",
     "exception": false,
     "start_time": "2020-12-17T13:41:31.813706",
     "status": "completed"
    },
    "tags": []
   },
   "source": [
    "#### Identify Longest and Shortest Statements"
   ]
  },
  {
   "cell_type": "code",
   "execution_count": 15,
   "metadata": {
    "execution": {
     "iopub.execute_input": "2020-12-17T13:41:31.954101Z",
     "iopub.status.busy": "2020-12-17T13:41:31.953264Z",
     "iopub.status.idle": "2020-12-17T13:41:31.957358Z",
     "shell.execute_reply": "2020-12-17T13:41:31.956899Z"
    },
    "papermill": {
     "duration": 0.053366,
     "end_time": "2020-12-17T13:41:31.957454",
     "exception": false,
     "start_time": "2020-12-17T13:41:31.904088",
     "status": "completed"
    },
    "tags": []
   },
   "outputs": [
    {
     "name": "stdout",
     "output_type": "stream",
     "text": [
      "Longest Statement:  52 words.\n"
     ]
    }
   ],
   "source": [
    "print('Longest Statement: ', statement_df['num_words'].max(), 'words.')"
   ]
  },
  {
   "cell_type": "code",
   "execution_count": 16,
   "metadata": {
    "execution": {
     "iopub.execute_input": "2020-12-17T13:41:32.052385Z",
     "iopub.status.busy": "2020-12-17T13:41:32.051503Z",
     "iopub.status.idle": "2020-12-17T13:41:32.056452Z",
     "shell.execute_reply": "2020-12-17T13:41:32.055839Z"
    },
    "papermill": {
     "duration": 0.054016,
     "end_time": "2020-12-17T13:41:32.056571",
     "exception": false,
     "start_time": "2020-12-17T13:41:32.002555",
     "status": "completed"
    },
    "tags": []
   },
   "outputs": [
    {
     "name": "stdout",
     "output_type": "stream",
     "text": [
      "Shortest Statement:  1 words.\n"
     ]
    }
   ],
   "source": [
    "print('Shortest Statement: ', statement_df['num_words'].min(), 'words.')"
   ]
  },
  {
   "cell_type": "code",
   "execution_count": 17,
   "metadata": {
    "execution": {
     "iopub.execute_input": "2020-12-17T13:41:32.159369Z",
     "iopub.status.busy": "2020-12-17T13:41:32.154861Z",
     "iopub.status.idle": "2020-12-17T13:41:32.162219Z",
     "shell.execute_reply": "2020-12-17T13:41:32.161767Z"
    },
    "papermill": {
     "duration": 0.05948,
     "end_time": "2020-12-17T13:41:32.162309",
     "exception": false,
     "start_time": "2020-12-17T13:41:32.102829",
     "status": "completed"
    },
    "tags": []
   },
   "outputs": [],
   "source": [
    "pos_statements = ' '.join(statement_df.loc[statement_df['sentiment'] == 'positive']['statement'].values)\n",
    "neg_statements = ' '.join(statement_df.loc[statement_df['sentiment'] == 'negative']['statement'].values)\n",
    "neutral_statements = ' '.join(statement_df.loc[statement_df['sentiment'] == 'neutral']['statement'].values)"
   ]
  },
  {
   "cell_type": "code",
   "execution_count": 18,
   "metadata": {
    "execution": {
     "iopub.execute_input": "2020-12-17T13:41:32.314764Z",
     "iopub.status.busy": "2020-12-17T13:41:32.313127Z",
     "iopub.status.idle": "2020-12-17T13:41:32.315472Z",
     "shell.execute_reply": "2020-12-17T13:41:32.315883Z"
    },
    "papermill": {
     "duration": 0.107915,
     "end_time": "2020-12-17T13:41:32.315982",
     "exception": false,
     "start_time": "2020-12-17T13:41:32.208067",
     "status": "completed"
    },
    "tags": []
   },
   "outputs": [],
   "source": [
    "pos_statements = re.sub('[^A-Za-z]+', ' ', pos_statements).strip().lower()\n",
    "neg_statements = re.sub('[^A-Za-z]+', ' ', neg_statements).strip().lower()\n",
    "neutral_statements = re.sub('[^A-Za-z]+', ' ', neutral_statements).strip().lower()"
   ]
  },
  {
   "cell_type": "code",
   "execution_count": 19,
   "metadata": {
    "execution": {
     "iopub.execute_input": "2020-12-17T13:41:32.413559Z",
     "iopub.status.busy": "2020-12-17T13:41:32.412935Z",
     "iopub.status.idle": "2020-12-17T13:41:33.143073Z",
     "shell.execute_reply": "2020-12-17T13:41:33.142623Z"
    },
    "papermill": {
     "duration": 0.780446,
     "end_time": "2020-12-17T13:41:33.143194",
     "exception": false,
     "start_time": "2020-12-17T13:41:32.362748",
     "status": "completed"
    },
    "tags": []
   },
   "outputs": [],
   "source": [
    "pos_tokens = word_tokenize(pos_statements)\n",
    "neg_tokens = word_tokenize(neg_statements)\n",
    "neutral_tokens = word_tokenize(neutral_statements)"
   ]
  },
  {
   "cell_type": "code",
   "execution_count": 20,
   "metadata": {
    "execution": {
     "iopub.execute_input": "2020-12-17T13:41:33.240152Z",
     "iopub.status.busy": "2020-12-17T13:41:33.239518Z",
     "iopub.status.idle": "2020-12-17T13:41:33.247268Z",
     "shell.execute_reply": "2020-12-17T13:41:33.246800Z"
    },
    "papermill": {
     "duration": 0.057514,
     "end_time": "2020-12-17T13:41:33.247363",
     "exception": false,
     "start_time": "2020-12-17T13:41:33.189849",
     "status": "completed"
    },
    "tags": []
   },
   "outputs": [],
   "source": [
    "stop_words = stopwords.words('english')"
   ]
  },
  {
   "cell_type": "code",
   "execution_count": 21,
   "metadata": {
    "execution": {
     "iopub.execute_input": "2020-12-17T13:41:33.379050Z",
     "iopub.status.busy": "2020-12-17T13:41:33.363639Z",
     "iopub.status.idle": "2020-12-17T13:41:33.528208Z",
     "shell.execute_reply": "2020-12-17T13:41:33.527742Z"
    },
    "papermill": {
     "duration": 0.234587,
     "end_time": "2020-12-17T13:41:33.528306",
     "exception": false,
     "start_time": "2020-12-17T13:41:33.293719",
     "status": "completed"
    },
    "tags": []
   },
   "outputs": [],
   "source": [
    "pos_tokens_nostop = [w for w in pos_tokens if w not in stop_words]\n",
    "neg_tokens_nostop = [w for w in neg_tokens if w not in stop_words]\n",
    "neutral_tokens_nostop = [w for w in neutral_tokens if w not in stop_words]"
   ]
  },
  {
   "cell_type": "code",
   "execution_count": 22,
   "metadata": {
    "execution": {
     "iopub.execute_input": "2020-12-17T13:41:33.633161Z",
     "iopub.status.busy": "2020-12-17T13:41:33.632022Z",
     "iopub.status.idle": "2020-12-17T13:41:33.634875Z",
     "shell.execute_reply": "2020-12-17T13:41:33.634462Z"
    },
    "papermill": {
     "duration": 0.060131,
     "end_time": "2020-12-17T13:41:33.634964",
     "exception": false,
     "start_time": "2020-12-17T13:41:33.574833",
     "status": "completed"
    },
    "tags": []
   },
   "outputs": [],
   "source": [
    "pos_freq = Counter(pos_tokens_nostop)\n",
    "neg_freq = Counter(neg_tokens_nostop)\n",
    "neutral_freq = Counter(neutral_tokens_nostop)"
   ]
  },
  {
   "cell_type": "code",
   "execution_count": 23,
   "metadata": {
    "execution": {
     "iopub.execute_input": "2020-12-17T13:41:33.750151Z",
     "iopub.status.busy": "2020-12-17T13:41:33.748462Z",
     "iopub.status.idle": "2020-12-17T13:41:33.750835Z",
     "shell.execute_reply": "2020-12-17T13:41:33.751271Z"
    },
    "papermill": {
     "duration": 0.069942,
     "end_time": "2020-12-17T13:41:33.751380",
     "exception": false,
     "start_time": "2020-12-17T13:41:33.681438",
     "status": "completed"
    },
    "tags": []
   },
   "outputs": [],
   "source": [
    "top_10_pos = pos_freq.most_common()[:10]\n",
    "top_10_neg = neg_freq.most_common()[:10]\n",
    "top_10_neutral = neutral_freq.most_common()[:10]"
   ]
  },
  {
   "cell_type": "code",
   "execution_count": 24,
   "metadata": {
    "execution": {
     "iopub.execute_input": "2020-12-17T13:41:33.851170Z",
     "iopub.status.busy": "2020-12-17T13:41:33.849527Z",
     "iopub.status.idle": "2020-12-17T13:41:33.851919Z",
     "shell.execute_reply": "2020-12-17T13:41:33.852342Z"
    },
    "papermill": {
     "duration": 0.054413,
     "end_time": "2020-12-17T13:41:33.852445",
     "exception": false,
     "start_time": "2020-12-17T13:41:33.798032",
     "status": "completed"
    },
    "tags": []
   },
   "outputs": [],
   "source": [
    "def get_ngrams(input, n):\n",
    "    return [tuple(input[i:i+n]) for i in range(len(input) - n + 1)]"
   ]
  },
  {
   "cell_type": "code",
   "execution_count": 25,
   "metadata": {
    "execution": {
     "iopub.execute_input": "2020-12-17T13:41:33.986587Z",
     "iopub.status.busy": "2020-12-17T13:41:33.985911Z",
     "iopub.status.idle": "2020-12-17T13:41:33.989210Z",
     "shell.execute_reply": "2020-12-17T13:41:33.989625Z"
    },
    "papermill": {
     "duration": 0.08999,
     "end_time": "2020-12-17T13:41:33.989726",
     "exception": false,
     "start_time": "2020-12-17T13:41:33.899736",
     "status": "completed"
    },
    "tags": []
   },
   "outputs": [
    {
     "data": {
      "text/plain": [
       "[('eur', 639),\n",
       " ('mn', 264),\n",
       " ('company', 241),\n",
       " ('said', 230),\n",
       " ('year', 212),\n",
       " ('finnish', 202),\n",
       " ('net', 196),\n",
       " ('sales', 192),\n",
       " ('profit', 192),\n",
       " ('million', 170)]"
      ]
     },
     "execution_count": 25,
     "metadata": {},
     "output_type": "execute_result"
    }
   ],
   "source": [
    "top_10_pos"
   ]
  },
  {
   "cell_type": "code",
   "execution_count": 26,
   "metadata": {
    "execution": {
     "iopub.execute_input": "2020-12-17T13:41:34.088111Z",
     "iopub.status.busy": "2020-12-17T13:41:34.087588Z",
     "iopub.status.idle": "2020-12-17T13:41:34.093284Z",
     "shell.execute_reply": "2020-12-17T13:41:34.092858Z"
    },
    "papermill": {
     "duration": 0.056409,
     "end_time": "2020-12-17T13:41:34.093383",
     "exception": false,
     "start_time": "2020-12-17T13:41:34.036974",
     "status": "completed"
    },
    "tags": []
   },
   "outputs": [
    {
     "data": {
      "text/plain": [
       "[('eur', 417),\n",
       " ('mn', 237),\n",
       " ('profit', 156),\n",
       " ('net', 104),\n",
       " ('finnish', 102),\n",
       " ('company', 100),\n",
       " ('year', 100),\n",
       " ('sales', 98),\n",
       " ('operating', 97),\n",
       " ('period', 90)]"
      ]
     },
     "execution_count": 26,
     "metadata": {},
     "output_type": "execute_result"
    }
   ],
   "source": [
    "top_10_neg"
   ]
  },
  {
   "cell_type": "code",
   "execution_count": 27,
   "metadata": {
    "execution": {
     "iopub.execute_input": "2020-12-17T13:41:34.194328Z",
     "iopub.status.busy": "2020-12-17T13:41:34.193563Z",
     "iopub.status.idle": "2020-12-17T13:41:34.197165Z",
     "shell.execute_reply": "2020-12-17T13:41:34.196732Z"
    },
    "papermill": {
     "duration": 0.055664,
     "end_time": "2020-12-17T13:41:34.197265",
     "exception": false,
     "start_time": "2020-12-17T13:41:34.141601",
     "status": "completed"
    },
    "tags": []
   },
   "outputs": [
    {
     "data": {
      "text/plain": [
       "[('company', 508),\n",
       " ('eur', 359),\n",
       " ('said', 238),\n",
       " ('finland', 227),\n",
       " ('finnish', 220),\n",
       " ('business', 195),\n",
       " ('million', 193),\n",
       " ('new', 189),\n",
       " ('group', 187),\n",
       " ('sales', 165)]"
      ]
     },
     "execution_count": 27,
     "metadata": {},
     "output_type": "execute_result"
    }
   ],
   "source": [
    "top_10_neutral"
   ]
  },
  {
   "cell_type": "markdown",
   "metadata": {
    "papermill": {
     "duration": 0.048143,
     "end_time": "2020-12-17T13:41:34.293760",
     "exception": false,
     "start_time": "2020-12-17T13:41:34.245617",
     "status": "completed"
    },
    "tags": []
   },
   "source": [
    "# Sentiment Analysis"
   ]
  },
  {
   "cell_type": "code",
   "execution_count": 28,
   "metadata": {
    "execution": {
     "iopub.execute_input": "2020-12-17T13:41:34.398687Z",
     "iopub.status.busy": "2020-12-17T13:41:34.397851Z",
     "iopub.status.idle": "2020-12-17T13:41:34.400440Z",
     "shell.execute_reply": "2020-12-17T13:41:34.400003Z"
    },
    "papermill": {
     "duration": 0.0553,
     "end_time": "2020-12-17T13:41:34.400532",
     "exception": false,
     "start_time": "2020-12-17T13:41:34.345232",
     "status": "completed"
    },
    "tags": []
   },
   "outputs": [],
   "source": [
    "MAX_LENGTH = 64\n",
    "BATCH_SIZE = 16\n",
    "NUM_CLASSES = 3\n",
    "EPOCHS = 5\n",
    "DROPOUT_PROB = 0.1\n",
    "WEIGHT_DECAY = 0.01\n",
    "NFOLDS = 10\n",
    "LEARNING_RATE = 2e-5"
   ]
  },
  {
   "cell_type": "code",
   "execution_count": 29,
   "metadata": {
    "execution": {
     "iopub.execute_input": "2020-12-17T13:41:34.503011Z",
     "iopub.status.busy": "2020-12-17T13:41:34.502329Z",
     "iopub.status.idle": "2020-12-17T13:41:34.504733Z",
     "shell.execute_reply": "2020-12-17T13:41:34.505122Z"
    },
    "papermill": {
     "duration": 0.056504,
     "end_time": "2020-12-17T13:41:34.505246",
     "exception": false,
     "start_time": "2020-12-17T13:41:34.448742",
     "status": "completed"
    },
    "tags": []
   },
   "outputs": [],
   "source": [
    "le = LabelEncoder()\n",
    "statement_df['sentiment'] = le.fit_transform(statement_df['sentiment'])"
   ]
  },
  {
   "cell_type": "code",
   "execution_count": 30,
   "metadata": {
    "execution": {
     "iopub.execute_input": "2020-12-17T13:41:34.607017Z",
     "iopub.status.busy": "2020-12-17T13:41:34.606316Z",
     "iopub.status.idle": "2020-12-17T13:41:34.609167Z",
     "shell.execute_reply": "2020-12-17T13:41:34.608751Z"
    },
    "papermill": {
     "duration": 0.054688,
     "end_time": "2020-12-17T13:41:34.609271",
     "exception": false,
     "start_time": "2020-12-17T13:41:34.554583",
     "status": "completed"
    },
    "tags": []
   },
   "outputs": [],
   "source": [
    "def format_time(elapsed):\n",
    "    return str(datetime.timedelta(seconds=int(round((elapsed)))))"
   ]
  },
  {
   "cell_type": "code",
   "execution_count": 31,
   "metadata": {
    "execution": {
     "iopub.execute_input": "2020-12-17T13:41:34.716146Z",
     "iopub.status.busy": "2020-12-17T13:41:34.715483Z",
     "iopub.status.idle": "2020-12-17T13:41:34.718004Z",
     "shell.execute_reply": "2020-12-17T13:41:34.718475Z"
    },
    "papermill": {
     "duration": 0.060027,
     "end_time": "2020-12-17T13:41:34.718575",
     "exception": false,
     "start_time": "2020-12-17T13:41:34.658548",
     "status": "completed"
    },
    "tags": []
   },
   "outputs": [],
   "source": [
    "class StatementDataset(Dataset):\n",
    "    \n",
    "    def __init__(self, statements, labels, tokenizer, max_length):\n",
    "        self.statements = statements\n",
    "        self.labels = labels\n",
    "        self.tokenizer = tokenizer\n",
    "        self.max_length = max_length\n",
    "        \n",
    "    def __len__(self):\n",
    "        \n",
    "        return len(self.statements)\n",
    "    \n",
    "    def __getitem__(self, idx):\n",
    "        \n",
    "        statement = str(self.statements[idx])\n",
    "        label = self.labels[idx]\n",
    "        \n",
    "        encoding = self.tokenizer.encode_plus(\n",
    "            statement,\n",
    "            max_length=self.max_length,\n",
    "            padding='max_length',\n",
    "            add_special_tokens=True, \n",
    "            return_token_type_ids=False,\n",
    "            truncation=True,\n",
    "            return_attention_mask=True,\n",
    "            return_tensors='pt'  \n",
    "        ) \n",
    "        \n",
    "        return {\n",
    "            'statement_text': statement,\n",
    "            'input_ids': encoding['input_ids'].flatten(),\n",
    "            'attention_mask': encoding['attention_mask'].flatten(),\n",
    "            'labels': torch.tensor(label, dtype=torch.long)\n",
    "        }\n",
    "        "
   ]
  },
  {
   "cell_type": "code",
   "execution_count": 32,
   "metadata": {
    "execution": {
     "iopub.execute_input": "2020-12-17T13:41:34.821102Z",
     "iopub.status.busy": "2020-12-17T13:41:34.820556Z",
     "iopub.status.idle": "2020-12-17T13:41:34.835157Z",
     "shell.execute_reply": "2020-12-17T13:41:34.834755Z"
    },
    "papermill": {
     "duration": 0.068309,
     "end_time": "2020-12-17T13:41:34.835261",
     "exception": false,
     "start_time": "2020-12-17T13:41:34.766952",
     "status": "completed"
    },
    "tags": []
   },
   "outputs": [],
   "source": [
    "df_train, df_test = train_test_split(statement_df, \n",
    "                                     test_size=0.2, \n",
    "                                     random_state=RANDOM_SEED, \n",
    "                                     stratify=statement_df['sentiment'].values)\n",
    "\n",
    "df_val, df_test = train_test_split(df_test, \n",
    "                                   test_size=0.5, \n",
    "                                   random_state=RANDOM_SEED, \n",
    "                                   stratify=df_test['sentiment'].values)\n",
    "\n",
    "df_train_full = pd.concat([df_train, df_val])"
   ]
  },
  {
   "cell_type": "code",
   "execution_count": 33,
   "metadata": {
    "execution": {
     "iopub.execute_input": "2020-12-17T13:41:34.942881Z",
     "iopub.status.busy": "2020-12-17T13:41:34.942142Z",
     "iopub.status.idle": "2020-12-17T13:41:34.945086Z",
     "shell.execute_reply": "2020-12-17T13:41:34.944571Z"
    },
    "papermill": {
     "duration": 0.057,
     "end_time": "2020-12-17T13:41:34.945171",
     "exception": false,
     "start_time": "2020-12-17T13:41:34.888171",
     "status": "completed"
    },
    "tags": []
   },
   "outputs": [],
   "source": [
    "def create_dataset(df, tokenizer, max_length):\n",
    "    ds = StatementDataset(statements=df['statement'].to_numpy(),\n",
    "                          labels=df['sentiment'].to_numpy(),\n",
    "                          tokenizer=tokenizer,\n",
    "                          max_length=max_length)\n",
    "    return ds\n",
    "\n",
    "def create_dataloader(ds, batch_size):\n",
    "    return DataLoader(ds, batch_size, num_workers=4)\n",
    "    "
   ]
  },
  {
   "cell_type": "code",
   "execution_count": 34,
   "metadata": {
    "execution": {
     "iopub.execute_input": "2020-12-17T13:41:35.050521Z",
     "iopub.status.busy": "2020-12-17T13:41:35.049815Z",
     "iopub.status.idle": "2020-12-17T13:41:35.052778Z",
     "shell.execute_reply": "2020-12-17T13:41:35.052336Z"
    },
    "papermill": {
     "duration": 0.058851,
     "end_time": "2020-12-17T13:41:35.052864",
     "exception": false,
     "start_time": "2020-12-17T13:41:34.994013",
     "status": "completed"
    },
    "tags": []
   },
   "outputs": [],
   "source": [
    "def cv_ensemble_performance(preds, labels):\n",
    "    preds = np.array(preds)\n",
    "    summed = np.sum(preds, axis=0)\n",
    "    preds = np.argmax(summed, axis=1)\n",
    "    print(confusion_matrix(y_true=labels, y_pred=preds))\n",
    "    print('')\n",
    "    print(classification_report(y_true=labels, y_pred=preds, digits=3, target_names=le.classes_))\n",
    "    \n",
    "def single_model_performance(preds, labels):\n",
    "    print(confusion_matrix(y_true=labels, y_pred=preds))\n",
    "    print('')\n",
    "    print(classification_report(y_true=labels, y_pred=preds, digits=3, target_names=le.classes_))"
   ]
  },
  {
   "cell_type": "code",
   "execution_count": 35,
   "metadata": {
    "execution": {
     "iopub.execute_input": "2020-12-17T13:41:35.165470Z",
     "iopub.status.busy": "2020-12-17T13:41:35.164506Z",
     "iopub.status.idle": "2020-12-17T13:41:35.166922Z",
     "shell.execute_reply": "2020-12-17T13:41:35.167370Z"
    },
    "papermill": {
     "duration": 0.065024,
     "end_time": "2020-12-17T13:41:35.167501",
     "exception": false,
     "start_time": "2020-12-17T13:41:35.102477",
     "status": "completed"
    },
    "tags": []
   },
   "outputs": [],
   "source": [
    "def train_model(model, device, data_loader, loss_function, \n",
    "                optimizer, scheduler, n_examples):\n",
    "    \n",
    "    model = model.train()\n",
    "    losses = []\n",
    "    correct_preds = 0\n",
    "    complete_preds = []\n",
    "    complete_labels = []\n",
    "    \n",
    "    for batch in data_loader:\n",
    "        input_ids = batch['input_ids'].to(device)\n",
    "        attention_mask = batch['attention_mask'].to(device)\n",
    "        labels = batch['labels'].to(device)\n",
    "        \n",
    "        outputs = model(input_ids=input_ids, attention_mask=attention_mask)\n",
    "            \n",
    "        _, preds = torch.max(outputs, dim=1)\n",
    "        loss = loss_function(outputs, labels)\n",
    "        complete_preds.append(preds.data.cpu().numpy().tolist())\n",
    "        complete_labels.append(labels.data.cpu().numpy().tolist())\n",
    "        correct_preds += torch.sum(preds == labels)\n",
    "        losses.append(loss.item())\n",
    "        \n",
    "        loss.backward()\n",
    "        nn.utils.clip_grad_norm_(model.parameters(), max_norm=1.0)\n",
    "        optimizer.step()\n",
    "        scheduler.step()\n",
    "        optimizer.zero_grad()\n",
    "    \n",
    "    complete_preds_flat = [x for y in complete_preds for x in y]\n",
    "    complete_labels_flat = [x for y in complete_labels for x in y]\n",
    "    acc_score = accuracy_score(y_true=complete_labels_flat, \n",
    "                             y_pred=complete_preds_flat)\n",
    "    return acc_score, np.mean(losses)\n",
    "        "
   ]
  },
  {
   "cell_type": "code",
   "execution_count": 36,
   "metadata": {
    "execution": {
     "iopub.execute_input": "2020-12-17T13:41:35.279143Z",
     "iopub.status.busy": "2020-12-17T13:41:35.278456Z",
     "iopub.status.idle": "2020-12-17T13:41:35.281446Z",
     "shell.execute_reply": "2020-12-17T13:41:35.281018Z"
    },
    "papermill": {
     "duration": 0.064071,
     "end_time": "2020-12-17T13:41:35.281538",
     "exception": false,
     "start_time": "2020-12-17T13:41:35.217467",
     "status": "completed"
    },
    "tags": []
   },
   "outputs": [],
   "source": [
    "def eval_model(model, device, data_loader, loss_function, n_examples):\n",
    "    model = model.eval()\n",
    "    \n",
    "    losses = []\n",
    "    correct_preds = 0\n",
    "    complete_preds = []\n",
    "    complete_labels = []\n",
    "    complete_outputs = []\n",
    "    \n",
    "    with torch.no_grad():\n",
    "        for item in data_loader:\n",
    "            input_ids = item['input_ids'].to(device)\n",
    "            attention_mask = item['attention_mask'].to(device)\n",
    "            labels = item['labels'].to(device)\n",
    "\n",
    "            outputs = model(input_ids=input_ids, \n",
    "                            attention_mask=attention_mask)\n",
    "            \n",
    "            _, preds = torch.max(outputs, dim=1)\n",
    "            loss = loss_function(outputs, labels)\n",
    "            \n",
    "            correct_preds += torch.sum(preds == labels)\n",
    "            complete_preds.append(preds.data.cpu().numpy().tolist())\n",
    "            complete_labels.append(labels.data.cpu().numpy().tolist())\n",
    "            complete_outputs.append(outputs.tolist())\n",
    "            losses.append(loss.item())\n",
    "        \n",
    "        accuracy = correct_preds.double() / n_examples\n",
    "        complete_preds_flat = [x for y in complete_preds for x in y]\n",
    "        complete_labels_flat = [x for y in complete_labels for x in y]\n",
    "        complete_outputs_flat = [x for y in complete_outputs for x in y]\n",
    "\n",
    "        acc_score = accuracy_score(y_true=complete_labels_flat, \n",
    "                             y_pred=complete_preds_flat)\n",
    "        \n",
    "        return_items = (acc_score, \n",
    "                        np.mean(losses), \n",
    "                        complete_preds_flat, \n",
    "                        complete_outputs_flat)\n",
    "        \n",
    "        return return_items"
   ]
  },
  {
   "cell_type": "code",
   "execution_count": 37,
   "metadata": {
    "execution": {
     "iopub.execute_input": "2020-12-17T13:41:35.394727Z",
     "iopub.status.busy": "2020-12-17T13:41:35.393950Z",
     "iopub.status.idle": "2020-12-17T13:41:35.396750Z",
     "shell.execute_reply": "2020-12-17T13:41:35.396241Z"
    },
    "papermill": {
     "duration": 0.065977,
     "end_time": "2020-12-17T13:41:35.396835",
     "exception": false,
     "start_time": "2020-12-17T13:41:35.330858",
     "status": "completed"
    },
    "tags": []
   },
   "outputs": [],
   "source": [
    "def train_fold(epochs, model, device, train_dataloader, \n",
    "               val_dataloader, test_dataloader, loss_fn, optimizer, \n",
    "               scheduler, model_save_name, n_train, n_val, single_model=True):\n",
    "    \n",
    "    start_time = time.time()\n",
    "    history = defaultdict(list)\n",
    "    best_accuracy = 0\n",
    "\n",
    "    for epoch in range(epochs):\n",
    "        epoch_start_time = time.time()\n",
    "        print('Epoch ', epoch+1, '/', epochs)\n",
    "        print('-'*50)\n",
    "\n",
    "        training_output = train_model(model, \n",
    "                                      device, \n",
    "                                      train_dataloader, \n",
    "                                      loss_fn, \n",
    "                                      optimizer, \n",
    "                                      scheduler, \n",
    "                                      n_train)\n",
    "        \n",
    "        train_acc, train_loss = training_output\n",
    "        \n",
    "        val_output = eval_model(model, \n",
    "                                device, \n",
    "                                val_dataloader, \n",
    "                                loss_fn, \n",
    "                                n_val)\n",
    "\n",
    "        val_acc, val_loss, val_preds, val_outputs = val_output\n",
    "        \n",
    "        history['train_accuracy'].append(train_acc)\n",
    "        history['train_loss'].append(train_loss)\n",
    "        history['val_accuracy'].append(val_acc)\n",
    "        history['val_loss'].append(val_loss)\n",
    "        history['val_preds'].append(val_preds)\n",
    "\n",
    "        if val_acc > best_accuracy:\n",
    "            torch.save(model.state_dict(), model_save_name)\n",
    "            best_accuracy = val_acc\n",
    "            best_preds = val_preds\n",
    "            best_outputs = val_outputs\n",
    "\n",
    "        print('Train Loss: ', \n",
    "              train_loss, \n",
    "              ' | ', \n",
    "              'Train Accuracy: ', \n",
    "              train_acc)\n",
    "        print('Val Loss: ', \n",
    "              val_loss, \n",
    "              ' | ', \n",
    "              'Val Accuracy: ', \n",
    "              val_acc)\n",
    "        print('Epoch Train Time: ', \n",
    "              format_time(time.time() - epoch_start_time))\n",
    "        print('\\n')\n",
    "    \n",
    "    print('Finished Training.')   \n",
    "    print('Fold Train Time: ', format_time(time.time() - start_time))\n",
    "    print('\\n')\n",
    "    if single_model:\n",
    "        _, _, test_preds, test_outputs = eval_model(model, \n",
    "                                                    device, \n",
    "                                                    test_dataloader, \n",
    "                                                    loss_function, \n",
    "                                                    len(df_test))\n",
    "        \n",
    "        single_model_performance(test_preds, df_test['sentiment'].values)\n",
    "    return history, best_preds, best_outputs"
   ]
  },
  {
   "cell_type": "code",
   "execution_count": 38,
   "metadata": {
    "execution": {
     "iopub.execute_input": "2020-12-17T13:41:35.515645Z",
     "iopub.status.busy": "2020-12-17T13:41:35.508342Z",
     "iopub.status.idle": "2020-12-17T13:41:35.518117Z",
     "shell.execute_reply": "2020-12-17T13:41:35.517715Z"
    },
    "papermill": {
     "duration": 0.072346,
     "end_time": "2020-12-17T13:41:35.518223",
     "exception": false,
     "start_time": "2020-12-17T13:41:35.445877",
     "status": "completed"
    },
    "tags": []
   },
   "outputs": [],
   "source": [
    "def get_oof_and_test_preds(model_type, tokenizer, \n",
    "                           train_df, test_df, single_model=False):\n",
    "    oof_preds = []\n",
    "    oof_outputs = []\n",
    "    oof_preds_indices = []\n",
    "    test_preds_list = []\n",
    "    test_outputs_list = []\n",
    "    history_list = []\n",
    "    start_time = time.time()\n",
    "    \n",
    "    fold = 0\n",
    "    \n",
    "    x_train = train_df['statement']\n",
    "    y_train = train_df['sentiment']\n",
    "\n",
    "    for train_index, val_index in skf.split(x_train, y_train):\n",
    "        print('Fold: {}'.format(fold+1))\n",
    "        \n",
    "        x_tr = x_train.iloc[train_index]\n",
    "        y_tr = y_train.iloc[train_index]\n",
    "        x_va = x_train.iloc[val_index]\n",
    "        y_va = y_train.iloc[val_index]\n",
    "        \n",
    "        train = pd.DataFrame(list(zip(x_tr, y_tr)), \n",
    "                             columns=['statement', 'sentiment'])\n",
    "        val = pd.DataFrame(list(zip(x_va, y_va)), \n",
    "                           columns=['statement', 'sentiment'])\n",
    "\n",
    "        train_ds = create_dataset(train, tokenizer, MAX_LENGTH)\n",
    "        val_ds = create_dataset(val, tokenizer, MAX_LENGTH)\n",
    "        test_ds = create_dataset(test_df, tokenizer, MAX_LENGTH)\n",
    "        \n",
    "\n",
    "        if model_type == 'bert':\n",
    "            model = BERTSentimentClassifier(NUM_CLASSES)\n",
    "            model = model.to(device)\n",
    "        elif model_type == 'distilbert':\n",
    "            model = DistilBertForSequenceClassification(pretrained_model_name=DISTILBERT_MODEL_NAME, \n",
    "                                                        num_classes=NUM_CLASSES)\n",
    "            model = model.to(device)\n",
    "        elif model_type == 'roberta':\n",
    "            model = RobertaSentimentClassifier(n_classes=NUM_CLASSES)\n",
    "            model = model.to(device)\n",
    "        \n",
    "        train_loader = create_dataloader(train_ds, BATCH_SIZE)\n",
    "        val_loader = create_dataloader(val_ds, BATCH_SIZE)\n",
    "        test_loader = create_dataloader(test_ds, BATCH_SIZE)\n",
    "        \n",
    "        training_steps = len(train_loader.dataset) * EPOCHS\n",
    "        warmup_steps = int(0.1 * training_steps)\n",
    "        optimizer = AdamW(model.parameters(), \n",
    "                          lr=LEARNING_RATE, \n",
    "                          weight_decay=WEIGHT_DECAY, \n",
    "                          correct_bias=True)\n",
    "        scheduler = get_linear_schedule_with_warmup(optimizer, \n",
    "                                                    num_warmup_steps=warmup_steps, \n",
    "                                                    num_training_steps=training_steps)\n",
    "        \n",
    "        model_save_name = '{}_fold_{}.bin'.format(model_type, fold)\n",
    "        \n",
    "        history, preds, outputs = train_fold(epochs=EPOCHS,\n",
    "                                             model=model, \n",
    "                                             device=device, \n",
    "                                             train_dataloader=train_loader, \n",
    "                                             val_dataloader=val_loader,\n",
    "                                             test_dataloader=test_loader,\n",
    "                                             loss_fn=loss_function,\n",
    "                                             optimizer=optimizer,\n",
    "                                             scheduler=scheduler,\n",
    "                                             model_save_name=model_save_name,\n",
    "                                             n_train=len(train),\n",
    "                                             n_val=len(val),\n",
    "                                             single_model=False\n",
    "                                            )\n",
    "        \n",
    "        history_list.append(history)\n",
    "        oof_preds.append(preds)\n",
    "        oof_outputs.append(outputs)\n",
    "        oof_preds_indices.append(val_index)\n",
    "        _, _, test_preds, test_outputs = eval_model(model, \n",
    "                                                    device, \n",
    "                                                    test_loader, \n",
    "                                                    loss_function, \n",
    "                                                    len(test_df))\n",
    "        test_preds_list.append(test_preds)\n",
    "        test_outputs_list.append(test_outputs)\n",
    "        \n",
    "        fold += 1\n",
    "\n",
    "    print(str(NFOLDS), 'Fold CV Train Time: ', format_time(time.time() - start_time))\n",
    "\n",
    "    return history_list, test_outputs_list\n",
    "        "
   ]
  },
  {
   "cell_type": "code",
   "execution_count": 39,
   "metadata": {
    "execution": {
     "iopub.execute_input": "2020-12-17T13:41:35.621815Z",
     "iopub.status.busy": "2020-12-17T13:41:35.620594Z",
     "iopub.status.idle": "2020-12-17T13:41:35.623456Z",
     "shell.execute_reply": "2020-12-17T13:41:35.622992Z"
    },
    "papermill": {
     "duration": 0.056024,
     "end_time": "2020-12-17T13:41:35.623549",
     "exception": false,
     "start_time": "2020-12-17T13:41:35.567525",
     "status": "completed"
    },
    "tags": []
   },
   "outputs": [],
   "source": [
    "loss_function = nn.CrossEntropyLoss().to(device)"
   ]
  },
  {
   "cell_type": "code",
   "execution_count": 40,
   "metadata": {
    "execution": {
     "iopub.execute_input": "2020-12-17T13:41:35.726515Z",
     "iopub.status.busy": "2020-12-17T13:41:35.725830Z",
     "iopub.status.idle": "2020-12-17T13:41:35.728784Z",
     "shell.execute_reply": "2020-12-17T13:41:35.728359Z"
    },
    "papermill": {
     "duration": 0.055997,
     "end_time": "2020-12-17T13:41:35.728876",
     "exception": false,
     "start_time": "2020-12-17T13:41:35.672879",
     "status": "completed"
    },
    "tags": []
   },
   "outputs": [],
   "source": [
    "skf = StratifiedKFold(n_splits=NFOLDS, shuffle=True, random_state=RANDOM_SEED)"
   ]
  },
  {
   "cell_type": "markdown",
   "metadata": {
    "papermill": {
     "duration": 0.049457,
     "end_time": "2020-12-17T13:41:35.828128",
     "exception": false,
     "start_time": "2020-12-17T13:41:35.778671",
     "status": "completed"
    },
    "tags": []
   },
   "source": [
    "## BERT\n",
    "\n",
    "### Single Model"
   ]
  },
  {
   "cell_type": "code",
   "execution_count": 41,
   "metadata": {
    "execution": {
     "iopub.execute_input": "2020-12-17T13:41:35.974383Z",
     "iopub.status.busy": "2020-12-17T13:41:35.973392Z",
     "iopub.status.idle": "2020-12-17T13:41:37.343897Z",
     "shell.execute_reply": "2020-12-17T13:41:37.343468Z"
    },
    "papermill": {
     "duration": 1.462351,
     "end_time": "2020-12-17T13:41:37.343996",
     "exception": false,
     "start_time": "2020-12-17T13:41:35.881645",
     "status": "completed"
    },
    "tags": []
   },
   "outputs": [
    {
     "data": {
      "application/vnd.jupyter.widget-view+json": {
       "model_id": "03d6d25387eb4b0883680a7a6cb1a5d4",
       "version_major": 2,
       "version_minor": 0
      },
      "text/plain": [
       "HBox(children=(FloatProgress(value=0.0, description='Downloading', max=213450.0, style=ProgressStyle(descripti…"
      ]
     },
     "metadata": {},
     "output_type": "display_data"
    },
    {
     "name": "stdout",
     "output_type": "stream",
     "text": [
      "\n"
     ]
    }
   ],
   "source": [
    "BERT_MODEL_NAME = 'bert-base-cased'\n",
    "bert_tokenizer = BertTokenizer.from_pretrained(BERT_MODEL_NAME)"
   ]
  },
  {
   "cell_type": "code",
   "execution_count": 42,
   "metadata": {
    "execution": {
     "iopub.execute_input": "2020-12-17T13:41:37.460024Z",
     "iopub.status.busy": "2020-12-17T13:41:37.459146Z",
     "iopub.status.idle": "2020-12-17T13:41:37.461637Z",
     "shell.execute_reply": "2020-12-17T13:41:37.462227Z"
    },
    "papermill": {
     "duration": 0.065213,
     "end_time": "2020-12-17T13:41:37.462344",
     "exception": false,
     "start_time": "2020-12-17T13:41:37.397131",
     "status": "completed"
    },
    "tags": []
   },
   "outputs": [],
   "source": [
    "bert_train_ds = create_dataset(df_train, bert_tokenizer, MAX_LENGTH)\n",
    "bert_test_ds = create_dataset(df_test, bert_tokenizer, MAX_LENGTH)\n",
    "bert_val_ds = create_dataset(df_val, bert_tokenizer, MAX_LENGTH)\n",
    "\n",
    "bert_train_dataloader = create_dataloader(bert_train_ds, BATCH_SIZE)\n",
    "bert_test_dataloader = create_dataloader(bert_test_ds, BATCH_SIZE)\n",
    "bert_val_dataloader = create_dataloader(bert_val_ds, BATCH_SIZE)"
   ]
  },
  {
   "cell_type": "code",
   "execution_count": 43,
   "metadata": {
    "execution": {
     "iopub.execute_input": "2020-12-17T13:41:37.578945Z",
     "iopub.status.busy": "2020-12-17T13:41:37.578145Z",
     "iopub.status.idle": "2020-12-17T13:41:37.580819Z",
     "shell.execute_reply": "2020-12-17T13:41:37.580406Z"
    },
    "papermill": {
     "duration": 0.064169,
     "end_time": "2020-12-17T13:41:37.580919",
     "exception": false,
     "start_time": "2020-12-17T13:41:37.516750",
     "status": "completed"
    },
    "tags": []
   },
   "outputs": [],
   "source": [
    "class BERTSentimentClassifier(nn.Module):\n",
    "    def __init__(self, n_classes):\n",
    "        super(BERTSentimentClassifier, self).__init__()\n",
    "        self.model = BertModel.from_pretrained(BERT_MODEL_NAME)\n",
    "        self.drop = nn.Dropout(DROPOUT_PROB)\n",
    "        self.output = nn.Linear(self.model.config.hidden_size, n_classes)\n",
    "        \n",
    "    def forward(self, input_ids, attention_mask):\n",
    "        _, pooled_output = self.model(\n",
    "            input_ids = input_ids,\n",
    "            attention_mask=attention_mask\n",
    "        )\n",
    "\n",
    "        output = self.drop(pooled_output)\n",
    "        \n",
    "        return self.output(output)"
   ]
  },
  {
   "cell_type": "code",
   "execution_count": 44,
   "metadata": {
    "execution": {
     "iopub.execute_input": "2020-12-17T13:41:37.694143Z",
     "iopub.status.busy": "2020-12-17T13:41:37.692010Z",
     "iopub.status.idle": "2020-12-17T13:42:04.467442Z",
     "shell.execute_reply": "2020-12-17T13:42:04.466500Z"
    },
    "papermill": {
     "duration": 26.833087,
     "end_time": "2020-12-17T13:42:04.467569",
     "exception": false,
     "start_time": "2020-12-17T13:41:37.634482",
     "status": "completed"
    },
    "tags": []
   },
   "outputs": [
    {
     "data": {
      "application/vnd.jupyter.widget-view+json": {
       "model_id": "24030e20b08f4f2db2383b4150ea1582",
       "version_major": 2,
       "version_minor": 0
      },
      "text/plain": [
       "HBox(children=(FloatProgress(value=0.0, description='Downloading', max=433.0, style=ProgressStyle(description_…"
      ]
     },
     "metadata": {},
     "output_type": "display_data"
    },
    {
     "name": "stdout",
     "output_type": "stream",
     "text": [
      "\n"
     ]
    },
    {
     "data": {
      "application/vnd.jupyter.widget-view+json": {
       "model_id": "cd712c7de4c74c2c832dbffc705a21d7",
       "version_major": 2,
       "version_minor": 0
      },
      "text/plain": [
       "HBox(children=(FloatProgress(value=0.0, description='Downloading', max=435779157.0, style=ProgressStyle(descri…"
      ]
     },
     "metadata": {},
     "output_type": "display_data"
    },
    {
     "name": "stdout",
     "output_type": "stream",
     "text": [
      "\n"
     ]
    }
   ],
   "source": [
    "bert_model = BERTSentimentClassifier(NUM_CLASSES)\n",
    "bert_model = bert_model.to(device)"
   ]
  },
  {
   "cell_type": "code",
   "execution_count": 45,
   "metadata": {
    "execution": {
     "iopub.execute_input": "2020-12-17T13:42:04.580161Z",
     "iopub.status.busy": "2020-12-17T13:42:04.579314Z",
     "iopub.status.idle": "2020-12-17T13:42:04.581920Z",
     "shell.execute_reply": "2020-12-17T13:42:04.581475Z"
    },
    "papermill": {
     "duration": 0.061488,
     "end_time": "2020-12-17T13:42:04.582007",
     "exception": false,
     "start_time": "2020-12-17T13:42:04.520519",
     "status": "completed"
    },
    "tags": []
   },
   "outputs": [],
   "source": [
    "training_steps = len(bert_train_dataloader.dataset) * EPOCHS\n",
    "\n",
    "bert_optimizer = AdamW(bert_model.parameters(), \n",
    "                       lr=LEARNING_RATE, \n",
    "                       weight_decay=WEIGHT_DECAY, \n",
    "                       correct_bias=True)\n",
    "\n",
    "warmup_steps = int(0.1 * training_steps)\n",
    "bert_scheduler = get_linear_schedule_with_warmup(bert_optimizer, \n",
    "                                                 num_warmup_steps=warmup_steps, \n",
    "                                                 num_training_steps=training_steps)"
   ]
  },
  {
   "cell_type": "code",
   "execution_count": 46,
   "metadata": {
    "execution": {
     "iopub.execute_input": "2020-12-17T13:42:04.695545Z",
     "iopub.status.busy": "2020-12-17T13:42:04.694829Z",
     "iopub.status.idle": "2020-12-17T13:44:59.008009Z",
     "shell.execute_reply": "2020-12-17T13:44:59.008627Z"
    },
    "papermill": {
     "duration": 174.37433,
     "end_time": "2020-12-17T13:44:59.008793",
     "exception": false,
     "start_time": "2020-12-17T13:42:04.634463",
     "status": "completed"
    },
    "tags": []
   },
   "outputs": [
    {
     "name": "stdout",
     "output_type": "stream",
     "text": [
      "Epoch  1 / 5\n",
      "--------------------------------------------------\n",
      "Train Loss:  0.9926277940923517  |  Train Accuracy:  0.4981921487603306\n",
      "Val Loss:  0.7699596381956532  |  Val Accuracy:  0.6735537190082644\n",
      "Epoch Train Time:  0:00:35\n",
      "\n",
      "\n",
      "Epoch  2 / 5\n",
      "--------------------------------------------------\n",
      "Train Loss:  0.6985195621478656  |  Train Accuracy:  0.6934400826446281\n",
      "Val Loss:  0.5261421915023557  |  Val Accuracy:  0.7975206611570248\n",
      "Epoch Train Time:  0:00:35\n",
      "\n",
      "\n",
      "Epoch  3 / 5\n",
      "--------------------------------------------------\n",
      "Train Loss:  0.45097066311181083  |  Train Accuracy:  0.8316115702479339\n",
      "Val Loss:  0.3488022932602513  |  Val Accuracy:  0.8657024793388429\n",
      "Epoch Train Time:  0:00:35\n",
      "\n",
      "\n",
      "Epoch  4 / 5\n",
      "--------------------------------------------------\n",
      "Train Loss:  0.2888139240474494  |  Train Accuracy:  0.8954028925619835\n",
      "Val Loss:  0.35467278236343014  |  Val Accuracy:  0.878099173553719\n",
      "Epoch Train Time:  0:00:34\n",
      "\n",
      "\n",
      "Epoch  5 / 5\n",
      "--------------------------------------------------\n",
      "Train Loss:  0.1969090861822517  |  Train Accuracy:  0.9331095041322314\n",
      "Val Loss:  0.4309984883894363  |  Val Accuracy:  0.8553719008264463\n",
      "Epoch Train Time:  0:00:33\n",
      "\n",
      "\n",
      "Finished Training.\n",
      "Fold Train Time:  0:02:53\n",
      "\n",
      "\n",
      "[[ 51   7   3]\n",
      " [  7 261  19]\n",
      " [  1  28 107]]\n",
      "\n",
      "              precision    recall  f1-score   support\n",
      "\n",
      "    negative      0.864     0.836     0.850        61\n",
      "     neutral      0.882     0.909     0.895       287\n",
      "    positive      0.829     0.787     0.808       136\n",
      "\n",
      "    accuracy                          0.866       484\n",
      "   macro avg      0.859     0.844     0.851       484\n",
      "weighted avg      0.865     0.866     0.865       484\n",
      "\n"
     ]
    }
   ],
   "source": [
    "bert_single_model_items = train_fold(epochs=EPOCHS, \n",
    "                                     model=bert_model, \n",
    "                                     device=device, \n",
    "                                     train_dataloader=bert_train_dataloader, \n",
    "                                     val_dataloader=bert_val_dataloader,\n",
    "                                     test_dataloader=bert_test_dataloader,\n",
    "                                     loss_fn=loss_function,\n",
    "                                     optimizer=bert_optimizer,\n",
    "                                     scheduler=bert_scheduler,\n",
    "                                     model_save_name='bert_best_model.bin',\n",
    "                                     n_train=len(df_train),\n",
    "                                     n_val=len(df_val),\n",
    "                                     single_model=True\n",
    "                                    )"
   ]
  },
  {
   "cell_type": "markdown",
   "metadata": {
    "papermill": {
     "duration": 0.055351,
     "end_time": "2020-12-17T13:44:59.119458",
     "exception": false,
     "start_time": "2020-12-17T13:44:59.064107",
     "status": "completed"
    },
    "tags": []
   },
   "source": [
    "### 10-Fold CV"
   ]
  },
  {
   "cell_type": "code",
   "execution_count": 47,
   "metadata": {
    "execution": {
     "iopub.execute_input": "2020-12-17T13:44:59.246465Z",
     "iopub.status.busy": "2020-12-17T13:44:59.244978Z",
     "iopub.status.idle": "2020-12-17T14:14:50.821707Z",
     "shell.execute_reply": "2020-12-17T14:14:50.821249Z"
    },
    "papermill": {
     "duration": 1791.644878,
     "end_time": "2020-12-17T14:14:50.821816",
     "exception": false,
     "start_time": "2020-12-17T13:44:59.176938",
     "status": "completed"
    },
    "tags": []
   },
   "outputs": [
    {
     "name": "stdout",
     "output_type": "stream",
     "text": [
      "Fold: 1\n",
      "Epoch  1 / 5\n",
      "--------------------------------------------------\n",
      "Train Loss:  0.9999292215522455  |  Train Accuracy:  0.5099489795918367\n",
      "Val Loss:  0.8584627445255008  |  Val Accuracy:  0.6192660550458715\n",
      "Epoch Train Time:  0:00:34\n",
      "\n",
      "\n",
      "Epoch  2 / 5\n",
      "--------------------------------------------------\n",
      "Train Loss:  0.7108871262900683  |  Train Accuracy:  0.6910714285714286\n",
      "Val Loss:  0.46267955005168915  |  Val Accuracy:  0.8142201834862385\n",
      "Epoch Train Time:  0:00:36\n",
      "\n",
      "\n",
      "Epoch  3 / 5\n",
      "--------------------------------------------------\n",
      "Train Loss:  0.41067103086685647  |  Train Accuracy:  0.8441326530612245\n",
      "Val Loss:  0.36391209731144564  |  Val Accuracy:  0.8440366972477065\n",
      "Epoch Train Time:  0:00:36\n",
      "\n",
      "\n",
      "Epoch  4 / 5\n",
      "--------------------------------------------------\n",
      "Train Loss:  0.2846046985108025  |  Train Accuracy:  0.8987244897959183\n",
      "Val Loss:  0.39975788683763575  |  Val Accuracy:  0.8463302752293578\n",
      "Epoch Train Time:  0:00:35\n",
      "\n",
      "\n",
      "Epoch  5 / 5\n",
      "--------------------------------------------------\n",
      "Train Loss:  0.19507535260968975  |  Train Accuracy:  0.9359693877551021\n",
      "Val Loss:  0.4937733236168112  |  Val Accuracy:  0.8440366972477065\n",
      "Epoch Train Time:  0:00:34\n",
      "\n",
      "\n",
      "Finished Training.\n",
      "Fold Train Time:  0:02:55\n",
      "\n",
      "\n",
      "Fold: 2\n",
      "Epoch  1 / 5\n",
      "--------------------------------------------------\n",
      "Train Loss:  0.9345976464602412  |  Train Accuracy:  0.5737244897959184\n",
      "Val Loss:  0.8188195207289287  |  Val Accuracy:  0.6261467889908257\n",
      "Epoch Train Time:  0:00:35\n",
      "\n",
      "\n",
      "Epoch  2 / 5\n",
      "--------------------------------------------------\n",
      "Train Loss:  0.6669314816290018  |  Train Accuracy:  0.727295918367347\n",
      "Val Loss:  0.4623934823487486  |  Val Accuracy:  0.8279816513761468\n",
      "Epoch Train Time:  0:00:36\n",
      "\n",
      "\n",
      "Epoch  3 / 5\n",
      "--------------------------------------------------\n",
      "Train Loss:  0.40570712250714397  |  Train Accuracy:  0.85\n",
      "Val Loss:  0.45311605504580904  |  Val Accuracy:  0.8027522935779816\n",
      "Epoch Train Time:  0:00:34\n",
      "\n",
      "\n",
      "Epoch  4 / 5\n",
      "--------------------------------------------------\n",
      "Train Loss:  0.2888744635165346  |  Train Accuracy:  0.8979591836734694\n",
      "Val Loss:  0.523078258282372  |  Val Accuracy:  0.8004587155963303\n",
      "Epoch Train Time:  0:00:34\n",
      "\n",
      "\n",
      "Epoch  5 / 5\n",
      "--------------------------------------------------\n",
      "Train Loss:  0.21095634112704773  |  Train Accuracy:  0.9311224489795918\n",
      "Val Loss:  0.6171338956004807  |  Val Accuracy:  0.8096330275229358\n",
      "Epoch Train Time:  0:00:34\n",
      "\n",
      "\n",
      "Finished Training.\n",
      "Fold Train Time:  0:02:52\n",
      "\n",
      "\n",
      "Fold: 3\n",
      "Epoch  1 / 5\n",
      "--------------------------------------------------\n",
      "Train Loss:  0.9213710804374851  |  Train Accuracy:  0.5989795918367347\n",
      "Val Loss:  0.7956806165831429  |  Val Accuracy:  0.6536697247706422\n",
      "Epoch Train Time:  0:00:34\n",
      "\n",
      "\n",
      "Epoch  2 / 5\n",
      "--------------------------------------------------\n",
      "Train Loss:  0.6903735130417104  |  Train Accuracy:  0.7198979591836735\n",
      "Val Loss:  0.4809222476822989  |  Val Accuracy:  0.8302752293577982\n",
      "Epoch Train Time:  0:00:36\n",
      "\n",
      "\n",
      "Epoch  3 / 5\n",
      "--------------------------------------------------\n",
      "Train Loss:  0.416341229087236  |  Train Accuracy:  0.8530612244897959\n",
      "Val Loss:  0.39198250682758434  |  Val Accuracy:  0.8486238532110092\n",
      "Epoch Train Time:  0:00:35\n",
      "\n",
      "\n",
      "Epoch  4 / 5\n",
      "--------------------------------------------------\n",
      "Train Loss:  0.29192186214638  |  Train Accuracy:  0.8964285714285715\n",
      "Val Loss:  0.5029587112699768  |  Val Accuracy:  0.8371559633027523\n",
      "Epoch Train Time:  0:00:34\n",
      "\n",
      "\n",
      "Epoch  5 / 5\n",
      "--------------------------------------------------\n",
      "Train Loss:  0.2087875788689268  |  Train Accuracy:  0.9349489795918368\n",
      "Val Loss:  0.5841947893204633  |  Val Accuracy:  0.8348623853211009\n",
      "Epoch Train Time:  0:00:34\n",
      "\n",
      "\n",
      "Finished Training.\n",
      "Fold Train Time:  0:02:53\n",
      "\n",
      "\n",
      "Fold: 4\n",
      "Epoch  1 / 5\n",
      "--------------------------------------------------\n",
      "Train Loss:  1.052338447862742  |  Train Accuracy:  0.42117346938775513\n",
      "Val Loss:  0.8271592600005013  |  Val Accuracy:  0.6674311926605505\n",
      "Epoch Train Time:  0:00:34\n",
      "\n",
      "\n",
      "Epoch  2 / 5\n",
      "--------------------------------------------------\n",
      "Train Loss:  0.6977955611384645  |  Train Accuracy:  0.698469387755102\n",
      "Val Loss:  0.49657433160713743  |  Val Accuracy:  0.8165137614678899\n",
      "Epoch Train Time:  0:00:36\n",
      "\n",
      "\n",
      "Epoch  3 / 5\n",
      "--------------------------------------------------\n",
      "Train Loss:  0.4135621431530738  |  Train Accuracy:  0.851530612244898\n",
      "Val Loss:  0.356155415730817  |  Val Accuracy:  0.8532110091743119\n",
      "Epoch Train Time:  0:00:35\n",
      "\n",
      "\n",
      "Epoch  4 / 5\n",
      "--------------------------------------------------\n",
      "Train Loss:  0.2924841744407099  |  Train Accuracy:  0.8954081632653061\n",
      "Val Loss:  0.4450040640575545  |  Val Accuracy:  0.8348623853211009\n",
      "Epoch Train Time:  0:00:34\n",
      "\n",
      "\n",
      "Epoch  5 / 5\n",
      "--------------------------------------------------\n",
      "Train Loss:  0.1971519097267669  |  Train Accuracy:  0.9380102040816326\n",
      "Val Loss:  0.47097229392134715  |  Val Accuracy:  0.8371559633027523\n",
      "Epoch Train Time:  0:00:34\n",
      "\n",
      "\n",
      "Finished Training.\n",
      "Fold Train Time:  0:02:52\n",
      "\n",
      "\n",
      "Fold: 5\n",
      "Epoch  1 / 5\n",
      "--------------------------------------------------\n",
      "Train Loss:  1.0251260618774258  |  Train Accuracy:  0.4813775510204082\n",
      "Val Loss:  0.858852703656469  |  Val Accuracy:  0.6444954128440367\n",
      "Epoch Train Time:  0:00:34\n",
      "\n",
      "\n",
      "Epoch  2 / 5\n",
      "--------------------------------------------------\n",
      "Train Loss:  0.7455800855646328  |  Train Accuracy:  0.6910714285714286\n",
      "Val Loss:  0.6181946476655347  |  Val Accuracy:  0.7201834862385321\n",
      "Epoch Train Time:  0:00:35\n",
      "\n",
      "\n",
      "Epoch  3 / 5\n",
      "--------------------------------------------------\n",
      "Train Loss:  0.4870189345612818  |  Train Accuracy:  0.8183673469387756\n",
      "Val Loss:  0.44175437678183826  |  Val Accuracy:  0.8302752293577982\n",
      "Epoch Train Time:  0:00:35\n",
      "\n",
      "\n",
      "Epoch  4 / 5\n",
      "--------------------------------------------------\n",
      "Train Loss:  0.3162318636948357  |  Train Accuracy:  0.8895408163265306\n",
      "Val Loss:  0.4301317738635199  |  Val Accuracy:  0.8394495412844036\n",
      "Epoch Train Time:  0:00:35\n",
      "\n",
      "\n",
      "Epoch  5 / 5\n",
      "--------------------------------------------------\n",
      "Train Loss:  0.22683983464934387  |  Train Accuracy:  0.9255102040816326\n",
      "Val Loss:  0.494047970111881  |  Val Accuracy:  0.8463302752293578\n",
      "Epoch Train Time:  0:00:35\n",
      "\n",
      "\n",
      "Finished Training.\n",
      "Fold Train Time:  0:02:55\n",
      "\n",
      "\n",
      "Fold: 6\n",
      "Epoch  1 / 5\n",
      "--------------------------------------------------\n",
      "Train Loss:  1.0997779293936125  |  Train Accuracy:  0.45357142857142857\n",
      "Val Loss:  0.89374150122915  |  Val Accuracy:  0.5871559633027523\n",
      "Epoch Train Time:  0:00:35\n",
      "\n",
      "\n",
      "Epoch  2 / 5\n",
      "--------------------------------------------------\n",
      "Train Loss:  0.829029139328976  |  Train Accuracy:  0.6459183673469387\n",
      "Val Loss:  0.6895696574023792  |  Val Accuracy:  0.7155963302752294\n",
      "Epoch Train Time:  0:00:36\n",
      "\n",
      "\n",
      "Epoch  3 / 5\n",
      "--------------------------------------------------\n",
      "Train Loss:  0.6205985891575716  |  Train Accuracy:  0.7512755102040817\n",
      "Val Loss:  0.5030180471284049  |  Val Accuracy:  0.7912844036697247\n",
      "Epoch Train Time:  0:00:35\n",
      "\n",
      "\n",
      "Epoch  4 / 5\n",
      "--------------------------------------------------\n",
      "Train Loss:  0.378511843085289  |  Train Accuracy:  0.860204081632653\n",
      "Val Loss:  0.4754963205861194  |  Val Accuracy:  0.8119266055045872\n",
      "Epoch Train Time:  0:00:35\n",
      "\n",
      "\n",
      "Epoch  5 / 5\n",
      "--------------------------------------------------\n",
      "Train Loss:  0.2547986825205842  |  Train Accuracy:  0.9102040816326531\n",
      "Val Loss:  0.636056660009282  |  Val Accuracy:  0.8027522935779816\n",
      "Epoch Train Time:  0:00:34\n",
      "\n",
      "\n",
      "Finished Training.\n",
      "Fold Train Time:  0:02:55\n",
      "\n",
      "\n",
      "Fold: 7\n",
      "Epoch  1 / 5\n",
      "--------------------------------------------------\n",
      "Train Loss:  1.0170104491516827  |  Train Accuracy:  0.47691915327722517\n",
      "Val Loss:  0.778747840651444  |  Val Accuracy:  0.6988505747126437\n",
      "Epoch Train Time:  0:00:34\n",
      "\n",
      "\n",
      "Epoch  2 / 5\n",
      "--------------------------------------------------\n",
      "Train Loss:  0.636195521165685  |  Train Accuracy:  0.73578168834481\n",
      "Val Loss:  0.36247200199535917  |  Val Accuracy:  0.871264367816092\n",
      "Epoch Train Time:  0:00:36\n",
      "\n",
      "\n",
      "Epoch  3 / 5\n",
      "--------------------------------------------------\n",
      "Train Loss:  0.37801189293585175  |  Train Accuracy:  0.8553940321346595\n",
      "Val Loss:  0.29027324608926264  |  Val Accuracy:  0.8781609195402299\n",
      "Epoch Train Time:  0:00:35\n",
      "\n",
      "\n",
      "Epoch  4 / 5\n",
      "--------------------------------------------------\n",
      "Train Loss:  0.2746573205113532  |  Train Accuracy:  0.8982402448355011\n",
      "Val Loss:  0.3181372472484197  |  Val Accuracy:  0.8735632183908046\n",
      "Epoch Train Time:  0:00:34\n",
      "\n",
      "\n",
      "Epoch  5 / 5\n",
      "--------------------------------------------------\n",
      "Train Loss:  0.20155315326973494  |  Train Accuracy:  0.9347105330272889\n",
      "Val Loss:  0.39540174127822475  |  Val Accuracy:  0.864367816091954\n",
      "Epoch Train Time:  0:00:34\n",
      "\n",
      "\n",
      "Finished Training.\n",
      "Fold Train Time:  0:02:53\n",
      "\n",
      "\n",
      "Fold: 8\n",
      "Epoch  1 / 5\n",
      "--------------------------------------------------\n",
      "Train Loss:  0.955704080864666  |  Train Accuracy:  0.5666921703647029\n",
      "Val Loss:  0.823146002633231  |  Val Accuracy:  0.6459770114942529\n",
      "Epoch Train Time:  0:00:34\n",
      "\n",
      "\n",
      "Epoch  2 / 5\n",
      "--------------------------------------------------\n",
      "Train Loss:  0.7386045431703087  |  Train Accuracy:  0.677123182861515\n",
      "Val Loss:  0.6294610149094036  |  Val Accuracy:  0.7080459770114943\n",
      "Epoch Train Time:  0:00:36\n",
      "\n",
      "\n",
      "Epoch  3 / 5\n",
      "--------------------------------------------------\n",
      "Train Loss:  0.5247814634708854  |  Train Accuracy:  0.794440193828105\n",
      "Val Loss:  0.43618215886609896  |  Val Accuracy:  0.8413793103448276\n",
      "Epoch Train Time:  0:00:35\n",
      "\n",
      "\n",
      "Epoch  4 / 5\n",
      "--------------------------------------------------\n",
      "Train Loss:  0.3304187456463895  |  Train Accuracy:  0.8788574343279776\n",
      "Val Loss:  0.4277239294190492  |  Val Accuracy:  0.8436781609195402\n",
      "Epoch Train Time:  0:00:36\n",
      "\n",
      "\n",
      "Epoch  5 / 5\n",
      "--------------------------------------------------\n",
      "Train Loss:  0.21426373596749898  |  Train Accuracy:  0.9293547564396838\n",
      "Val Loss:  0.5886189551757914  |  Val Accuracy:  0.8160919540229885\n",
      "Epoch Train Time:  0:00:34\n",
      "\n",
      "\n",
      "Finished Training.\n",
      "Fold Train Time:  0:02:55\n",
      "\n",
      "\n",
      "Fold: 9\n",
      "Epoch  1 / 5\n",
      "--------------------------------------------------\n",
      "Train Loss:  1.1189072236297577  |  Train Accuracy:  0.38791124713083397\n",
      "Val Loss:  0.874615518110139  |  Val Accuracy:  0.6160919540229886\n",
      "Epoch Train Time:  0:00:35\n",
      "\n",
      "\n",
      "Epoch  2 / 5\n",
      "--------------------------------------------------\n",
      "Train Loss:  0.8409783780817094  |  Train Accuracy:  0.6350420811017597\n",
      "Val Loss:  0.7235026976891926  |  Val Accuracy:  0.671264367816092\n",
      "Epoch Train Time:  0:00:36\n",
      "\n",
      "\n",
      "Epoch  3 / 5\n",
      "--------------------------------------------------\n",
      "Train Loss:  0.698390653462914  |  Train Accuracy:  0.6998214741137465\n",
      "Val Loss:  0.5696227316345487  |  Val Accuracy:  0.735632183908046\n",
      "Epoch Train Time:  0:00:36\n",
      "\n",
      "\n",
      "Epoch  4 / 5\n",
      "--------------------------------------------------\n",
      "Train Loss:  0.485260033783147  |  Train Accuracy:  0.8133129303749044\n",
      "Val Loss:  0.4793555744524513  |  Val Accuracy:  0.8160919540229885\n",
      "Epoch Train Time:  0:00:36\n",
      "\n",
      "\n",
      "Epoch  5 / 5\n",
      "--------------------------------------------------\n",
      "Train Loss:  0.3275636572890529  |  Train Accuracy:  0.8890589135424637\n",
      "Val Loss:  0.4544459130348904  |  Val Accuracy:  0.8344827586206897\n",
      "Epoch Train Time:  0:00:36\n",
      "\n",
      "\n",
      "Finished Training.\n",
      "Fold Train Time:  0:02:58\n",
      "\n",
      "\n",
      "Fold: 10\n",
      "Epoch  1 / 5\n",
      "--------------------------------------------------\n",
      "Train Loss:  1.1023596711759645  |  Train Accuracy:  0.42132109155827596\n",
      "Val Loss:  0.8526156800133842  |  Val Accuracy:  0.6620689655172414\n",
      "Epoch Train Time:  0:00:35\n",
      "\n",
      "\n",
      "Epoch  2 / 5\n",
      "--------------------------------------------------\n",
      "Train Loss:  0.7456814743639008  |  Train Accuracy:  0.6863045141545524\n",
      "Val Loss:  0.6300467806203025  |  Val Accuracy:  0.7471264367816092\n",
      "Epoch Train Time:  0:00:36\n",
      "\n",
      "\n",
      "Epoch  3 / 5\n",
      "--------------------------------------------------\n",
      "Train Loss:  0.5231424754228049  |  Train Accuracy:  0.7895944912012242\n",
      "Val Loss:  0.43163172687803  |  Val Accuracy:  0.8620689655172413\n",
      "Epoch Train Time:  0:00:35\n",
      "\n",
      "\n",
      "Epoch  4 / 5\n",
      "--------------------------------------------------\n",
      "Train Loss:  0.31764412206423476  |  Train Accuracy:  0.8854883958173935\n",
      "Val Loss:  0.4274303929081985  |  Val Accuracy:  0.8436781609195402\n",
      "Epoch Train Time:  0:00:34\n",
      "\n",
      "\n",
      "Epoch  5 / 5\n",
      "--------------------------------------------------\n",
      "Train Loss:  0.20287911434907738  |  Train Accuracy:  0.9301198673807702\n",
      "Val Loss:  0.493438404585634  |  Val Accuracy:  0.864367816091954\n",
      "Epoch Train Time:  0:00:35\n",
      "\n",
      "\n",
      "Finished Training.\n",
      "Fold Train Time:  0:02:55\n",
      "\n",
      "\n",
      "10 Fold CV Train Time:  0:29:52\n"
     ]
    }
   ],
   "source": [
    "bert_history, bert_test_outputs = get_oof_and_test_preds(model_type='bert', \n",
    "                                                         tokenizer=bert_tokenizer, \n",
    "                                                         train_df=df_train_full, \n",
    "                                                         test_df=df_test,\n",
    "                                                         single_model=False)"
   ]
  },
  {
   "cell_type": "code",
   "execution_count": 48,
   "metadata": {
    "execution": {
     "iopub.execute_input": "2020-12-17T14:14:50.988312Z",
     "iopub.status.busy": "2020-12-17T14:14:50.980114Z",
     "iopub.status.idle": "2020-12-17T14:14:50.998733Z",
     "shell.execute_reply": "2020-12-17T14:14:50.999142Z"
    },
    "papermill": {
     "duration": 0.101973,
     "end_time": "2020-12-17T14:14:50.999278",
     "exception": false,
     "start_time": "2020-12-17T14:14:50.897305",
     "status": "completed"
    },
    "tags": []
   },
   "outputs": [
    {
     "name": "stdout",
     "output_type": "stream",
     "text": [
      "[[ 54   5   2]\n",
      " [  6 259  22]\n",
      " [  1  17 118]]\n",
      "\n",
      "              precision    recall  f1-score   support\n",
      "\n",
      "    negative      0.885     0.885     0.885        61\n",
      "     neutral      0.922     0.902     0.912       287\n",
      "    positive      0.831     0.868     0.849       136\n",
      "\n",
      "    accuracy                          0.890       484\n",
      "   macro avg      0.879     0.885     0.882       484\n",
      "weighted avg      0.892     0.890     0.891       484\n",
      "\n"
     ]
    }
   ],
   "source": [
    "cv_ensemble_performance(bert_test_outputs, df_test['sentiment'].values)"
   ]
  },
  {
   "cell_type": "markdown",
   "metadata": {
    "papermill": {
     "duration": 0.074562,
     "end_time": "2020-12-17T14:14:51.148408",
     "exception": false,
     "start_time": "2020-12-17T14:14:51.073846",
     "status": "completed"
    },
    "tags": []
   },
   "source": [
    "## DistilBERT\n",
    "### Single Model"
   ]
  },
  {
   "cell_type": "code",
   "execution_count": 49,
   "metadata": {
    "execution": {
     "iopub.execute_input": "2020-12-17T14:14:51.303439Z",
     "iopub.status.busy": "2020-12-17T14:14:51.302852Z",
     "iopub.status.idle": "2020-12-17T14:14:52.657805Z",
     "shell.execute_reply": "2020-12-17T14:14:52.658402Z"
    },
    "papermill": {
     "duration": 1.435704,
     "end_time": "2020-12-17T14:14:52.658533",
     "exception": false,
     "start_time": "2020-12-17T14:14:51.222829",
     "status": "completed"
    },
    "tags": []
   },
   "outputs": [
    {
     "data": {
      "application/vnd.jupyter.widget-view+json": {
       "model_id": "b28940fb3f884e6ea4ca727ca7ad9684",
       "version_major": 2,
       "version_minor": 0
      },
      "text/plain": [
       "HBox(children=(FloatProgress(value=0.0, description='Downloading', max=231508.0, style=ProgressStyle(descripti…"
      ]
     },
     "metadata": {},
     "output_type": "display_data"
    },
    {
     "name": "stdout",
     "output_type": "stream",
     "text": [
      "\n"
     ]
    }
   ],
   "source": [
    "DISTILBERT_MODEL_NAME = 'distilbert-base-uncased'\n",
    "distilbert_tokenizer = DistilBertTokenizer.from_pretrained(DISTILBERT_MODEL_NAME)"
   ]
  },
  {
   "cell_type": "code",
   "execution_count": 50,
   "metadata": {
    "execution": {
     "iopub.execute_input": "2020-12-17T14:14:54.250462Z",
     "iopub.status.busy": "2020-12-17T14:14:54.248622Z",
     "iopub.status.idle": "2020-12-17T14:14:54.251134Z",
     "shell.execute_reply": "2020-12-17T14:14:54.251561Z"
    },
    "papermill": {
     "duration": 1.512548,
     "end_time": "2020-12-17T14:14:54.251682",
     "exception": false,
     "start_time": "2020-12-17T14:14:52.739134",
     "status": "completed"
    },
    "tags": []
   },
   "outputs": [],
   "source": [
    "distilbert_train_ds = create_dataset(df_train, distilbert_tokenizer, MAX_LENGTH)\n",
    "distilbert_test_ds = create_dataset(df_test, distilbert_tokenizer, MAX_LENGTH)\n",
    "distilbert_val_ds = create_dataset(df_val, distilbert_tokenizer, MAX_LENGTH)\n",
    "\n",
    "distilbert_train_dataloader = create_dataloader(distilbert_train_ds, BATCH_SIZE)\n",
    "distilbert_test_dataloader = create_dataloader(distilbert_test_ds, BATCH_SIZE)\n",
    "distilbert_val_dataloader = create_dataloader(distilbert_val_ds, BATCH_SIZE)"
   ]
  },
  {
   "cell_type": "code",
   "execution_count": 51,
   "metadata": {
    "execution": {
     "iopub.execute_input": "2020-12-17T14:14:54.413651Z",
     "iopub.status.busy": "2020-12-17T14:14:54.412903Z",
     "iopub.status.idle": "2020-12-17T14:14:54.415600Z",
     "shell.execute_reply": "2020-12-17T14:14:54.415167Z"
    },
    "papermill": {
     "duration": 0.087701,
     "end_time": "2020-12-17T14:14:54.415708",
     "exception": false,
     "start_time": "2020-12-17T14:14:54.328007",
     "status": "completed"
    },
    "tags": []
   },
   "outputs": [],
   "source": [
    "class DistilBertForSequenceClassification(nn.Module):\n",
    "\n",
    "    def __init__(self, pretrained_model_name, num_classes):\n",
    "\n",
    "        super().__init__()\n",
    "\n",
    "        config = AutoConfig.from_pretrained(pretrained_model_name, num_labels=num_classes)\n",
    "\n",
    "        self.distilbert = AutoModel.from_pretrained(pretrained_model_name, config=config)\n",
    "        self.pre_classifier = nn.Linear(config.dim, config.dim)\n",
    "        self.classifier = nn.Linear(config.dim, num_classes)\n",
    "        self.dropout = nn.Dropout(config.seq_classif_dropout)\n",
    "\n",
    "    def forward(self, input_ids, attention_mask=None, head_mask=None):\n",
    "\n",
    "        assert attention_mask is not None, \"No Attention Mask\"\n",
    "        distilbert_output = self.distilbert(input_ids=input_ids,\n",
    "                                            attention_mask=attention_mask,\n",
    "                                            head_mask=head_mask)\n",
    "\n",
    "        hidden_state = distilbert_output[0]  \n",
    "        pooled_output = hidden_state[:, 0] \n",
    "        pooled_output = self.pre_classifier(pooled_output)  \n",
    "        pooled_output = nn.ReLU()(pooled_output)  \n",
    "        pooled_output = self.dropout(pooled_output)  \n",
    "        logits = self.classifier(pooled_output)  \n",
    "\n",
    "        return logits"
   ]
  },
  {
   "cell_type": "code",
   "execution_count": 52,
   "metadata": {
    "execution": {
     "iopub.execute_input": "2020-12-17T14:14:54.575242Z",
     "iopub.status.busy": "2020-12-17T14:14:54.574720Z",
     "iopub.status.idle": "2020-12-17T14:15:04.373878Z",
     "shell.execute_reply": "2020-12-17T14:15:04.372819Z"
    },
    "papermill": {
     "duration": 9.881442,
     "end_time": "2020-12-17T14:15:04.374004",
     "exception": false,
     "start_time": "2020-12-17T14:14:54.492562",
     "status": "completed"
    },
    "tags": []
   },
   "outputs": [
    {
     "data": {
      "application/vnd.jupyter.widget-view+json": {
       "model_id": "ab414fc0f7a1421e94c926b6895a6e01",
       "version_major": 2,
       "version_minor": 0
      },
      "text/plain": [
       "HBox(children=(FloatProgress(value=0.0, description='Downloading', max=442.0, style=ProgressStyle(description_…"
      ]
     },
     "metadata": {},
     "output_type": "display_data"
    },
    {
     "name": "stdout",
     "output_type": "stream",
     "text": [
      "\n"
     ]
    },
    {
     "data": {
      "application/vnd.jupyter.widget-view+json": {
       "model_id": "d04ff423e9d743e4b30235f46ef8f465",
       "version_major": 2,
       "version_minor": 0
      },
      "text/plain": [
       "HBox(children=(FloatProgress(value=0.0, description='Downloading', max=267967963.0, style=ProgressStyle(descri…"
      ]
     },
     "metadata": {},
     "output_type": "display_data"
    },
    {
     "name": "stdout",
     "output_type": "stream",
     "text": [
      "\n"
     ]
    }
   ],
   "source": [
    "distilbert_model = DistilBertForSequenceClassification(pretrained_model_name=DISTILBERT_MODEL_NAME, num_classes=NUM_CLASSES)\n",
    "distilbert_model = distilbert_model.to(device)"
   ]
  },
  {
   "cell_type": "code",
   "execution_count": 53,
   "metadata": {
    "execution": {
     "iopub.execute_input": "2020-12-17T14:15:04.547984Z",
     "iopub.status.busy": "2020-12-17T14:15:04.547052Z",
     "iopub.status.idle": "2020-12-17T14:15:04.553167Z",
     "shell.execute_reply": "2020-12-17T14:15:04.552393Z"
    },
    "papermill": {
     "duration": 0.101399,
     "end_time": "2020-12-17T14:15:04.553335",
     "exception": false,
     "start_time": "2020-12-17T14:15:04.451936",
     "status": "completed"
    },
    "tags": []
   },
   "outputs": [],
   "source": [
    "training_steps = len(distilbert_train_dataloader.dataset) * EPOCHS\n",
    "\n",
    "distilbert_optimizer = AdamW(distilbert_model.parameters(), lr=LEARNING_RATE, weight_decay=WEIGHT_DECAY, correct_bias=True)\n",
    "distilbert_scheduler = get_linear_schedule_with_warmup(distilbert_optimizer, num_warmup_steps=int(0.1 * training_steps), num_training_steps=training_steps)"
   ]
  },
  {
   "cell_type": "code",
   "execution_count": 54,
   "metadata": {
    "execution": {
     "iopub.execute_input": "2020-12-17T14:15:04.832455Z",
     "iopub.status.busy": "2020-12-17T14:15:04.831422Z",
     "iopub.status.idle": "2020-12-17T14:16:41.268991Z",
     "shell.execute_reply": "2020-12-17T14:16:41.267819Z"
    },
    "papermill": {
     "duration": 96.580752,
     "end_time": "2020-12-17T14:16:41.269099",
     "exception": false,
     "start_time": "2020-12-17T14:15:04.688347",
     "status": "completed"
    },
    "tags": []
   },
   "outputs": [
    {
     "name": "stdout",
     "output_type": "stream",
     "text": [
      "Epoch  1 / 5\n",
      "--------------------------------------------------\n",
      "Train Loss:  1.0174256366146497  |  Train Accuracy:  0.5247933884297521\n",
      "Val Loss:  0.8844125674616906  |  Val Accuracy:  0.5950413223140496\n",
      "Epoch Train Time:  0:00:19\n",
      "\n",
      "\n",
      "Epoch  2 / 5\n",
      "--------------------------------------------------\n",
      "Train Loss:  0.7230734325144902  |  Train Accuracy:  0.6867252066115702\n",
      "Val Loss:  0.5096909221141569  |  Val Accuracy:  0.8016528925619835\n",
      "Epoch Train Time:  0:00:20\n",
      "\n",
      "\n",
      "Epoch  3 / 5\n",
      "--------------------------------------------------\n",
      "Train Loss:  0.43774399130551284  |  Train Accuracy:  0.828254132231405\n",
      "Val Loss:  0.34935386671173957  |  Val Accuracy:  0.8615702479338843\n",
      "Epoch Train Time:  0:00:20\n",
      "\n",
      "\n",
      "Epoch  4 / 5\n",
      "--------------------------------------------------\n",
      "Train Loss:  0.32051020892998894  |  Train Accuracy:  0.8778409090909091\n",
      "Val Loss:  0.34033183741473383  |  Val Accuracy:  0.871900826446281\n",
      "Epoch Train Time:  0:00:19\n",
      "\n",
      "\n",
      "Epoch  5 / 5\n",
      "--------------------------------------------------\n",
      "Train Loss:  0.23231720472570538  |  Train Accuracy:  0.9201962809917356\n",
      "Val Loss:  0.39704285369765374  |  Val Accuracy:  0.859504132231405\n",
      "Epoch Train Time:  0:00:18\n",
      "\n",
      "\n",
      "Finished Training.\n",
      "Fold Train Time:  0:01:35\n",
      "\n",
      "\n",
      "[[ 51   7   3]\n",
      " [  6 269  12]\n",
      " [  0  31 105]]\n",
      "\n",
      "              precision    recall  f1-score   support\n",
      "\n",
      "    negative      0.895     0.836     0.864        61\n",
      "     neutral      0.876     0.937     0.906       287\n",
      "    positive      0.875     0.772     0.820       136\n",
      "\n",
      "    accuracy                          0.878       484\n",
      "   macro avg      0.882     0.848     0.863       484\n",
      "weighted avg      0.878     0.878     0.877       484\n",
      "\n"
     ]
    }
   ],
   "source": [
    "distilbert_history, distilbert_preds, distilbert_outputs, = train_fold(epochs=EPOCHS,\n",
    "                                                                       model=distilbert_model,\n",
    "                                                                       device=device, \n",
    "                                                                       train_dataloader=distilbert_train_dataloader, \n",
    "                                                                       val_dataloader=distilbert_val_dataloader,\n",
    "                                                                       test_dataloader=distilbert_test_dataloader,\n",
    "                                                                       loss_fn=loss_function,\n",
    "                                                                       optimizer=distilbert_optimizer,\n",
    "                                                                       scheduler=distilbert_scheduler,\n",
    "                                                                       model_save_name='distilbest_best_model.bin',\n",
    "                                                                       n_train=len(df_train),\n",
    "                                                                       n_val=len(df_val),\n",
    "                                                                       single_model=True\n",
    "                                                                      )"
   ]
  },
  {
   "cell_type": "markdown",
   "metadata": {
    "papermill": {
     "duration": 0.079387,
     "end_time": "2020-12-17T14:16:41.428947",
     "exception": false,
     "start_time": "2020-12-17T14:16:41.349560",
     "status": "completed"
    },
    "tags": []
   },
   "source": [
    "### 10-Fold CV"
   ]
  },
  {
   "cell_type": "code",
   "execution_count": 55,
   "metadata": {
    "execution": {
     "iopub.execute_input": "2020-12-17T14:16:41.594844Z",
     "iopub.status.busy": "2020-12-17T14:16:41.594055Z",
     "iopub.status.idle": "2020-12-17T14:33:11.412140Z",
     "shell.execute_reply": "2020-12-17T14:33:11.412750Z"
    },
    "papermill": {
     "duration": 989.904244,
     "end_time": "2020-12-17T14:33:11.412936",
     "exception": false,
     "start_time": "2020-12-17T14:16:41.508692",
     "status": "completed"
    },
    "tags": []
   },
   "outputs": [
    {
     "name": "stdout",
     "output_type": "stream",
     "text": [
      "Fold: 1\n",
      "Epoch  1 / 5\n",
      "--------------------------------------------------\n",
      "Train Loss:  1.0293812131395146  |  Train Accuracy:  0.45663265306122447\n",
      "Val Loss:  0.8766298357929502  |  Val Accuracy:  0.5986238532110092\n",
      "Epoch Train Time:  0:00:20\n",
      "\n",
      "\n",
      "Epoch  2 / 5\n",
      "--------------------------------------------------\n",
      "Train Loss:  0.7156587053318413  |  Train Accuracy:  0.689795918367347\n",
      "Val Loss:  0.5239637227995055  |  Val Accuracy:  0.8004587155963303\n",
      "Epoch Train Time:  0:00:20\n",
      "\n",
      "\n",
      "Epoch  3 / 5\n",
      "--------------------------------------------------\n",
      "Train Loss:  0.43323043420606727  |  Train Accuracy:  0.835969387755102\n",
      "Val Loss:  0.36729702406695913  |  Val Accuracy:  0.8623853211009175\n",
      "Epoch Train Time:  0:00:19\n",
      "\n",
      "\n",
      "Epoch  4 / 5\n",
      "--------------------------------------------------\n",
      "Train Loss:  0.3136976310793234  |  Train Accuracy:  0.878061224489796\n",
      "Val Loss:  0.36658207167472157  |  Val Accuracy:  0.8577981651376146\n",
      "Epoch Train Time:  0:00:19\n",
      "\n",
      "\n",
      "Epoch  5 / 5\n",
      "--------------------------------------------------\n",
      "Train Loss:  0.23678905477709308  |  Train Accuracy:  0.9165816326530613\n",
      "Val Loss:  0.4569141762331128  |  Val Accuracy:  0.8509174311926605\n",
      "Epoch Train Time:  0:00:18\n",
      "\n",
      "\n",
      "Finished Training.\n",
      "Fold Train Time:  0:01:36\n",
      "\n",
      "\n",
      "Fold: 2\n",
      "Epoch  1 / 5\n",
      "--------------------------------------------------\n",
      "Train Loss:  1.0040917481694902  |  Train Accuracy:  0.5344387755102041\n",
      "Val Loss:  0.862993883235114  |  Val Accuracy:  0.5940366972477065\n",
      "Epoch Train Time:  0:00:19\n",
      "\n",
      "\n",
      "Epoch  2 / 5\n",
      "--------------------------------------------------\n",
      "Train Loss:  0.718045135541838  |  Train Accuracy:  0.6877551020408164\n",
      "Val Loss:  0.537940746971539  |  Val Accuracy:  0.7958715596330275\n",
      "Epoch Train Time:  0:00:21\n",
      "\n",
      "\n",
      "Epoch  3 / 5\n",
      "--------------------------------------------------\n",
      "Train Loss:  0.4518455282157781  |  Train Accuracy:  0.8267857142857142\n",
      "Val Loss:  0.4448336788586208  |  Val Accuracy:  0.7958715596330275\n",
      "Epoch Train Time:  0:00:18\n",
      "\n",
      "\n",
      "Epoch  4 / 5\n",
      "--------------------------------------------------\n",
      "Train Loss:  0.31883910407825394  |  Train Accuracy:  0.8795918367346939\n",
      "Val Loss:  0.4815028618488993  |  Val Accuracy:  0.7958715596330275\n",
      "Epoch Train Time:  0:00:19\n",
      "\n",
      "\n",
      "Epoch  5 / 5\n",
      "--------------------------------------------------\n",
      "Train Loss:  0.23146617644827586  |  Train Accuracy:  0.9198979591836735\n",
      "Val Loss:  0.5884375063968557  |  Val Accuracy:  0.7821100917431193\n",
      "Epoch Train Time:  0:00:19\n",
      "\n",
      "\n",
      "Finished Training.\n",
      "Fold Train Time:  0:01:36\n",
      "\n",
      "\n",
      "Fold: 3\n",
      "Epoch  1 / 5\n",
      "--------------------------------------------------\n",
      "Train Loss:  0.9980420582148494  |  Train Accuracy:  0.5788265306122449\n",
      "Val Loss:  0.8769117210592542  |  Val Accuracy:  0.6100917431192661\n",
      "Epoch Train Time:  0:00:19\n",
      "\n",
      "\n",
      "Epoch  2 / 5\n",
      "--------------------------------------------------\n",
      "Train Loss:  0.7386035853502702  |  Train Accuracy:  0.6839285714285714\n",
      "Val Loss:  0.5589868607265609  |  Val Accuracy:  0.7568807339449541\n",
      "Epoch Train Time:  0:00:20\n",
      "\n",
      "\n",
      "Epoch  3 / 5\n",
      "--------------------------------------------------\n",
      "Train Loss:  0.4665455703224455  |  Train Accuracy:  0.8193877551020409\n",
      "Val Loss:  0.42007687288735596  |  Val Accuracy:  0.8165137614678899\n",
      "Epoch Train Time:  0:00:20\n",
      "\n",
      "\n",
      "Epoch  4 / 5\n",
      "--------------------------------------------------\n",
      "Train Loss:  0.3283280591879572  |  Train Accuracy:  0.8755102040816326\n",
      "Val Loss:  0.4440562788929258  |  Val Accuracy:  0.823394495412844\n",
      "Epoch Train Time:  0:00:20\n",
      "\n",
      "\n",
      "Epoch  5 / 5\n",
      "--------------------------------------------------\n",
      "Train Loss:  0.24469524012992577  |  Train Accuracy:  0.914795918367347\n",
      "Val Loss:  0.5411684237354036  |  Val Accuracy:  0.8165137614678899\n",
      "Epoch Train Time:  0:00:18\n",
      "\n",
      "\n",
      "Finished Training.\n",
      "Fold Train Time:  0:01:36\n",
      "\n",
      "\n",
      "Fold: 4\n",
      "Epoch  1 / 5\n",
      "--------------------------------------------------\n",
      "Train Loss:  0.9972177323029966  |  Train Accuracy:  0.5362244897959184\n",
      "Val Loss:  0.9044068732431957  |  Val Accuracy:  0.5940366972477065\n",
      "Epoch Train Time:  0:00:19\n",
      "\n",
      "\n",
      "Epoch  2 / 5\n",
      "--------------------------------------------------\n",
      "Train Loss:  0.7544652235751249  |  Train Accuracy:  0.675765306122449\n",
      "Val Loss:  0.5556721846972194  |  Val Accuracy:  0.7981651376146789\n",
      "Epoch Train Time:  0:00:19\n",
      "\n",
      "\n",
      "Epoch  3 / 5\n",
      "--------------------------------------------------\n",
      "Train Loss:  0.46225061903194503  |  Train Accuracy:  0.8252551020408163\n",
      "Val Loss:  0.39283410779067446  |  Val Accuracy:  0.8302752293577982\n",
      "Epoch Train Time:  0:00:19\n",
      "\n",
      "\n",
      "Epoch  4 / 5\n",
      "--------------------------------------------------\n",
      "Train Loss:  0.3267119692752556  |  Train Accuracy:  0.8778061224489796\n",
      "Val Loss:  0.37381999673587935  |  Val Accuracy:  0.8394495412844036\n",
      "Epoch Train Time:  0:00:20\n",
      "\n",
      "\n",
      "Epoch  5 / 5\n",
      "--------------------------------------------------\n",
      "Train Loss:  0.2407040218005375  |  Train Accuracy:  0.9153061224489796\n",
      "Val Loss:  0.43456222941832884  |  Val Accuracy:  0.8394495412844036\n",
      "Epoch Train Time:  0:00:19\n",
      "\n",
      "\n",
      "Finished Training.\n",
      "Fold Train Time:  0:01:36\n",
      "\n",
      "\n",
      "Fold: 5\n",
      "Epoch  1 / 5\n",
      "--------------------------------------------------\n",
      "Train Loss:  0.975997833329804  |  Train Accuracy:  0.5931122448979592\n",
      "Val Loss:  0.8647110547338214  |  Val Accuracy:  0.5940366972477065\n",
      "Epoch Train Time:  0:00:19\n",
      "\n",
      "\n",
      "Epoch  2 / 5\n",
      "--------------------------------------------------\n",
      "Train Loss:  0.6931697609473247  |  Train Accuracy:  0.7061224489795919\n",
      "Val Loss:  0.5114449177469526  |  Val Accuracy:  0.7912844036697247\n",
      "Epoch Train Time:  0:00:20\n",
      "\n",
      "\n",
      "Epoch  3 / 5\n",
      "--------------------------------------------------\n",
      "Train Loss:  0.4217374096415481  |  Train Accuracy:  0.8392857142857143\n",
      "Val Loss:  0.4026222489774227  |  Val Accuracy:  0.8188073394495413\n",
      "Epoch Train Time:  0:00:19\n",
      "\n",
      "\n",
      "Epoch  4 / 5\n",
      "--------------------------------------------------\n",
      "Train Loss:  0.3055692795740098  |  Train Accuracy:  0.888265306122449\n",
      "Val Loss:  0.41513377321617945  |  Val Accuracy:  0.8188073394495413\n",
      "Epoch Train Time:  0:00:18\n",
      "\n",
      "\n",
      "Epoch  5 / 5\n",
      "--------------------------------------------------\n",
      "Train Loss:  0.2200353045662751  |  Train Accuracy:  0.9216836734693877\n",
      "Val Loss:  0.4931100271642208  |  Val Accuracy:  0.8119266055045872\n",
      "Epoch Train Time:  0:00:19\n",
      "\n",
      "\n",
      "Finished Training.\n",
      "Fold Train Time:  0:01:35\n",
      "\n",
      "\n",
      "Fold: 6\n",
      "Epoch  1 / 5\n",
      "--------------------------------------------------\n",
      "Train Loss:  0.9868518829345703  |  Train Accuracy:  0.5653061224489796\n",
      "Val Loss:  0.8533581644296646  |  Val Accuracy:  0.5940366972477065\n",
      "Epoch Train Time:  0:00:19\n",
      "\n",
      "\n",
      "Epoch  2 / 5\n",
      "--------------------------------------------------\n",
      "Train Loss:  0.6946378626385513  |  Train Accuracy:  0.7045918367346938\n",
      "Val Loss:  0.5116132316844804  |  Val Accuracy:  0.7912844036697247\n",
      "Epoch Train Time:  0:00:19\n",
      "\n",
      "\n",
      "Epoch  3 / 5\n",
      "--------------------------------------------------\n",
      "Train Loss:  0.42297055411095524  |  Train Accuracy:  0.8346938775510204\n",
      "Val Loss:  0.4474038604114737  |  Val Accuracy:  0.805045871559633\n",
      "Epoch Train Time:  0:00:20\n",
      "\n",
      "\n",
      "Epoch  4 / 5\n",
      "--------------------------------------------------\n",
      "Train Loss:  0.30618045439525526  |  Train Accuracy:  0.8864795918367347\n",
      "Val Loss:  0.4855372489296964  |  Val Accuracy:  0.8096330275229358\n",
      "Epoch Train Time:  0:00:19\n",
      "\n",
      "\n",
      "Epoch  5 / 5\n",
      "--------------------------------------------------\n",
      "Train Loss:  0.22124191394493897  |  Train Accuracy:  0.9260204081632653\n",
      "Val Loss:  0.6180492703403745  |  Val Accuracy:  0.8027522935779816\n",
      "Epoch Train Time:  0:00:18\n",
      "\n",
      "\n",
      "Finished Training.\n",
      "Fold Train Time:  0:01:35\n",
      "\n",
      "\n",
      "Fold: 7\n",
      "Epoch  1 / 5\n",
      "--------------------------------------------------\n",
      "Train Loss:  0.9943785730416212  |  Train Accuracy:  0.5850548329507779\n",
      "Val Loss:  0.8375866455691201  |  Val Accuracy:  0.5977011494252874\n",
      "Epoch Train Time:  0:00:19\n",
      "\n",
      "\n",
      "Epoch  2 / 5\n",
      "--------------------------------------------------\n",
      "Train Loss:  0.6996367946872867  |  Train Accuracy:  0.7008416220351951\n",
      "Val Loss:  0.4921135444726263  |  Val Accuracy:  0.7954022988505747\n",
      "Epoch Train Time:  0:00:19\n",
      "\n",
      "\n",
      "Epoch  3 / 5\n",
      "--------------------------------------------------\n",
      "Train Loss:  0.43790449541274123  |  Train Accuracy:  0.8321856669217036\n",
      "Val Loss:  0.32669624633022715  |  Val Accuracy:  0.8735632183908046\n",
      "Epoch Train Time:  0:00:19\n",
      "\n",
      "\n",
      "Epoch  4 / 5\n",
      "--------------------------------------------------\n",
      "Train Loss:  0.32263673954014854  |  Train Accuracy:  0.8768171384850804\n",
      "Val Loss:  0.2931921311121966  |  Val Accuracy:  0.8827586206896552\n",
      "Epoch Train Time:  0:00:20\n",
      "\n",
      "\n",
      "Epoch  5 / 5\n",
      "--------------------------------------------------\n",
      "Train Loss:  0.2396082692264723  |  Train Accuracy:  0.9166029074215761\n",
      "Val Loss:  0.36532153794541955  |  Val Accuracy:  0.8781609195402299\n",
      "Epoch Train Time:  0:00:18\n",
      "\n",
      "\n",
      "Finished Training.\n",
      "Fold Train Time:  0:01:36\n",
      "\n",
      "\n",
      "Fold: 8\n",
      "Epoch  1 / 5\n",
      "--------------------------------------------------\n",
      "Train Loss:  1.012519367584368  |  Train Accuracy:  0.5363427697016068\n",
      "Val Loss:  0.8765045319284711  |  Val Accuracy:  0.6022988505747127\n",
      "Epoch Train Time:  0:00:19\n",
      "\n",
      "\n",
      "Epoch  2 / 5\n",
      "--------------------------------------------------\n",
      "Train Loss:  0.6849062201695714  |  Train Accuracy:  0.7112981382300434\n",
      "Val Loss:  0.5439991972276143  |  Val Accuracy:  0.7632183908045977\n",
      "Epoch Train Time:  0:00:20\n",
      "\n",
      "\n",
      "Epoch  3 / 5\n",
      "--------------------------------------------------\n",
      "Train Loss:  0.4226718344763527  |  Train Accuracy:  0.8349910737056874\n",
      "Val Loss:  0.40820154015507015  |  Val Accuracy:  0.8505747126436781\n",
      "Epoch Train Time:  0:00:19\n",
      "\n",
      "\n",
      "Epoch  4 / 5\n",
      "--------------------------------------------------\n",
      "Train Loss:  0.311404083832735  |  Train Accuracy:  0.8811527671512369\n",
      "Val Loss:  0.44247271918824743  |  Val Accuracy:  0.8206896551724138\n",
      "Epoch Train Time:  0:00:18\n",
      "\n",
      "\n",
      "Epoch  5 / 5\n",
      "--------------------------------------------------\n",
      "Train Loss:  0.23498759840092645  |  Train Accuracy:  0.9191532772251977\n",
      "Val Loss:  0.4960531508550048  |  Val Accuracy:  0.8160919540229885\n",
      "Epoch Train Time:  0:00:19\n",
      "\n",
      "\n",
      "Finished Training.\n",
      "Fold Train Time:  0:01:35\n",
      "\n",
      "\n",
      "Fold: 9\n",
      "Epoch  1 / 5\n",
      "--------------------------------------------------\n",
      "Train Loss:  1.040879245696029  |  Train Accuracy:  0.43075745983167557\n",
      "Val Loss:  0.8863021944250379  |  Val Accuracy:  0.593103448275862\n",
      "Epoch Train Time:  0:00:19\n",
      "\n",
      "\n",
      "Epoch  2 / 5\n",
      "--------------------------------------------------\n",
      "Train Loss:  0.6996149222056071  |  Train Accuracy:  0.7003315480744708\n",
      "Val Loss:  0.4995812906750611  |  Val Accuracy:  0.8091954022988506\n",
      "Epoch Train Time:  0:00:19\n",
      "\n",
      "\n",
      "Epoch  3 / 5\n",
      "--------------------------------------------------\n",
      "Train Loss:  0.4317948301512051  |  Train Accuracy:  0.8321856669217036\n",
      "Val Loss:  0.3798490247822234  |  Val Accuracy:  0.8436781609195402\n",
      "Epoch Train Time:  0:00:20\n",
      "\n",
      "\n",
      "Epoch  4 / 5\n",
      "--------------------------------------------------\n",
      "Train Loss:  0.3195829615451214  |  Train Accuracy:  0.8788574343279776\n",
      "Val Loss:  0.38376423310754554  |  Val Accuracy:  0.8505747126436781\n",
      "Epoch Train Time:  0:00:19\n",
      "\n",
      "\n",
      "Epoch  5 / 5\n",
      "--------------------------------------------------\n",
      "Train Loss:  0.22857608618896183  |  Train Accuracy:  0.9150726855394032\n",
      "Val Loss:  0.4269508024611111  |  Val Accuracy:  0.8574712643678161\n",
      "Epoch Train Time:  0:00:19\n",
      "\n",
      "\n",
      "Finished Training.\n",
      "Fold Train Time:  0:01:37\n",
      "\n",
      "\n",
      "Fold: 10\n",
      "Epoch  1 / 5\n",
      "--------------------------------------------------\n",
      "Train Loss:  1.0370011104316246  |  Train Accuracy:  0.4659525631216526\n",
      "Val Loss:  0.8870962794337954  |  Val Accuracy:  0.593103448275862\n",
      "Epoch Train Time:  0:00:20\n",
      "\n",
      "\n",
      "Epoch  2 / 5\n",
      "--------------------------------------------------\n",
      "Train Loss:  0.6971999965305251  |  Train Accuracy:  0.7069625095638867\n",
      "Val Loss:  0.522188703928675  |  Val Accuracy:  0.8022988505747126\n",
      "Epoch Train Time:  0:00:19\n",
      "\n",
      "\n",
      "Epoch  3 / 5\n",
      "--------------------------------------------------\n",
      "Train Loss:  0.4302978296953488  |  Train Accuracy:  0.8349910737056874\n",
      "Val Loss:  0.4134853035211563  |  Val Accuracy:  0.8229885057471265\n",
      "Epoch Train Time:  0:00:19\n",
      "\n",
      "\n",
      "Epoch  4 / 5\n",
      "--------------------------------------------------\n",
      "Train Loss:  0.31347209914791874  |  Train Accuracy:  0.8808977301708748\n",
      "Val Loss:  0.40618201478251387  |  Val Accuracy:  0.8367816091954023\n",
      "Epoch Train Time:  0:00:20\n",
      "\n",
      "\n",
      "Epoch  5 / 5\n",
      "--------------------------------------------------\n",
      "Train Loss:  0.23091833658395258  |  Train Accuracy:  0.9188982402448355\n",
      "Val Loss:  0.42902854297842297  |  Val Accuracy:  0.8551724137931035\n",
      "Epoch Train Time:  0:00:19\n",
      "\n",
      "\n",
      "Finished Training.\n",
      "Fold Train Time:  0:01:37\n",
      "\n",
      "\n",
      "10 Fold CV Train Time:  0:16:30\n"
     ]
    }
   ],
   "source": [
    "distilbert_history, distilbert_test_outputs = get_oof_and_test_preds(model_type='distilbert', \n",
    "                                                                                                                                                                        tokenizer=distilbert_tokenizer, \n",
    "                                                                                                                                                                        train_df=df_train_full, \n",
    "                                                                                                                                                                        test_df=df_test,\n",
    "                                                                                                                                                                        single_model=False)"
   ]
  },
  {
   "cell_type": "code",
   "execution_count": 56,
   "metadata": {
    "execution": {
     "iopub.execute_input": "2020-12-17T14:33:11.624576Z",
     "iopub.status.busy": "2020-12-17T14:33:11.623814Z",
     "iopub.status.idle": "2020-12-17T14:33:11.637802Z",
     "shell.execute_reply": "2020-12-17T14:33:11.637216Z"
    },
    "papermill": {
     "duration": 0.123985,
     "end_time": "2020-12-17T14:33:11.637919",
     "exception": false,
     "start_time": "2020-12-17T14:33:11.513934",
     "status": "completed"
    },
    "tags": []
   },
   "outputs": [
    {
     "name": "stdout",
     "output_type": "stream",
     "text": [
      "[[ 55   5   1]\n",
      " [  8 255  24]\n",
      " [  5  16 115]]\n",
      "\n",
      "              precision    recall  f1-score   support\n",
      "\n",
      "    negative      0.809     0.902     0.853        61\n",
      "     neutral      0.924     0.889     0.906       287\n",
      "    positive      0.821     0.846     0.833       136\n",
      "\n",
      "    accuracy                          0.878       484\n",
      "   macro avg      0.851     0.879     0.864       484\n",
      "weighted avg      0.881     0.878     0.879       484\n",
      "\n"
     ]
    }
   ],
   "source": [
    "cv_ensemble_performance(distilbert_test_outputs, df_test['sentiment'].values)"
   ]
  },
  {
   "cell_type": "markdown",
   "metadata": {
    "papermill": {
     "duration": 0.100712,
     "end_time": "2020-12-17T14:33:11.839575",
     "exception": false,
     "start_time": "2020-12-17T14:33:11.738863",
     "status": "completed"
    },
    "tags": []
   },
   "source": [
    "## RoBERTa\n",
    "### Single Model"
   ]
  },
  {
   "cell_type": "code",
   "execution_count": 57,
   "metadata": {
    "execution": {
     "iopub.execute_input": "2020-12-17T14:33:12.049801Z",
     "iopub.status.busy": "2020-12-17T14:33:12.049258Z",
     "iopub.status.idle": "2020-12-17T14:33:15.101648Z",
     "shell.execute_reply": "2020-12-17T14:33:15.101191Z"
    },
    "papermill": {
     "duration": 3.161617,
     "end_time": "2020-12-17T14:33:15.101743",
     "exception": false,
     "start_time": "2020-12-17T14:33:11.940126",
     "status": "completed"
    },
    "tags": []
   },
   "outputs": [
    {
     "data": {
      "application/vnd.jupyter.widget-view+json": {
       "model_id": "6d22cce76f2b4d0a80a98884094ef2a0",
       "version_major": 2,
       "version_minor": 0
      },
      "text/plain": [
       "HBox(children=(FloatProgress(value=0.0, description='Downloading', max=898823.0, style=ProgressStyle(descripti…"
      ]
     },
     "metadata": {},
     "output_type": "display_data"
    },
    {
     "name": "stdout",
     "output_type": "stream",
     "text": [
      "\n"
     ]
    },
    {
     "data": {
      "application/vnd.jupyter.widget-view+json": {
       "model_id": "cc48c50ab19742748ae6af80dcd2b0b1",
       "version_major": 2,
       "version_minor": 0
      },
      "text/plain": [
       "HBox(children=(FloatProgress(value=0.0, description='Downloading', max=456318.0, style=ProgressStyle(descripti…"
      ]
     },
     "metadata": {},
     "output_type": "display_data"
    },
    {
     "name": "stdout",
     "output_type": "stream",
     "text": [
      "\n"
     ]
    }
   ],
   "source": [
    "ROBERTA_MODEL_NAME = 'roberta-base'\n",
    "roberta_tokenizer = RobertaTokenizer.from_pretrained(ROBERTA_MODEL_NAME)"
   ]
  },
  {
   "cell_type": "code",
   "execution_count": 58,
   "metadata": {
    "execution": {
     "iopub.execute_input": "2020-12-17T14:33:15.672924Z",
     "iopub.status.busy": "2020-12-17T14:33:15.671207Z",
     "iopub.status.idle": "2020-12-17T14:33:15.673517Z",
     "shell.execute_reply": "2020-12-17T14:33:15.673953Z"
    },
    "papermill": {
     "duration": 0.469129,
     "end_time": "2020-12-17T14:33:15.674063",
     "exception": false,
     "start_time": "2020-12-17T14:33:15.204934",
     "status": "completed"
    },
    "tags": []
   },
   "outputs": [],
   "source": [
    "roberta_train_ds = create_dataset(df_train, roberta_tokenizer, MAX_LENGTH)\n",
    "roberta_test_ds = create_dataset(df_test, roberta_tokenizer, MAX_LENGTH)\n",
    "roberta_val_ds = create_dataset(df_val, roberta_tokenizer, MAX_LENGTH)\n",
    "\n",
    "roberta_train_dataloader = create_dataloader(roberta_train_ds, BATCH_SIZE)\n",
    "roberta_test_dataloader = create_dataloader(roberta_test_ds, BATCH_SIZE)\n",
    "roberta_val_dataloader = create_dataloader(roberta_val_ds, BATCH_SIZE)"
   ]
  },
  {
   "cell_type": "code",
   "execution_count": 59,
   "metadata": {
    "execution": {
     "iopub.execute_input": "2020-12-17T14:33:15.890190Z",
     "iopub.status.busy": "2020-12-17T14:33:15.889427Z",
     "iopub.status.idle": "2020-12-17T14:33:15.892331Z",
     "shell.execute_reply": "2020-12-17T14:33:15.891887Z"
    },
    "papermill": {
     "duration": 0.115891,
     "end_time": "2020-12-17T14:33:15.892428",
     "exception": false,
     "start_time": "2020-12-17T14:33:15.776537",
     "status": "completed"
    },
    "tags": []
   },
   "outputs": [],
   "source": [
    "class RobertaSentimentClassifier(nn.Module):\n",
    "    \n",
    "    def __init__(self, n_classes):\n",
    "        super(RobertaSentimentClassifier, self).__init__()\n",
    "        self.model = RobertaModel.from_pretrained(ROBERTA_MODEL_NAME)\n",
    "        self.drop = nn.Dropout(DROPOUT_PROB)\n",
    "        self.output = nn.Linear(self.model.config.hidden_size, n_classes)\n",
    "        \n",
    "    def forward(self, input_ids, attention_mask):\n",
    "        _, pooled_output = self.model(\n",
    "            input_ids = input_ids,\n",
    "            attention_mask=attention_mask\n",
    "        )\n",
    "        \n",
    "        output = self.drop(pooled_output)\n",
    "        \n",
    "        return self.output(output)"
   ]
  },
  {
   "cell_type": "code",
   "execution_count": 60,
   "metadata": {
    "execution": {
     "iopub.execute_input": "2020-12-17T14:33:16.103282Z",
     "iopub.status.busy": "2020-12-17T14:33:16.102683Z",
     "iopub.status.idle": "2020-12-17T14:33:33.772354Z",
     "shell.execute_reply": "2020-12-17T14:33:33.771817Z"
    },
    "papermill": {
     "duration": 17.777472,
     "end_time": "2020-12-17T14:33:33.772459",
     "exception": false,
     "start_time": "2020-12-17T14:33:15.994987",
     "status": "completed"
    },
    "tags": []
   },
   "outputs": [
    {
     "data": {
      "application/vnd.jupyter.widget-view+json": {
       "model_id": "23e3cbf91d1143f28867e5a94edb6bcf",
       "version_major": 2,
       "version_minor": 0
      },
      "text/plain": [
       "HBox(children=(FloatProgress(value=0.0, description='Downloading', max=481.0, style=ProgressStyle(description_…"
      ]
     },
     "metadata": {},
     "output_type": "display_data"
    },
    {
     "name": "stdout",
     "output_type": "stream",
     "text": [
      "\n"
     ]
    },
    {
     "data": {
      "application/vnd.jupyter.widget-view+json": {
       "model_id": "7a2c54544986416eaa3bbceb84b4d4d7",
       "version_major": 2,
       "version_minor": 0
      },
      "text/plain": [
       "HBox(children=(FloatProgress(value=0.0, description='Downloading', max=501200538.0, style=ProgressStyle(descri…"
      ]
     },
     "metadata": {},
     "output_type": "display_data"
    },
    {
     "name": "stdout",
     "output_type": "stream",
     "text": [
      "\n"
     ]
    }
   ],
   "source": [
    "roberta_model = RobertaSentimentClassifier(n_classes=NUM_CLASSES)\n",
    "roberta_model = roberta_model.to(device)"
   ]
  },
  {
   "cell_type": "code",
   "execution_count": 61,
   "metadata": {
    "execution": {
     "iopub.execute_input": "2020-12-17T14:33:34.013608Z",
     "iopub.status.busy": "2020-12-17T14:33:34.012805Z",
     "iopub.status.idle": "2020-12-17T14:33:34.015830Z",
     "shell.execute_reply": "2020-12-17T14:33:34.015400Z"
    },
    "papermill": {
     "duration": 0.125232,
     "end_time": "2020-12-17T14:33:34.015945",
     "exception": false,
     "start_time": "2020-12-17T14:33:33.890713",
     "status": "completed"
    },
    "tags": []
   },
   "outputs": [],
   "source": [
    "training_steps = len(roberta_train_dataloader.dataset) * EPOCHS\n",
    "\n",
    "roberta_optimizer = AdamW(roberta_model.parameters(), lr=LEARNING_RATE, weight_decay=WEIGHT_DECAY, correct_bias=True)\n",
    "roberta_scheduler = get_linear_schedule_with_warmup(roberta_optimizer, num_warmup_steps=int(0.1 * training_steps), num_training_steps=training_steps)"
   ]
  },
  {
   "cell_type": "code",
   "execution_count": 62,
   "metadata": {
    "execution": {
     "iopub.execute_input": "2020-12-17T14:33:34.244001Z",
     "iopub.status.busy": "2020-12-17T14:33:34.243129Z",
     "iopub.status.idle": "2020-12-17T14:36:31.040547Z",
     "shell.execute_reply": "2020-12-17T14:36:31.041045Z"
    },
    "papermill": {
     "duration": 176.912366,
     "end_time": "2020-12-17T14:36:31.041213",
     "exception": false,
     "start_time": "2020-12-17T14:33:34.128847",
     "status": "completed"
    },
    "tags": []
   },
   "outputs": [
    {
     "name": "stdout",
     "output_type": "stream",
     "text": [
      "Epoch  1 / 5\n",
      "--------------------------------------------------\n",
      "Train Loss:  1.0194741960399407  |  Train Accuracy:  0.4535123966942149\n",
      "Val Loss:  0.8739319328338869  |  Val Accuracy:  0.5950413223140496\n",
      "Epoch Train Time:  0:00:36\n",
      "\n",
      "\n",
      "Epoch  2 / 5\n",
      "--------------------------------------------------\n",
      "Train Loss:  0.6309417169079308  |  Train Accuracy:  0.731404958677686\n",
      "Val Loss:  0.3191360494782848  |  Val Accuracy:  0.878099173553719\n",
      "Epoch Train Time:  0:00:36\n",
      "\n",
      "\n",
      "Epoch  3 / 5\n",
      "--------------------------------------------------\n",
      "Train Loss:  0.3386210358032018  |  Train Accuracy:  0.8669938016528925\n",
      "Val Loss:  0.28189576254977333  |  Val Accuracy:  0.890495867768595\n",
      "Epoch Train Time:  0:00:36\n",
      "\n",
      "\n",
      "Epoch  4 / 5\n",
      "--------------------------------------------------\n",
      "Train Loss:  0.2584299799016377  |  Train Accuracy:  0.9010847107438017\n",
      "Val Loss:  0.3123397754144765  |  Val Accuracy:  0.8657024793388429\n",
      "Epoch Train Time:  0:00:34\n",
      "\n",
      "\n",
      "Epoch  5 / 5\n",
      "--------------------------------------------------\n",
      "Train Loss:  0.20876398551939748  |  Train Accuracy:  0.9271694214876033\n",
      "Val Loss:  0.43192107340080604  |  Val Accuracy:  0.890495867768595\n",
      "Epoch Train Time:  0:00:34\n",
      "\n",
      "\n",
      "Finished Training.\n",
      "Fold Train Time:  0:02:55\n",
      "\n",
      "\n",
      "[[ 54   7   0]\n",
      " [  9 256  22]\n",
      " [  0  16 120]]\n",
      "\n",
      "              precision    recall  f1-score   support\n",
      "\n",
      "    negative      0.857     0.885     0.871        61\n",
      "     neutral      0.918     0.892     0.905       287\n",
      "    positive      0.845     0.882     0.863       136\n",
      "\n",
      "    accuracy                          0.888       484\n",
      "   macro avg      0.873     0.887     0.880       484\n",
      "weighted avg      0.890     0.888     0.889       484\n",
      "\n"
     ]
    }
   ],
   "source": [
    "roberta_single_model_items = train_fold(epochs=EPOCHS,\n",
    "                                                              model=roberta_model,\n",
    "                                                              device=device, \n",
    "                                                              train_dataloader=roberta_train_dataloader, \n",
    "                                                              val_dataloader=roberta_val_dataloader,\n",
    "                                                              test_dataloader=roberta_test_dataloader,\n",
    "                                                              loss_fn=loss_function,\n",
    "                                                              optimizer=roberta_optimizer,\n",
    "                                                              scheduler=roberta_scheduler,\n",
    "                                                              model_save_name='roberta_best_model.bin',\n",
    "                                                              n_train=len(df_train),\n",
    "                                                              n_val=len(df_val),\n",
    "                                                              single_model=True\n",
    "                                                             )"
   ]
  },
  {
   "cell_type": "markdown",
   "metadata": {
    "papermill": {
     "duration": 0.104745,
     "end_time": "2020-12-17T14:36:31.251231",
     "exception": false,
     "start_time": "2020-12-17T14:36:31.146486",
     "status": "completed"
    },
    "tags": []
   },
   "source": [
    "### 10-Fold CV"
   ]
  },
  {
   "cell_type": "code",
   "execution_count": 63,
   "metadata": {
    "execution": {
     "iopub.execute_input": "2020-12-17T14:36:31.468580Z",
     "iopub.status.busy": "2020-12-17T14:36:31.467889Z",
     "iopub.status.idle": "2020-12-17T15:07:07.591492Z",
     "shell.execute_reply": "2020-12-17T15:07:07.590692Z"
    },
    "papermill": {
     "duration": 1836.235128,
     "end_time": "2020-12-17T15:07:07.591678",
     "exception": false,
     "start_time": "2020-12-17T14:36:31.356550",
     "status": "completed"
    },
    "tags": []
   },
   "outputs": [
    {
     "name": "stdout",
     "output_type": "stream",
     "text": [
      "Fold: 1\n",
      "Epoch  1 / 5\n",
      "--------------------------------------------------\n",
      "Train Loss:  1.0048778176307678  |  Train Accuracy:  0.577295918367347\n",
      "Val Loss:  0.9016212629420417  |  Val Accuracy:  0.5940366972477065\n",
      "Epoch Train Time:  0:00:36\n",
      "\n",
      "\n",
      "Epoch  2 / 5\n",
      "--------------------------------------------------\n",
      "Train Loss:  0.6932815229406162  |  Train Accuracy:  0.6979591836734694\n",
      "Val Loss:  0.3903901215110506  |  Val Accuracy:  0.823394495412844\n",
      "Epoch Train Time:  0:00:37\n",
      "\n",
      "\n",
      "Epoch  3 / 5\n",
      "--------------------------------------------------\n",
      "Train Loss:  0.36121326011358473  |  Train Accuracy:  0.8627551020408163\n",
      "Val Loss:  0.3799735640308687  |  Val Accuracy:  0.8509174311926605\n",
      "Epoch Train Time:  0:00:36\n",
      "\n",
      "\n",
      "Epoch  4 / 5\n",
      "--------------------------------------------------\n",
      "Train Loss:  0.2776369364894166  |  Train Accuracy:  0.8992346938775511\n",
      "Val Loss:  0.3734742925236268  |  Val Accuracy:  0.8646788990825688\n",
      "Epoch Train Time:  0:00:37\n",
      "\n",
      "\n",
      "Epoch  5 / 5\n",
      "--------------------------------------------------\n",
      "Train Loss:  0.24362066188180934  |  Train Accuracy:  0.9176020408163266\n",
      "Val Loss:  0.5088410853807416  |  Val Accuracy:  0.8463302752293578\n",
      "Epoch Train Time:  0:00:34\n",
      "\n",
      "\n",
      "Finished Training.\n",
      "Fold Train Time:  0:03:00\n",
      "\n",
      "\n",
      "Fold: 2\n",
      "Epoch  1 / 5\n",
      "--------------------------------------------------\n",
      "Train Loss:  1.0110045588746364  |  Train Accuracy:  0.548469387755102\n",
      "Val Loss:  0.8731415101460048  |  Val Accuracy:  0.5940366972477065\n",
      "Epoch Train Time:  0:00:36\n",
      "\n",
      "\n",
      "Epoch  2 / 5\n",
      "--------------------------------------------------\n",
      "Train Loss:  0.6563506345967858  |  Train Accuracy:  0.7160714285714286\n",
      "Val Loss:  0.48333021253347397  |  Val Accuracy:  0.7752293577981652\n",
      "Epoch Train Time:  0:00:36\n",
      "\n",
      "\n",
      "Epoch  3 / 5\n",
      "--------------------------------------------------\n",
      "Train Loss:  0.3454956888088158  |  Train Accuracy:  0.8716836734693878\n",
      "Val Loss:  0.48467548683817896  |  Val Accuracy:  0.8279816513761468\n",
      "Epoch Train Time:  0:00:36\n",
      "\n",
      "\n",
      "Epoch  4 / 5\n",
      "--------------------------------------------------\n",
      "Train Loss:  0.2685910653551014  |  Train Accuracy:  0.8997448979591837\n",
      "Val Loss:  0.54341366414779  |  Val Accuracy:  0.8142201834862385\n",
      "Epoch Train Time:  0:00:35\n",
      "\n",
      "\n",
      "Epoch  5 / 5\n",
      "--------------------------------------------------\n",
      "Train Loss:  0.22778248577853855  |  Train Accuracy:  0.9239795918367347\n",
      "Val Loss:  0.594083219683463  |  Val Accuracy:  0.8348623853211009\n",
      "Epoch Train Time:  0:00:36\n",
      "\n",
      "\n",
      "Finished Training.\n",
      "Fold Train Time:  0:02:59\n",
      "\n",
      "\n",
      "Fold: 3\n",
      "Epoch  1 / 5\n",
      "--------------------------------------------------\n",
      "Train Loss:  1.0002678146167678  |  Train Accuracy:  0.5880102040816326\n",
      "Val Loss:  0.8696758172341755  |  Val Accuracy:  0.5940366972477065\n",
      "Epoch Train Time:  0:00:36\n",
      "\n",
      "\n",
      "Epoch  2 / 5\n",
      "--------------------------------------------------\n",
      "Train Loss:  0.6915066770753082  |  Train Accuracy:  0.6880102040816326\n",
      "Val Loss:  0.4451256913266012  |  Val Accuracy:  0.8165137614678899\n",
      "Epoch Train Time:  0:00:36\n",
      "\n",
      "\n",
      "Epoch  3 / 5\n",
      "--------------------------------------------------\n",
      "Train Loss:  0.3545341274720065  |  Train Accuracy:  0.8607142857142858\n",
      "Val Loss:  0.38964588727269855  |  Val Accuracy:  0.8600917431192661\n",
      "Epoch Train Time:  0:00:36\n",
      "\n",
      "\n",
      "Epoch  4 / 5\n",
      "--------------------------------------------------\n",
      "Train Loss:  0.27674056046015144  |  Train Accuracy:  0.8982142857142857\n",
      "Val Loss:  0.5472503466797727  |  Val Accuracy:  0.8279816513761468\n",
      "Epoch Train Time:  0:00:35\n",
      "\n",
      "\n",
      "Epoch  5 / 5\n",
      "--------------------------------------------------\n",
      "Train Loss:  0.23607996979880394  |  Train Accuracy:  0.9229591836734694\n",
      "Val Loss:  0.6452471952153636  |  Val Accuracy:  0.8348623853211009\n",
      "Epoch Train Time:  0:00:34\n",
      "\n",
      "\n",
      "Finished Training.\n",
      "Fold Train Time:  0:02:57\n",
      "\n",
      "\n",
      "Fold: 4\n",
      "Epoch  1 / 5\n",
      "--------------------------------------------------\n",
      "Train Loss:  1.0759361228164361  |  Train Accuracy:  0.4010204081632653\n",
      "Val Loss:  0.873147285410336  |  Val Accuracy:  0.5940366972477065\n",
      "Epoch Train Time:  0:00:36\n",
      "\n",
      "\n",
      "Epoch  2 / 5\n",
      "--------------------------------------------------\n",
      "Train Loss:  0.6540692991748148  |  Train Accuracy:  0.7160714285714286\n",
      "Val Loss:  0.38743127403514727  |  Val Accuracy:  0.8532110091743119\n",
      "Epoch Train Time:  0:00:36\n",
      "\n",
      "\n",
      "Epoch  3 / 5\n",
      "--------------------------------------------------\n",
      "Train Loss:  0.33937310080747213  |  Train Accuracy:  0.8688775510204082\n",
      "Val Loss:  0.35483862246785847  |  Val Accuracy:  0.8509174311926605\n",
      "Epoch Train Time:  0:00:34\n",
      "\n",
      "\n",
      "Epoch  4 / 5\n",
      "--------------------------------------------------\n",
      "Train Loss:  0.2721169648958104  |  Train Accuracy:  0.9015306122448979\n",
      "Val Loss:  0.4465199299156666  |  Val Accuracy:  0.841743119266055\n",
      "Epoch Train Time:  0:00:35\n",
      "\n",
      "\n",
      "Epoch  5 / 5\n",
      "--------------------------------------------------\n",
      "Train Loss:  0.2221197583997736  |  Train Accuracy:  0.9275510204081633\n",
      "Val Loss:  0.5855461633098977  |  Val Accuracy:  0.8119266055045872\n",
      "Epoch Train Time:  0:00:34\n",
      "\n",
      "\n",
      "Finished Training.\n",
      "Fold Train Time:  0:02:56\n",
      "\n",
      "\n",
      "Fold: 5\n",
      "Epoch  1 / 5\n",
      "--------------------------------------------------\n",
      "Train Loss:  1.0700348204495955  |  Train Accuracy:  0.3579081632653061\n",
      "Val Loss:  0.8475352951458522  |  Val Accuracy:  0.5940366972477065\n",
      "Epoch Train Time:  0:00:36\n",
      "\n",
      "\n",
      "Epoch  2 / 5\n",
      "--------------------------------------------------\n",
      "Train Loss:  0.573830803225235  |  Train Accuracy:  0.7581632653061224\n",
      "Val Loss:  0.3827082932527576  |  Val Accuracy:  0.8371559633027523\n",
      "Epoch Train Time:  0:00:37\n",
      "\n",
      "\n",
      "Epoch  3 / 5\n",
      "--------------------------------------------------\n",
      "Train Loss:  0.3271512582441982  |  Train Accuracy:  0.8691326530612244\n",
      "Val Loss:  0.442101956478187  |  Val Accuracy:  0.8279816513761468\n",
      "Epoch Train Time:  0:00:34\n",
      "\n",
      "\n",
      "Epoch  4 / 5\n",
      "--------------------------------------------------\n",
      "Train Loss:  0.24416703911764281  |  Train Accuracy:  0.9071428571428571\n",
      "Val Loss:  0.44536048686131835  |  Val Accuracy:  0.8784403669724771\n",
      "Epoch Train Time:  0:00:36\n",
      "\n",
      "\n",
      "Epoch  5 / 5\n",
      "--------------------------------------------------\n",
      "Train Loss:  0.22322287369823576  |  Train Accuracy:  0.9326530612244898\n",
      "Val Loss:  0.8838944461728845  |  Val Accuracy:  0.805045871559633\n",
      "Epoch Train Time:  0:00:35\n",
      "\n",
      "\n",
      "Finished Training.\n",
      "Fold Train Time:  0:02:58\n",
      "\n",
      "\n",
      "Fold: 6\n",
      "Epoch  1 / 5\n",
      "--------------------------------------------------\n",
      "Train Loss:  1.041339661637131  |  Train Accuracy:  0.4176020408163265\n",
      "Val Loss:  0.8371540776320866  |  Val Accuracy:  0.5940366972477065\n",
      "Epoch Train Time:  0:00:36\n",
      "\n",
      "\n",
      "Epoch  2 / 5\n",
      "--------------------------------------------------\n",
      "Train Loss:  0.712215600877392  |  Train Accuracy:  0.6823979591836735\n",
      "Val Loss:  0.46189738703625544  |  Val Accuracy:  0.7935779816513762\n",
      "Epoch Train Time:  0:00:37\n",
      "\n",
      "\n",
      "Epoch  3 / 5\n",
      "--------------------------------------------------\n",
      "Train Loss:  0.3697370315388757  |  Train Accuracy:  0.8551020408163266\n",
      "Val Loss:  0.4620818372017571  |  Val Accuracy:  0.8073394495412844\n",
      "Epoch Train Time:  0:00:36\n",
      "\n",
      "\n",
      "Epoch  4 / 5\n",
      "--------------------------------------------------\n",
      "Train Loss:  0.2762139951810241  |  Train Accuracy:  0.8956632653061225\n",
      "Val Loss:  0.46765528353197233  |  Val Accuracy:  0.8188073394495413\n",
      "Epoch Train Time:  0:00:37\n",
      "\n",
      "\n",
      "Epoch  5 / 5\n",
      "--------------------------------------------------\n",
      "Train Loss:  0.22634339888523125  |  Train Accuracy:  0.9221938775510204\n",
      "Val Loss:  0.6407660487374025  |  Val Accuracy:  0.805045871559633\n",
      "Epoch Train Time:  0:00:35\n",
      "\n",
      "\n",
      "Finished Training.\n",
      "Fold Train Time:  0:03:00\n",
      "\n",
      "\n",
      "Fold: 7\n",
      "Epoch  1 / 5\n",
      "--------------------------------------------------\n",
      "Train Loss:  1.021162067486988  |  Train Accuracy:  0.535067584799796\n",
      "Val Loss:  0.8677890832935061  |  Val Accuracy:  0.593103448275862\n",
      "Epoch Train Time:  0:00:36\n",
      "\n",
      "\n",
      "Epoch  2 / 5\n",
      "--------------------------------------------------\n",
      "Train Loss:  0.6201466300744352  |  Train Accuracy:  0.7268553940321346\n",
      "Val Loss:  0.31030877493321896  |  Val Accuracy:  0.8781609195402299\n",
      "Epoch Train Time:  0:00:37\n",
      "\n",
      "\n",
      "Epoch  3 / 5\n",
      "--------------------------------------------------\n",
      "Train Loss:  0.3345829280683907  |  Train Accuracy:  0.8699311400153023\n",
      "Val Loss:  0.29113942850381136  |  Val Accuracy:  0.9011494252873563\n",
      "Epoch Train Time:  0:00:36\n",
      "\n",
      "\n",
      "Epoch  4 / 5\n",
      "--------------------------------------------------\n",
      "Train Loss:  0.2749132318119329  |  Train Accuracy:  0.8982402448355011\n",
      "Val Loss:  0.34724530670791864  |  Val Accuracy:  0.8896551724137931\n",
      "Epoch Train Time:  0:00:35\n",
      "\n",
      "\n",
      "Epoch  5 / 5\n",
      "--------------------------------------------------\n",
      "Train Loss:  0.23670060516759087  |  Train Accuracy:  0.9209385360877327\n",
      "Val Loss:  0.615096904071314  |  Val Accuracy:  0.8505747126436781\n",
      "Epoch Train Time:  0:00:35\n",
      "\n",
      "\n",
      "Finished Training.\n",
      "Fold Train Time:  0:02:59\n",
      "\n",
      "\n",
      "Fold: 8\n",
      "Epoch  1 / 5\n",
      "--------------------------------------------------\n",
      "Train Loss:  1.067265416548504  |  Train Accuracy:  0.3942871716398878\n",
      "Val Loss:  0.9097906053066254  |  Val Accuracy:  0.593103448275862\n",
      "Epoch Train Time:  0:00:36\n",
      "\n",
      "\n",
      "Epoch  2 / 5\n",
      "--------------------------------------------------\n",
      "Train Loss:  0.7443801310609995  |  Train Accuracy:  0.6697271104310125\n",
      "Val Loss:  0.5249947926827839  |  Val Accuracy:  0.774712643678161\n",
      "Epoch Train Time:  0:00:37\n",
      "\n",
      "\n",
      "Epoch  3 / 5\n",
      "--------------------------------------------------\n",
      "Train Loss:  0.38595091415251176  |  Train Accuracy:  0.84952818158633\n",
      "Val Loss:  0.44231961680842297  |  Val Accuracy:  0.8275862068965517\n",
      "Epoch Train Time:  0:00:37\n",
      "\n",
      "\n",
      "Epoch  4 / 5\n",
      "--------------------------------------------------\n",
      "Train Loss:  0.2911485194879758  |  Train Accuracy:  0.8872736546799286\n",
      "Val Loss:  0.670014314353466  |  Val Accuracy:  0.7770114942528735\n",
      "Epoch Train Time:  0:00:35\n",
      "\n",
      "\n",
      "Epoch  5 / 5\n",
      "--------------------------------------------------\n",
      "Train Loss:  0.22941411100895848  |  Train Accuracy:  0.9234889058913542\n",
      "Val Loss:  0.8264851720471468  |  Val Accuracy:  0.7908045977011494\n",
      "Epoch Train Time:  0:00:35\n",
      "\n",
      "\n",
      "Finished Training.\n",
      "Fold Train Time:  0:02:59\n",
      "\n",
      "\n",
      "Fold: 9\n",
      "Epoch  1 / 5\n",
      "--------------------------------------------------\n",
      "Train Loss:  1.026524739779108  |  Train Accuracy:  0.5312420300943637\n",
      "Val Loss:  0.8535817627395902  |  Val Accuracy:  0.593103448275862\n",
      "Epoch Train Time:  0:00:36\n",
      "\n",
      "\n",
      "Epoch  2 / 5\n",
      "--------------------------------------------------\n",
      "Train Loss:  0.5689186091890664  |  Train Accuracy:  0.75592960979342\n",
      "Val Loss:  0.3439859871619514  |  Val Accuracy:  0.8528735632183908\n",
      "Epoch Train Time:  0:00:37\n",
      "\n",
      "\n",
      "Epoch  3 / 5\n",
      "--------------------------------------------------\n",
      "Train Loss:  0.324448063416876  |  Train Accuracy:  0.8717163988778373\n",
      "Val Loss:  0.35394109965169  |  Val Accuracy:  0.8689655172413793\n",
      "Epoch Train Time:  0:00:36\n",
      "\n",
      "\n",
      "Epoch  4 / 5\n",
      "--------------------------------------------------\n",
      "Train Loss:  0.258808601715761  |  Train Accuracy:  0.8995154297373119\n",
      "Val Loss:  0.5051304969404425  |  Val Accuracy:  0.8413793103448276\n",
      "Epoch Train Time:  0:00:34\n",
      "\n",
      "\n",
      "Epoch  5 / 5\n",
      "--------------------------------------------------\n",
      "Train Loss:  0.21784088354391173  |  Train Accuracy:  0.9255292017342515\n",
      "Val Loss:  0.5625377223893467  |  Val Accuracy:  0.8551724137931035\n",
      "Epoch Train Time:  0:00:35\n",
      "\n",
      "\n",
      "Finished Training.\n",
      "Fold Train Time:  0:02:59\n",
      "\n",
      "\n",
      "Fold: 10\n",
      "Epoch  1 / 5\n",
      "--------------------------------------------------\n",
      "Train Loss:  1.043645105953139  |  Train Accuracy:  0.41494516704922213\n",
      "Val Loss:  0.8627760538033077  |  Val Accuracy:  0.593103448275862\n",
      "Epoch Train Time:  0:00:36\n",
      "\n",
      "\n",
      "Epoch  2 / 5\n",
      "--------------------------------------------------\n",
      "Train Loss:  0.5802631466005875  |  Train Accuracy:  0.7472583524611068\n",
      "Val Loss:  0.3555028699338436  |  Val Accuracy:  0.8413793103448276\n",
      "Epoch Train Time:  0:00:36\n",
      "\n",
      "\n",
      "Epoch  3 / 5\n",
      "--------------------------------------------------\n",
      "Train Loss:  0.3264247131859505  |  Train Accuracy:  0.86967610303494\n",
      "Val Loss:  0.38771550224295687  |  Val Accuracy:  0.8367816091954023\n",
      "Epoch Train Time:  0:00:35\n",
      "\n",
      "\n",
      "Epoch  4 / 5\n",
      "--------------------------------------------------\n",
      "Train Loss:  0.26731671184695105  |  Train Accuracy:  0.8977301708747768\n",
      "Val Loss:  0.394182883735214  |  Val Accuracy:  0.8620689655172413\n",
      "Epoch Train Time:  0:00:36\n",
      "\n",
      "\n",
      "Epoch  5 / 5\n",
      "--------------------------------------------------\n",
      "Train Loss:  0.20602827134345303  |  Train Accuracy:  0.928079571537873\n",
      "Val Loss:  0.6835331328745399  |  Val Accuracy:  0.8206896551724138\n",
      "Epoch Train Time:  0:00:35\n",
      "\n",
      "\n",
      "Finished Training.\n",
      "Fold Train Time:  0:02:58\n",
      "\n",
      "\n",
      "10 Fold CV Train Time:  0:30:36\n"
     ]
    }
   ],
   "source": [
    "roberta_history, roberta_test_outputs = get_oof_and_test_preds(model_type='roberta', \n",
    "                                                               tokenizer=roberta_tokenizer,\n",
    "                                                               train_df=df_train_full, \n",
    "                                                               test_df=df_test,\n",
    "                                                               single_model=False)"
   ]
  },
  {
   "cell_type": "code",
   "execution_count": 64,
   "metadata": {
    "execution": {
     "iopub.execute_input": "2020-12-17T15:07:07.853569Z",
     "iopub.status.busy": "2020-12-17T15:07:07.852865Z",
     "iopub.status.idle": "2020-12-17T15:07:07.869888Z",
     "shell.execute_reply": "2020-12-17T15:07:07.870432Z"
    },
    "papermill": {
     "duration": 0.152588,
     "end_time": "2020-12-17T15:07:07.870583",
     "exception": false,
     "start_time": "2020-12-17T15:07:07.717995",
     "status": "completed"
    },
    "tags": []
   },
   "outputs": [
    {
     "name": "stdout",
     "output_type": "stream",
     "text": [
      "[[ 55   6   0]\n",
      " [  6 242  39]\n",
      " [  0   8 128]]\n",
      "\n",
      "              precision    recall  f1-score   support\n",
      "\n",
      "    negative      0.902     0.902     0.902        61\n",
      "     neutral      0.945     0.843     0.891       287\n",
      "    positive      0.766     0.941     0.845       136\n",
      "\n",
      "    accuracy                          0.878       484\n",
      "   macro avg      0.871     0.895     0.879       484\n",
      "weighted avg      0.890     0.878     0.880       484\n",
      "\n"
     ]
    }
   ],
   "source": [
    "cv_ensemble_performance(roberta_test_outputs, df_test['sentiment'].values)"
   ]
  }
 ],
 "metadata": {
  "kernelspec": {
   "display_name": "Python 3",
   "language": "python",
   "name": "python3"
  },
  "language_info": {
   "codemirror_mode": {
    "name": "ipython",
    "version": 3
   },
   "file_extension": ".py",
   "mimetype": "text/x-python",
   "name": "python",
   "nbconvert_exporter": "python",
   "pygments_lexer": "ipython3",
   "version": "3.7.6"
  },
  "papermill": {
   "duration": 5153.845303,
   "end_time": "2020-12-17T15:07:09.130299",
   "environment_variables": {},
   "exception": null,
   "input_path": "__notebook__.ipynb",
   "output_path": "__notebook__.ipynb",
   "parameters": {},
   "start_time": "2020-12-17T13:41:15.284996",
   "version": "2.1.0"
  },
  "widgets": {
   "application/vnd.jupyter.widget-state+json": {
    "state": {
     "00decb22a75046d49d0c5291dd06482c": {
      "model_module": "@jupyter-widgets/controls",
      "model_module_version": "1.5.0",
      "model_name": "DescriptionStyleModel",
      "state": {
       "_model_module": "@jupyter-widgets/controls",
       "_model_module_version": "1.5.0",
       "_model_name": "DescriptionStyleModel",
       "_view_count": null,
       "_view_module": "@jupyter-widgets/base",
       "_view_module_version": "1.2.0",
       "_view_name": "StyleView",
       "description_width": ""
      }
     },
     "01e50b1cd63148bc9db875af804b1f0c": {
      "model_module": "@jupyter-widgets/base",
      "model_module_version": "1.2.0",
      "model_name": "LayoutModel",
      "state": {
       "_model_module": "@jupyter-widgets/base",
       "_model_module_version": "1.2.0",
       "_model_name": "LayoutModel",
       "_view_count": null,
       "_view_module": "@jupyter-widgets/base",
       "_view_module_version": "1.2.0",
       "_view_name": "LayoutView",
       "align_content": null,
       "align_items": null,
       "align_self": null,
       "border": null,
       "bottom": null,
       "display": null,
       "flex": null,
       "flex_flow": null,
       "grid_area": null,
       "grid_auto_columns": null,
       "grid_auto_flow": null,
       "grid_auto_rows": null,
       "grid_column": null,
       "grid_gap": null,
       "grid_row": null,
       "grid_template_areas": null,
       "grid_template_columns": null,
       "grid_template_rows": null,
       "height": null,
       "justify_content": null,
       "justify_items": null,
       "left": null,
       "margin": null,
       "max_height": null,
       "max_width": null,
       "min_height": null,
       "min_width": null,
       "object_fit": null,
       "object_position": null,
       "order": null,
       "overflow": null,
       "overflow_x": null,
       "overflow_y": null,
       "padding": null,
       "right": null,
       "top": null,
       "visibility": null,
       "width": null
      }
     },
     "03d6d25387eb4b0883680a7a6cb1a5d4": {
      "model_module": "@jupyter-widgets/controls",
      "model_module_version": "1.5.0",
      "model_name": "HBoxModel",
      "state": {
       "_dom_classes": [],
       "_model_module": "@jupyter-widgets/controls",
       "_model_module_version": "1.5.0",
       "_model_name": "HBoxModel",
       "_view_count": null,
       "_view_module": "@jupyter-widgets/controls",
       "_view_module_version": "1.5.0",
       "_view_name": "HBoxView",
       "box_style": "",
       "children": [
        "IPY_MODEL_dc98d58755374f87b4516c263be90f9b",
        "IPY_MODEL_33896ed3b2a3466fa8dbb3ab67d362fb"
       ],
       "layout": "IPY_MODEL_888df75bbce54584ad104edfd2e5e40d"
      }
     },
     "08773420ad6741caa0a65fb48484196b": {
      "model_module": "@jupyter-widgets/base",
      "model_module_version": "1.2.0",
      "model_name": "LayoutModel",
      "state": {
       "_model_module": "@jupyter-widgets/base",
       "_model_module_version": "1.2.0",
       "_model_name": "LayoutModel",
       "_view_count": null,
       "_view_module": "@jupyter-widgets/base",
       "_view_module_version": "1.2.0",
       "_view_name": "LayoutView",
       "align_content": null,
       "align_items": null,
       "align_self": null,
       "border": null,
       "bottom": null,
       "display": null,
       "flex": null,
       "flex_flow": null,
       "grid_area": null,
       "grid_auto_columns": null,
       "grid_auto_flow": null,
       "grid_auto_rows": null,
       "grid_column": null,
       "grid_gap": null,
       "grid_row": null,
       "grid_template_areas": null,
       "grid_template_columns": null,
       "grid_template_rows": null,
       "height": null,
       "justify_content": null,
       "justify_items": null,
       "left": null,
       "margin": null,
       "max_height": null,
       "max_width": null,
       "min_height": null,
       "min_width": null,
       "object_fit": null,
       "object_position": null,
       "order": null,
       "overflow": null,
       "overflow_x": null,
       "overflow_y": null,
       "padding": null,
       "right": null,
       "top": null,
       "visibility": null,
       "width": null
      }
     },
     "0c075b84562c4ba9af565048572a5b31": {
      "model_module": "@jupyter-widgets/controls",
      "model_module_version": "1.5.0",
      "model_name": "HTMLModel",
      "state": {
       "_dom_classes": [],
       "_model_module": "@jupyter-widgets/controls",
       "_model_module_version": "1.5.0",
       "_model_name": "HTMLModel",
       "_view_count": null,
       "_view_module": "@jupyter-widgets/controls",
       "_view_module_version": "1.5.0",
       "_view_name": "HTMLView",
       "description": "",
       "description_tooltip": null,
       "layout": "IPY_MODEL_888f34c70e6648cb932a8731a1048a64",
       "placeholder": "​",
       "style": "IPY_MODEL_cbbb6c07a6074b6e987d91a6601df4e3",
       "value": " 433/433 [00:18&lt;00:00, 23.3B/s]"
      }
     },
     "0c88c2046f8b4e509309c87f020e5d63": {
      "model_module": "@jupyter-widgets/controls",
      "model_module_version": "1.5.0",
      "model_name": "ProgressStyleModel",
      "state": {
       "_model_module": "@jupyter-widgets/controls",
       "_model_module_version": "1.5.0",
       "_model_name": "ProgressStyleModel",
       "_view_count": null,
       "_view_module": "@jupyter-widgets/base",
       "_view_module_version": "1.2.0",
       "_view_name": "StyleView",
       "bar_color": null,
       "description_width": "initial"
      }
     },
     "0fcd7c611401462693b109d3cd34f5ea": {
      "model_module": "@jupyter-widgets/controls",
      "model_module_version": "1.5.0",
      "model_name": "HTMLModel",
      "state": {
       "_dom_classes": [],
       "_model_module": "@jupyter-widgets/controls",
       "_model_module_version": "1.5.0",
       "_model_name": "HTMLModel",
       "_view_count": null,
       "_view_module": "@jupyter-widgets/controls",
       "_view_module_version": "1.5.0",
       "_view_name": "HTMLView",
       "description": "",
       "description_tooltip": null,
       "layout": "IPY_MODEL_a4e7c2b3d22c4554aa12275809775cb8",
       "placeholder": "​",
       "style": "IPY_MODEL_00decb22a75046d49d0c5291dd06482c",
       "value": " 899k/899k [00:01&lt;00:00, 595kB/s]"
      }
     },
     "133ad0583afe4a49ac0410385444ac5e": {
      "model_module": "@jupyter-widgets/base",
      "model_module_version": "1.2.0",
      "model_name": "LayoutModel",
      "state": {
       "_model_module": "@jupyter-widgets/base",
       "_model_module_version": "1.2.0",
       "_model_name": "LayoutModel",
       "_view_count": null,
       "_view_module": "@jupyter-widgets/base",
       "_view_module_version": "1.2.0",
       "_view_name": "LayoutView",
       "align_content": null,
       "align_items": null,
       "align_self": null,
       "border": null,
       "bottom": null,
       "display": null,
       "flex": null,
       "flex_flow": null,
       "grid_area": null,
       "grid_auto_columns": null,
       "grid_auto_flow": null,
       "grid_auto_rows": null,
       "grid_column": null,
       "grid_gap": null,
       "grid_row": null,
       "grid_template_areas": null,
       "grid_template_columns": null,
       "grid_template_rows": null,
       "height": null,
       "justify_content": null,
       "justify_items": null,
       "left": null,
       "margin": null,
       "max_height": null,
       "max_width": null,
       "min_height": null,
       "min_width": null,
       "object_fit": null,
       "object_position": null,
       "order": null,
       "overflow": null,
       "overflow_x": null,
       "overflow_y": null,
       "padding": null,
       "right": null,
       "top": null,
       "visibility": null,
       "width": null
      }
     },
     "14a6ad083ddc43bdb77e7a0fa9441096": {
      "model_module": "@jupyter-widgets/base",
      "model_module_version": "1.2.0",
      "model_name": "LayoutModel",
      "state": {
       "_model_module": "@jupyter-widgets/base",
       "_model_module_version": "1.2.0",
       "_model_name": "LayoutModel",
       "_view_count": null,
       "_view_module": "@jupyter-widgets/base",
       "_view_module_version": "1.2.0",
       "_view_name": "LayoutView",
       "align_content": null,
       "align_items": null,
       "align_self": null,
       "border": null,
       "bottom": null,
       "display": null,
       "flex": null,
       "flex_flow": null,
       "grid_area": null,
       "grid_auto_columns": null,
       "grid_auto_flow": null,
       "grid_auto_rows": null,
       "grid_column": null,
       "grid_gap": null,
       "grid_row": null,
       "grid_template_areas": null,
       "grid_template_columns": null,
       "grid_template_rows": null,
       "height": null,
       "justify_content": null,
       "justify_items": null,
       "left": null,
       "margin": null,
       "max_height": null,
       "max_width": null,
       "min_height": null,
       "min_width": null,
       "object_fit": null,
       "object_position": null,
       "order": null,
       "overflow": null,
       "overflow_x": null,
       "overflow_y": null,
       "padding": null,
       "right": null,
       "top": null,
       "visibility": null,
       "width": null
      }
     },
     "16a4bfdb98924bde83cdfccd8117f90e": {
      "model_module": "@jupyter-widgets/base",
      "model_module_version": "1.2.0",
      "model_name": "LayoutModel",
      "state": {
       "_model_module": "@jupyter-widgets/base",
       "_model_module_version": "1.2.0",
       "_model_name": "LayoutModel",
       "_view_count": null,
       "_view_module": "@jupyter-widgets/base",
       "_view_module_version": "1.2.0",
       "_view_name": "LayoutView",
       "align_content": null,
       "align_items": null,
       "align_self": null,
       "border": null,
       "bottom": null,
       "display": null,
       "flex": null,
       "flex_flow": null,
       "grid_area": null,
       "grid_auto_columns": null,
       "grid_auto_flow": null,
       "grid_auto_rows": null,
       "grid_column": null,
       "grid_gap": null,
       "grid_row": null,
       "grid_template_areas": null,
       "grid_template_columns": null,
       "grid_template_rows": null,
       "height": null,
       "justify_content": null,
       "justify_items": null,
       "left": null,
       "margin": null,
       "max_height": null,
       "max_width": null,
       "min_height": null,
       "min_width": null,
       "object_fit": null,
       "object_position": null,
       "order": null,
       "overflow": null,
       "overflow_x": null,
       "overflow_y": null,
       "padding": null,
       "right": null,
       "top": null,
       "visibility": null,
       "width": null
      }
     },
     "1833c6d6839a4caa8be315c5569cd912": {
      "model_module": "@jupyter-widgets/base",
      "model_module_version": "1.2.0",
      "model_name": "LayoutModel",
      "state": {
       "_model_module": "@jupyter-widgets/base",
       "_model_module_version": "1.2.0",
       "_model_name": "LayoutModel",
       "_view_count": null,
       "_view_module": "@jupyter-widgets/base",
       "_view_module_version": "1.2.0",
       "_view_name": "LayoutView",
       "align_content": null,
       "align_items": null,
       "align_self": null,
       "border": null,
       "bottom": null,
       "display": null,
       "flex": null,
       "flex_flow": null,
       "grid_area": null,
       "grid_auto_columns": null,
       "grid_auto_flow": null,
       "grid_auto_rows": null,
       "grid_column": null,
       "grid_gap": null,
       "grid_row": null,
       "grid_template_areas": null,
       "grid_template_columns": null,
       "grid_template_rows": null,
       "height": null,
       "justify_content": null,
       "justify_items": null,
       "left": null,
       "margin": null,
       "max_height": null,
       "max_width": null,
       "min_height": null,
       "min_width": null,
       "object_fit": null,
       "object_position": null,
       "order": null,
       "overflow": null,
       "overflow_x": null,
       "overflow_y": null,
       "padding": null,
       "right": null,
       "top": null,
       "visibility": null,
       "width": null
      }
     },
     "1df53d8f70144c0d8fbbcc4991b76a35": {
      "model_module": "@jupyter-widgets/controls",
      "model_module_version": "1.5.0",
      "model_name": "ProgressStyleModel",
      "state": {
       "_model_module": "@jupyter-widgets/controls",
       "_model_module_version": "1.5.0",
       "_model_name": "ProgressStyleModel",
       "_view_count": null,
       "_view_module": "@jupyter-widgets/base",
       "_view_module_version": "1.2.0",
       "_view_name": "StyleView",
       "bar_color": null,
       "description_width": "initial"
      }
     },
     "22ca8215cc0f49a380cad6a5a28babee": {
      "model_module": "@jupyter-widgets/controls",
      "model_module_version": "1.5.0",
      "model_name": "DescriptionStyleModel",
      "state": {
       "_model_module": "@jupyter-widgets/controls",
       "_model_module_version": "1.5.0",
       "_model_name": "DescriptionStyleModel",
       "_view_count": null,
       "_view_module": "@jupyter-widgets/base",
       "_view_module_version": "1.2.0",
       "_view_name": "StyleView",
       "description_width": ""
      }
     },
     "23e3cbf91d1143f28867e5a94edb6bcf": {
      "model_module": "@jupyter-widgets/controls",
      "model_module_version": "1.5.0",
      "model_name": "HBoxModel",
      "state": {
       "_dom_classes": [],
       "_model_module": "@jupyter-widgets/controls",
       "_model_module_version": "1.5.0",
       "_model_name": "HBoxModel",
       "_view_count": null,
       "_view_module": "@jupyter-widgets/controls",
       "_view_module_version": "1.5.0",
       "_view_name": "HBoxView",
       "box_style": "",
       "children": [
        "IPY_MODEL_eb2d0cd0baaa49ca8b3d599129120ea5",
        "IPY_MODEL_2edd91e4e3a6486a8b2cfd82fa8af075"
       ],
       "layout": "IPY_MODEL_133ad0583afe4a49ac0410385444ac5e"
      }
     },
     "23e8ec172e8d41719928adfddf3934d1": {
      "model_module": "@jupyter-widgets/controls",
      "model_module_version": "1.5.0",
      "model_name": "ProgressStyleModel",
      "state": {
       "_model_module": "@jupyter-widgets/controls",
       "_model_module_version": "1.5.0",
       "_model_name": "ProgressStyleModel",
       "_view_count": null,
       "_view_module": "@jupyter-widgets/base",
       "_view_module_version": "1.2.0",
       "_view_name": "StyleView",
       "bar_color": null,
       "description_width": "initial"
      }
     },
     "24030e20b08f4f2db2383b4150ea1582": {
      "model_module": "@jupyter-widgets/controls",
      "model_module_version": "1.5.0",
      "model_name": "HBoxModel",
      "state": {
       "_dom_classes": [],
       "_model_module": "@jupyter-widgets/controls",
       "_model_module_version": "1.5.0",
       "_model_name": "HBoxModel",
       "_view_count": null,
       "_view_module": "@jupyter-widgets/controls",
       "_view_module_version": "1.5.0",
       "_view_name": "HBoxView",
       "box_style": "",
       "children": [
        "IPY_MODEL_aaa81d90221f4508b3dd9e1f669411c1",
        "IPY_MODEL_0c075b84562c4ba9af565048572a5b31"
       ],
       "layout": "IPY_MODEL_c6be51805a17469cabfff1333f26bbcc"
      }
     },
     "24184519e11b4ed4ab2bcffaf60d7904": {
      "model_module": "@jupyter-widgets/base",
      "model_module_version": "1.2.0",
      "model_name": "LayoutModel",
      "state": {
       "_model_module": "@jupyter-widgets/base",
       "_model_module_version": "1.2.0",
       "_model_name": "LayoutModel",
       "_view_count": null,
       "_view_module": "@jupyter-widgets/base",
       "_view_module_version": "1.2.0",
       "_view_name": "LayoutView",
       "align_content": null,
       "align_items": null,
       "align_self": null,
       "border": null,
       "bottom": null,
       "display": null,
       "flex": null,
       "flex_flow": null,
       "grid_area": null,
       "grid_auto_columns": null,
       "grid_auto_flow": null,
       "grid_auto_rows": null,
       "grid_column": null,
       "grid_gap": null,
       "grid_row": null,
       "grid_template_areas": null,
       "grid_template_columns": null,
       "grid_template_rows": null,
       "height": null,
       "justify_content": null,
       "justify_items": null,
       "left": null,
       "margin": null,
       "max_height": null,
       "max_width": null,
       "min_height": null,
       "min_width": null,
       "object_fit": null,
       "object_position": null,
       "order": null,
       "overflow": null,
       "overflow_x": null,
       "overflow_y": null,
       "padding": null,
       "right": null,
       "top": null,
       "visibility": null,
       "width": null
      }
     },
     "26a91976ceb14f75b593baf9079dc791": {
      "model_module": "@jupyter-widgets/controls",
      "model_module_version": "1.5.0",
      "model_name": "ProgressStyleModel",
      "state": {
       "_model_module": "@jupyter-widgets/controls",
       "_model_module_version": "1.5.0",
       "_model_name": "ProgressStyleModel",
       "_view_count": null,
       "_view_module": "@jupyter-widgets/base",
       "_view_module_version": "1.2.0",
       "_view_name": "StyleView",
       "bar_color": null,
       "description_width": "initial"
      }
     },
     "2bd5fb74646c4624b571a8ffba930ef8": {
      "model_module": "@jupyter-widgets/controls",
      "model_module_version": "1.5.0",
      "model_name": "HTMLModel",
      "state": {
       "_dom_classes": [],
       "_model_module": "@jupyter-widgets/controls",
       "_model_module_version": "1.5.0",
       "_model_name": "HTMLModel",
       "_view_count": null,
       "_view_module": "@jupyter-widgets/controls",
       "_view_module_version": "1.5.0",
       "_view_name": "HTMLView",
       "description": "",
       "description_tooltip": null,
       "layout": "IPY_MODEL_7891ec8d85b2456c8e59f292d5801017",
       "placeholder": "​",
       "style": "IPY_MODEL_e4d8b1a000fd4ebc8077467af72007a8",
       "value": " 442/442 [00:00&lt;00:00, 1.40kB/s]"
      }
     },
     "2c69e3f1400c4916ba5ee4a3335ea3a8": {
      "model_module": "@jupyter-widgets/controls",
      "model_module_version": "1.5.0",
      "model_name": "FloatProgressModel",
      "state": {
       "_dom_classes": [],
       "_model_module": "@jupyter-widgets/controls",
       "_model_module_version": "1.5.0",
       "_model_name": "FloatProgressModel",
       "_view_count": null,
       "_view_module": "@jupyter-widgets/controls",
       "_view_module_version": "1.5.0",
       "_view_name": "ProgressView",
       "bar_style": "success",
       "description": "Downloading: 100%",
       "description_tooltip": null,
       "layout": "IPY_MODEL_a8344490152045cc9a440b39480e3a07",
       "max": 267967963.0,
       "min": 0.0,
       "orientation": "horizontal",
       "style": "IPY_MODEL_a4bf24ad2843485cba5d1a2e3d117a6d",
       "value": 267967963.0
      }
     },
     "2d5933e504c244dc85240a6ac3e07b46": {
      "model_module": "@jupyter-widgets/controls",
      "model_module_version": "1.5.0",
      "model_name": "DescriptionStyleModel",
      "state": {
       "_model_module": "@jupyter-widgets/controls",
       "_model_module_version": "1.5.0",
       "_model_name": "DescriptionStyleModel",
       "_view_count": null,
       "_view_module": "@jupyter-widgets/base",
       "_view_module_version": "1.2.0",
       "_view_name": "StyleView",
       "description_width": ""
      }
     },
     "2edd91e4e3a6486a8b2cfd82fa8af075": {
      "model_module": "@jupyter-widgets/controls",
      "model_module_version": "1.5.0",
      "model_name": "HTMLModel",
      "state": {
       "_dom_classes": [],
       "_model_module": "@jupyter-widgets/controls",
       "_model_module_version": "1.5.0",
       "_model_name": "HTMLModel",
       "_view_count": null,
       "_view_module": "@jupyter-widgets/controls",
       "_view_module_version": "1.5.0",
       "_view_name": "HTMLView",
       "description": "",
       "description_tooltip": null,
       "layout": "IPY_MODEL_a3af3dea2a3e4c2ba2b8b59341758788",
       "placeholder": "​",
       "style": "IPY_MODEL_ef5c4cefbf614d828153c1488b0ef8eb",
       "value": " 481/481 [00:00&lt;00:00, 1.18kB/s]"
      }
     },
     "30825165d82441bf993279d7c737cc1e": {
      "model_module": "@jupyter-widgets/base",
      "model_module_version": "1.2.0",
      "model_name": "LayoutModel",
      "state": {
       "_model_module": "@jupyter-widgets/base",
       "_model_module_version": "1.2.0",
       "_model_name": "LayoutModel",
       "_view_count": null,
       "_view_module": "@jupyter-widgets/base",
       "_view_module_version": "1.2.0",
       "_view_name": "LayoutView",
       "align_content": null,
       "align_items": null,
       "align_self": null,
       "border": null,
       "bottom": null,
       "display": null,
       "flex": null,
       "flex_flow": null,
       "grid_area": null,
       "grid_auto_columns": null,
       "grid_auto_flow": null,
       "grid_auto_rows": null,
       "grid_column": null,
       "grid_gap": null,
       "grid_row": null,
       "grid_template_areas": null,
       "grid_template_columns": null,
       "grid_template_rows": null,
       "height": null,
       "justify_content": null,
       "justify_items": null,
       "left": null,
       "margin": null,
       "max_height": null,
       "max_width": null,
       "min_height": null,
       "min_width": null,
       "object_fit": null,
       "object_position": null,
       "order": null,
       "overflow": null,
       "overflow_x": null,
       "overflow_y": null,
       "padding": null,
       "right": null,
       "top": null,
       "visibility": null,
       "width": null
      }
     },
     "32a08791e5204a51a82501c487953749": {
      "model_module": "@jupyter-widgets/base",
      "model_module_version": "1.2.0",
      "model_name": "LayoutModel",
      "state": {
       "_model_module": "@jupyter-widgets/base",
       "_model_module_version": "1.2.0",
       "_model_name": "LayoutModel",
       "_view_count": null,
       "_view_module": "@jupyter-widgets/base",
       "_view_module_version": "1.2.0",
       "_view_name": "LayoutView",
       "align_content": null,
       "align_items": null,
       "align_self": null,
       "border": null,
       "bottom": null,
       "display": null,
       "flex": null,
       "flex_flow": null,
       "grid_area": null,
       "grid_auto_columns": null,
       "grid_auto_flow": null,
       "grid_auto_rows": null,
       "grid_column": null,
       "grid_gap": null,
       "grid_row": null,
       "grid_template_areas": null,
       "grid_template_columns": null,
       "grid_template_rows": null,
       "height": null,
       "justify_content": null,
       "justify_items": null,
       "left": null,
       "margin": null,
       "max_height": null,
       "max_width": null,
       "min_height": null,
       "min_width": null,
       "object_fit": null,
       "object_position": null,
       "order": null,
       "overflow": null,
       "overflow_x": null,
       "overflow_y": null,
       "padding": null,
       "right": null,
       "top": null,
       "visibility": null,
       "width": null
      }
     },
     "32f463af03244dd6992a18c6447f6530": {
      "model_module": "@jupyter-widgets/controls",
      "model_module_version": "1.5.0",
      "model_name": "FloatProgressModel",
      "state": {
       "_dom_classes": [],
       "_model_module": "@jupyter-widgets/controls",
       "_model_module_version": "1.5.0",
       "_model_name": "FloatProgressModel",
       "_view_count": null,
       "_view_module": "@jupyter-widgets/controls",
       "_view_module_version": "1.5.0",
       "_view_name": "ProgressView",
       "bar_style": "success",
       "description": "Downloading: 100%",
       "description_tooltip": null,
       "layout": "IPY_MODEL_613a3a8c50ed4eaba282cb6ff4798d70",
       "max": 435779157.0,
       "min": 0.0,
       "orientation": "horizontal",
       "style": "IPY_MODEL_0c88c2046f8b4e509309c87f020e5d63",
       "value": 435779157.0
      }
     },
     "33896ed3b2a3466fa8dbb3ab67d362fb": {
      "model_module": "@jupyter-widgets/controls",
      "model_module_version": "1.5.0",
      "model_name": "HTMLModel",
      "state": {
       "_dom_classes": [],
       "_model_module": "@jupyter-widgets/controls",
       "_model_module_version": "1.5.0",
       "_model_name": "HTMLModel",
       "_view_count": null,
       "_view_module": "@jupyter-widgets/controls",
       "_view_module_version": "1.5.0",
       "_view_name": "HTMLView",
       "description": "",
       "description_tooltip": null,
       "layout": "IPY_MODEL_32a08791e5204a51a82501c487953749",
       "placeholder": "​",
       "style": "IPY_MODEL_5fb700eb00434fd597bc2ceb15ce3a07",
       "value": " 213k/213k [00:00&lt;00:00, 571kB/s]"
      }
     },
     "38f47a754eeb4c4bb4867b2973ea9078": {
      "model_module": "@jupyter-widgets/controls",
      "model_module_version": "1.5.0",
      "model_name": "ProgressStyleModel",
      "state": {
       "_model_module": "@jupyter-widgets/controls",
       "_model_module_version": "1.5.0",
       "_model_name": "ProgressStyleModel",
       "_view_count": null,
       "_view_module": "@jupyter-widgets/base",
       "_view_module_version": "1.2.0",
       "_view_name": "StyleView",
       "bar_color": null,
       "description_width": "initial"
      }
     },
     "3f8aeb602e1c4c7089e1db7385d882c6": {
      "model_module": "@jupyter-widgets/controls",
      "model_module_version": "1.5.0",
      "model_name": "FloatProgressModel",
      "state": {
       "_dom_classes": [],
       "_model_module": "@jupyter-widgets/controls",
       "_model_module_version": "1.5.0",
       "_model_name": "FloatProgressModel",
       "_view_count": null,
       "_view_module": "@jupyter-widgets/controls",
       "_view_module_version": "1.5.0",
       "_view_name": "ProgressView",
       "bar_style": "success",
       "description": "Downloading: 100%",
       "description_tooltip": null,
       "layout": "IPY_MODEL_cde62b0696ab48fbaf5aa9ed1ae718aa",
       "max": 231508.0,
       "min": 0.0,
       "orientation": "horizontal",
       "style": "IPY_MODEL_23e8ec172e8d41719928adfddf3934d1",
       "value": 231508.0
      }
     },
     "45362d85116141e98c01b54d80d7e5ca": {
      "model_module": "@jupyter-widgets/base",
      "model_module_version": "1.2.0",
      "model_name": "LayoutModel",
      "state": {
       "_model_module": "@jupyter-widgets/base",
       "_model_module_version": "1.2.0",
       "_model_name": "LayoutModel",
       "_view_count": null,
       "_view_module": "@jupyter-widgets/base",
       "_view_module_version": "1.2.0",
       "_view_name": "LayoutView",
       "align_content": null,
       "align_items": null,
       "align_self": null,
       "border": null,
       "bottom": null,
       "display": null,
       "flex": null,
       "flex_flow": null,
       "grid_area": null,
       "grid_auto_columns": null,
       "grid_auto_flow": null,
       "grid_auto_rows": null,
       "grid_column": null,
       "grid_gap": null,
       "grid_row": null,
       "grid_template_areas": null,
       "grid_template_columns": null,
       "grid_template_rows": null,
       "height": null,
       "justify_content": null,
       "justify_items": null,
       "left": null,
       "margin": null,
       "max_height": null,
       "max_width": null,
       "min_height": null,
       "min_width": null,
       "object_fit": null,
       "object_position": null,
       "order": null,
       "overflow": null,
       "overflow_x": null,
       "overflow_y": null,
       "padding": null,
       "right": null,
       "top": null,
       "visibility": null,
       "width": null
      }
     },
     "49549192dddd41a4809d12d754e385a4": {
      "model_module": "@jupyter-widgets/base",
      "model_module_version": "1.2.0",
      "model_name": "LayoutModel",
      "state": {
       "_model_module": "@jupyter-widgets/base",
       "_model_module_version": "1.2.0",
       "_model_name": "LayoutModel",
       "_view_count": null,
       "_view_module": "@jupyter-widgets/base",
       "_view_module_version": "1.2.0",
       "_view_name": "LayoutView",
       "align_content": null,
       "align_items": null,
       "align_self": null,
       "border": null,
       "bottom": null,
       "display": null,
       "flex": null,
       "flex_flow": null,
       "grid_area": null,
       "grid_auto_columns": null,
       "grid_auto_flow": null,
       "grid_auto_rows": null,
       "grid_column": null,
       "grid_gap": null,
       "grid_row": null,
       "grid_template_areas": null,
       "grid_template_columns": null,
       "grid_template_rows": null,
       "height": null,
       "justify_content": null,
       "justify_items": null,
       "left": null,
       "margin": null,
       "max_height": null,
       "max_width": null,
       "min_height": null,
       "min_width": null,
       "object_fit": null,
       "object_position": null,
       "order": null,
       "overflow": null,
       "overflow_x": null,
       "overflow_y": null,
       "padding": null,
       "right": null,
       "top": null,
       "visibility": null,
       "width": null
      }
     },
     "594bb255127049aba77e7e830bdf361b": {
      "model_module": "@jupyter-widgets/controls",
      "model_module_version": "1.5.0",
      "model_name": "HTMLModel",
      "state": {
       "_dom_classes": [],
       "_model_module": "@jupyter-widgets/controls",
       "_model_module_version": "1.5.0",
       "_model_name": "HTMLModel",
       "_view_count": null,
       "_view_module": "@jupyter-widgets/controls",
       "_view_module_version": "1.5.0",
       "_view_name": "HTMLView",
       "description": "",
       "description_tooltip": null,
       "layout": "IPY_MODEL_c30ea0b9311e400999fd6090f2f0a07c",
       "placeholder": "​",
       "style": "IPY_MODEL_ecc52b02e1c446879c4deb0e0094a34d",
       "value": " 268M/268M [00:07&lt;00:00, 35.2MB/s]"
      }
     },
     "59e80e0990b447a9abdb1c813f82752e": {
      "model_module": "@jupyter-widgets/controls",
      "model_module_version": "1.5.0",
      "model_name": "DescriptionStyleModel",
      "state": {
       "_model_module": "@jupyter-widgets/controls",
       "_model_module_version": "1.5.0",
       "_model_name": "DescriptionStyleModel",
       "_view_count": null,
       "_view_module": "@jupyter-widgets/base",
       "_view_module_version": "1.2.0",
       "_view_name": "StyleView",
       "description_width": ""
      }
     },
     "5edf2c655f3243a5a93c8abc0870af2b": {
      "model_module": "@jupyter-widgets/controls",
      "model_module_version": "1.5.0",
      "model_name": "FloatProgressModel",
      "state": {
       "_dom_classes": [],
       "_model_module": "@jupyter-widgets/controls",
       "_model_module_version": "1.5.0",
       "_model_name": "FloatProgressModel",
       "_view_count": null,
       "_view_module": "@jupyter-widgets/controls",
       "_view_module_version": "1.5.0",
       "_view_name": "ProgressView",
       "bar_style": "success",
       "description": "Downloading: 100%",
       "description_tooltip": null,
       "layout": "IPY_MODEL_49549192dddd41a4809d12d754e385a4",
       "max": 456318.0,
       "min": 0.0,
       "orientation": "horizontal",
       "style": "IPY_MODEL_1df53d8f70144c0d8fbbcc4991b76a35",
       "value": 456318.0
      }
     },
     "5fb700eb00434fd597bc2ceb15ce3a07": {
      "model_module": "@jupyter-widgets/controls",
      "model_module_version": "1.5.0",
      "model_name": "DescriptionStyleModel",
      "state": {
       "_model_module": "@jupyter-widgets/controls",
       "_model_module_version": "1.5.0",
       "_model_name": "DescriptionStyleModel",
       "_view_count": null,
       "_view_module": "@jupyter-widgets/base",
       "_view_module_version": "1.2.0",
       "_view_name": "StyleView",
       "description_width": ""
      }
     },
     "613a3a8c50ed4eaba282cb6ff4798d70": {
      "model_module": "@jupyter-widgets/base",
      "model_module_version": "1.2.0",
      "model_name": "LayoutModel",
      "state": {
       "_model_module": "@jupyter-widgets/base",
       "_model_module_version": "1.2.0",
       "_model_name": "LayoutModel",
       "_view_count": null,
       "_view_module": "@jupyter-widgets/base",
       "_view_module_version": "1.2.0",
       "_view_name": "LayoutView",
       "align_content": null,
       "align_items": null,
       "align_self": null,
       "border": null,
       "bottom": null,
       "display": null,
       "flex": null,
       "flex_flow": null,
       "grid_area": null,
       "grid_auto_columns": null,
       "grid_auto_flow": null,
       "grid_auto_rows": null,
       "grid_column": null,
       "grid_gap": null,
       "grid_row": null,
       "grid_template_areas": null,
       "grid_template_columns": null,
       "grid_template_rows": null,
       "height": null,
       "justify_content": null,
       "justify_items": null,
       "left": null,
       "margin": null,
       "max_height": null,
       "max_width": null,
       "min_height": null,
       "min_width": null,
       "object_fit": null,
       "object_position": null,
       "order": null,
       "overflow": null,
       "overflow_x": null,
       "overflow_y": null,
       "padding": null,
       "right": null,
       "top": null,
       "visibility": null,
       "width": null
      }
     },
     "6725a021f30245a89656ced5a09250c7": {
      "model_module": "@jupyter-widgets/controls",
      "model_module_version": "1.5.0",
      "model_name": "ProgressStyleModel",
      "state": {
       "_model_module": "@jupyter-widgets/controls",
       "_model_module_version": "1.5.0",
       "_model_name": "ProgressStyleModel",
       "_view_count": null,
       "_view_module": "@jupyter-widgets/base",
       "_view_module_version": "1.2.0",
       "_view_name": "StyleView",
       "bar_color": null,
       "description_width": "initial"
      }
     },
     "687b165bfd6f418e8ec9c0aed2963c9e": {
      "model_module": "@jupyter-widgets/controls",
      "model_module_version": "1.5.0",
      "model_name": "FloatProgressModel",
      "state": {
       "_dom_classes": [],
       "_model_module": "@jupyter-widgets/controls",
       "_model_module_version": "1.5.0",
       "_model_name": "FloatProgressModel",
       "_view_count": null,
       "_view_module": "@jupyter-widgets/controls",
       "_view_module_version": "1.5.0",
       "_view_name": "ProgressView",
       "bar_style": "success",
       "description": "Downloading: 100%",
       "description_tooltip": null,
       "layout": "IPY_MODEL_14a6ad083ddc43bdb77e7a0fa9441096",
       "max": 442.0,
       "min": 0.0,
       "orientation": "horizontal",
       "style": "IPY_MODEL_6725a021f30245a89656ced5a09250c7",
       "value": 442.0
      }
     },
     "69a768b5f883432a8305f7419a6e8327": {
      "model_module": "@jupyter-widgets/base",
      "model_module_version": "1.2.0",
      "model_name": "LayoutModel",
      "state": {
       "_model_module": "@jupyter-widgets/base",
       "_model_module_version": "1.2.0",
       "_model_name": "LayoutModel",
       "_view_count": null,
       "_view_module": "@jupyter-widgets/base",
       "_view_module_version": "1.2.0",
       "_view_name": "LayoutView",
       "align_content": null,
       "align_items": null,
       "align_self": null,
       "border": null,
       "bottom": null,
       "display": null,
       "flex": null,
       "flex_flow": null,
       "grid_area": null,
       "grid_auto_columns": null,
       "grid_auto_flow": null,
       "grid_auto_rows": null,
       "grid_column": null,
       "grid_gap": null,
       "grid_row": null,
       "grid_template_areas": null,
       "grid_template_columns": null,
       "grid_template_rows": null,
       "height": null,
       "justify_content": null,
       "justify_items": null,
       "left": null,
       "margin": null,
       "max_height": null,
       "max_width": null,
       "min_height": null,
       "min_width": null,
       "object_fit": null,
       "object_position": null,
       "order": null,
       "overflow": null,
       "overflow_x": null,
       "overflow_y": null,
       "padding": null,
       "right": null,
       "top": null,
       "visibility": null,
       "width": null
      }
     },
     "6d22cce76f2b4d0a80a98884094ef2a0": {
      "model_module": "@jupyter-widgets/controls",
      "model_module_version": "1.5.0",
      "model_name": "HBoxModel",
      "state": {
       "_dom_classes": [],
       "_model_module": "@jupyter-widgets/controls",
       "_model_module_version": "1.5.0",
       "_model_name": "HBoxModel",
       "_view_count": null,
       "_view_module": "@jupyter-widgets/controls",
       "_view_module_version": "1.5.0",
       "_view_name": "HBoxView",
       "box_style": "",
       "children": [
        "IPY_MODEL_ac0f7dd8a881414db0954d5e89af21fe",
        "IPY_MODEL_0fcd7c611401462693b109d3cd34f5ea"
       ],
       "layout": "IPY_MODEL_30825165d82441bf993279d7c737cc1e"
      }
     },
     "717f12f595cf470fbdf33026a5527307": {
      "model_module": "@jupyter-widgets/base",
      "model_module_version": "1.2.0",
      "model_name": "LayoutModel",
      "state": {
       "_model_module": "@jupyter-widgets/base",
       "_model_module_version": "1.2.0",
       "_model_name": "LayoutModel",
       "_view_count": null,
       "_view_module": "@jupyter-widgets/base",
       "_view_module_version": "1.2.0",
       "_view_name": "LayoutView",
       "align_content": null,
       "align_items": null,
       "align_self": null,
       "border": null,
       "bottom": null,
       "display": null,
       "flex": null,
       "flex_flow": null,
       "grid_area": null,
       "grid_auto_columns": null,
       "grid_auto_flow": null,
       "grid_auto_rows": null,
       "grid_column": null,
       "grid_gap": null,
       "grid_row": null,
       "grid_template_areas": null,
       "grid_template_columns": null,
       "grid_template_rows": null,
       "height": null,
       "justify_content": null,
       "justify_items": null,
       "left": null,
       "margin": null,
       "max_height": null,
       "max_width": null,
       "min_height": null,
       "min_width": null,
       "object_fit": null,
       "object_position": null,
       "order": null,
       "overflow": null,
       "overflow_x": null,
       "overflow_y": null,
       "padding": null,
       "right": null,
       "top": null,
       "visibility": null,
       "width": null
      }
     },
     "72a3ae49c1f14364b6e58475e5148d29": {
      "model_module": "@jupyter-widgets/controls",
      "model_module_version": "1.5.0",
      "model_name": "ProgressStyleModel",
      "state": {
       "_model_module": "@jupyter-widgets/controls",
       "_model_module_version": "1.5.0",
       "_model_name": "ProgressStyleModel",
       "_view_count": null,
       "_view_module": "@jupyter-widgets/base",
       "_view_module_version": "1.2.0",
       "_view_name": "StyleView",
       "bar_color": null,
       "description_width": "initial"
      }
     },
     "7891ec8d85b2456c8e59f292d5801017": {
      "model_module": "@jupyter-widgets/base",
      "model_module_version": "1.2.0",
      "model_name": "LayoutModel",
      "state": {
       "_model_module": "@jupyter-widgets/base",
       "_model_module_version": "1.2.0",
       "_model_name": "LayoutModel",
       "_view_count": null,
       "_view_module": "@jupyter-widgets/base",
       "_view_module_version": "1.2.0",
       "_view_name": "LayoutView",
       "align_content": null,
       "align_items": null,
       "align_self": null,
       "border": null,
       "bottom": null,
       "display": null,
       "flex": null,
       "flex_flow": null,
       "grid_area": null,
       "grid_auto_columns": null,
       "grid_auto_flow": null,
       "grid_auto_rows": null,
       "grid_column": null,
       "grid_gap": null,
       "grid_row": null,
       "grid_template_areas": null,
       "grid_template_columns": null,
       "grid_template_rows": null,
       "height": null,
       "justify_content": null,
       "justify_items": null,
       "left": null,
       "margin": null,
       "max_height": null,
       "max_width": null,
       "min_height": null,
       "min_width": null,
       "object_fit": null,
       "object_position": null,
       "order": null,
       "overflow": null,
       "overflow_x": null,
       "overflow_y": null,
       "padding": null,
       "right": null,
       "top": null,
       "visibility": null,
       "width": null
      }
     },
     "78fc2cb2f10044a483e558a696678cac": {
      "model_module": "@jupyter-widgets/controls",
      "model_module_version": "1.5.0",
      "model_name": "DescriptionStyleModel",
      "state": {
       "_model_module": "@jupyter-widgets/controls",
       "_model_module_version": "1.5.0",
       "_model_name": "DescriptionStyleModel",
       "_view_count": null,
       "_view_module": "@jupyter-widgets/base",
       "_view_module_version": "1.2.0",
       "_view_name": "StyleView",
       "description_width": ""
      }
     },
     "7a2c54544986416eaa3bbceb84b4d4d7": {
      "model_module": "@jupyter-widgets/controls",
      "model_module_version": "1.5.0",
      "model_name": "HBoxModel",
      "state": {
       "_dom_classes": [],
       "_model_module": "@jupyter-widgets/controls",
       "_model_module_version": "1.5.0",
       "_model_name": "HBoxModel",
       "_view_count": null,
       "_view_module": "@jupyter-widgets/controls",
       "_view_module_version": "1.5.0",
       "_view_name": "HBoxView",
       "box_style": "",
       "children": [
        "IPY_MODEL_87f8c251f9a14c5aa0ae97a735830f80",
        "IPY_MODEL_d361afb874d245de9091d6d222e2c176"
       ],
       "layout": "IPY_MODEL_a8ed985ba7564eaca60627225552aaaa"
      }
     },
     "80b5f4fcddce4572b699ca0a5e2924e8": {
      "model_module": "@jupyter-widgets/base",
      "model_module_version": "1.2.0",
      "model_name": "LayoutModel",
      "state": {
       "_model_module": "@jupyter-widgets/base",
       "_model_module_version": "1.2.0",
       "_model_name": "LayoutModel",
       "_view_count": null,
       "_view_module": "@jupyter-widgets/base",
       "_view_module_version": "1.2.0",
       "_view_name": "LayoutView",
       "align_content": null,
       "align_items": null,
       "align_self": null,
       "border": null,
       "bottom": null,
       "display": null,
       "flex": null,
       "flex_flow": null,
       "grid_area": null,
       "grid_auto_columns": null,
       "grid_auto_flow": null,
       "grid_auto_rows": null,
       "grid_column": null,
       "grid_gap": null,
       "grid_row": null,
       "grid_template_areas": null,
       "grid_template_columns": null,
       "grid_template_rows": null,
       "height": null,
       "justify_content": null,
       "justify_items": null,
       "left": null,
       "margin": null,
       "max_height": null,
       "max_width": null,
       "min_height": null,
       "min_width": null,
       "object_fit": null,
       "object_position": null,
       "order": null,
       "overflow": null,
       "overflow_x": null,
       "overflow_y": null,
       "padding": null,
       "right": null,
       "top": null,
       "visibility": null,
       "width": null
      }
     },
     "87e247e0cc5a4e68a67536842884707a": {
      "model_module": "@jupyter-widgets/base",
      "model_module_version": "1.2.0",
      "model_name": "LayoutModel",
      "state": {
       "_model_module": "@jupyter-widgets/base",
       "_model_module_version": "1.2.0",
       "_model_name": "LayoutModel",
       "_view_count": null,
       "_view_module": "@jupyter-widgets/base",
       "_view_module_version": "1.2.0",
       "_view_name": "LayoutView",
       "align_content": null,
       "align_items": null,
       "align_self": null,
       "border": null,
       "bottom": null,
       "display": null,
       "flex": null,
       "flex_flow": null,
       "grid_area": null,
       "grid_auto_columns": null,
       "grid_auto_flow": null,
       "grid_auto_rows": null,
       "grid_column": null,
       "grid_gap": null,
       "grid_row": null,
       "grid_template_areas": null,
       "grid_template_columns": null,
       "grid_template_rows": null,
       "height": null,
       "justify_content": null,
       "justify_items": null,
       "left": null,
       "margin": null,
       "max_height": null,
       "max_width": null,
       "min_height": null,
       "min_width": null,
       "object_fit": null,
       "object_position": null,
       "order": null,
       "overflow": null,
       "overflow_x": null,
       "overflow_y": null,
       "padding": null,
       "right": null,
       "top": null,
       "visibility": null,
       "width": null
      }
     },
     "87f8c251f9a14c5aa0ae97a735830f80": {
      "model_module": "@jupyter-widgets/controls",
      "model_module_version": "1.5.0",
      "model_name": "FloatProgressModel",
      "state": {
       "_dom_classes": [],
       "_model_module": "@jupyter-widgets/controls",
       "_model_module_version": "1.5.0",
       "_model_name": "FloatProgressModel",
       "_view_count": null,
       "_view_module": "@jupyter-widgets/controls",
       "_view_module_version": "1.5.0",
       "_view_name": "ProgressView",
       "bar_style": "success",
       "description": "Downloading: 100%",
       "description_tooltip": null,
       "layout": "IPY_MODEL_1833c6d6839a4caa8be315c5569cd912",
       "max": 501200538.0,
       "min": 0.0,
       "orientation": "horizontal",
       "style": "IPY_MODEL_9f9441d4c41048ed9f7689aabca77dbf",
       "value": 501200538.0
      }
     },
     "888df75bbce54584ad104edfd2e5e40d": {
      "model_module": "@jupyter-widgets/base",
      "model_module_version": "1.2.0",
      "model_name": "LayoutModel",
      "state": {
       "_model_module": "@jupyter-widgets/base",
       "_model_module_version": "1.2.0",
       "_model_name": "LayoutModel",
       "_view_count": null,
       "_view_module": "@jupyter-widgets/base",
       "_view_module_version": "1.2.0",
       "_view_name": "LayoutView",
       "align_content": null,
       "align_items": null,
       "align_self": null,
       "border": null,
       "bottom": null,
       "display": null,
       "flex": null,
       "flex_flow": null,
       "grid_area": null,
       "grid_auto_columns": null,
       "grid_auto_flow": null,
       "grid_auto_rows": null,
       "grid_column": null,
       "grid_gap": null,
       "grid_row": null,
       "grid_template_areas": null,
       "grid_template_columns": null,
       "grid_template_rows": null,
       "height": null,
       "justify_content": null,
       "justify_items": null,
       "left": null,
       "margin": null,
       "max_height": null,
       "max_width": null,
       "min_height": null,
       "min_width": null,
       "object_fit": null,
       "object_position": null,
       "order": null,
       "overflow": null,
       "overflow_x": null,
       "overflow_y": null,
       "padding": null,
       "right": null,
       "top": null,
       "visibility": null,
       "width": null
      }
     },
     "888f34c70e6648cb932a8731a1048a64": {
      "model_module": "@jupyter-widgets/base",
      "model_module_version": "1.2.0",
      "model_name": "LayoutModel",
      "state": {
       "_model_module": "@jupyter-widgets/base",
       "_model_module_version": "1.2.0",
       "_model_name": "LayoutModel",
       "_view_count": null,
       "_view_module": "@jupyter-widgets/base",
       "_view_module_version": "1.2.0",
       "_view_name": "LayoutView",
       "align_content": null,
       "align_items": null,
       "align_self": null,
       "border": null,
       "bottom": null,
       "display": null,
       "flex": null,
       "flex_flow": null,
       "grid_area": null,
       "grid_auto_columns": null,
       "grid_auto_flow": null,
       "grid_auto_rows": null,
       "grid_column": null,
       "grid_gap": null,
       "grid_row": null,
       "grid_template_areas": null,
       "grid_template_columns": null,
       "grid_template_rows": null,
       "height": null,
       "justify_content": null,
       "justify_items": null,
       "left": null,
       "margin": null,
       "max_height": null,
       "max_width": null,
       "min_height": null,
       "min_width": null,
       "object_fit": null,
       "object_position": null,
       "order": null,
       "overflow": null,
       "overflow_x": null,
       "overflow_y": null,
       "padding": null,
       "right": null,
       "top": null,
       "visibility": null,
       "width": null
      }
     },
     "88bc380c16934646ba9e314af94a40a9": {
      "model_module": "@jupyter-widgets/controls",
      "model_module_version": "1.5.0",
      "model_name": "HTMLModel",
      "state": {
       "_dom_classes": [],
       "_model_module": "@jupyter-widgets/controls",
       "_model_module_version": "1.5.0",
       "_model_name": "HTMLModel",
       "_view_count": null,
       "_view_module": "@jupyter-widgets/controls",
       "_view_module_version": "1.5.0",
       "_view_name": "HTMLView",
       "description": "",
       "description_tooltip": null,
       "layout": "IPY_MODEL_80b5f4fcddce4572b699ca0a5e2924e8",
       "placeholder": "​",
       "style": "IPY_MODEL_22ca8215cc0f49a380cad6a5a28babee",
       "value": " 436M/436M [00:17&lt;00:00, 24.3MB/s]"
      }
     },
     "9f9441d4c41048ed9f7689aabca77dbf": {
      "model_module": "@jupyter-widgets/controls",
      "model_module_version": "1.5.0",
      "model_name": "ProgressStyleModel",
      "state": {
       "_model_module": "@jupyter-widgets/controls",
       "_model_module_version": "1.5.0",
       "_model_name": "ProgressStyleModel",
       "_view_count": null,
       "_view_module": "@jupyter-widgets/base",
       "_view_module_version": "1.2.0",
       "_view_name": "StyleView",
       "bar_color": null,
       "description_width": "initial"
      }
     },
     "a38b32f203fb40d586bd5121394a04cd": {
      "model_module": "@jupyter-widgets/controls",
      "model_module_version": "1.5.0",
      "model_name": "ProgressStyleModel",
      "state": {
       "_model_module": "@jupyter-widgets/controls",
       "_model_module_version": "1.5.0",
       "_model_name": "ProgressStyleModel",
       "_view_count": null,
       "_view_module": "@jupyter-widgets/base",
       "_view_module_version": "1.2.0",
       "_view_name": "StyleView",
       "bar_color": null,
       "description_width": "initial"
      }
     },
     "a3af3dea2a3e4c2ba2b8b59341758788": {
      "model_module": "@jupyter-widgets/base",
      "model_module_version": "1.2.0",
      "model_name": "LayoutModel",
      "state": {
       "_model_module": "@jupyter-widgets/base",
       "_model_module_version": "1.2.0",
       "_model_name": "LayoutModel",
       "_view_count": null,
       "_view_module": "@jupyter-widgets/base",
       "_view_module_version": "1.2.0",
       "_view_name": "LayoutView",
       "align_content": null,
       "align_items": null,
       "align_self": null,
       "border": null,
       "bottom": null,
       "display": null,
       "flex": null,
       "flex_flow": null,
       "grid_area": null,
       "grid_auto_columns": null,
       "grid_auto_flow": null,
       "grid_auto_rows": null,
       "grid_column": null,
       "grid_gap": null,
       "grid_row": null,
       "grid_template_areas": null,
       "grid_template_columns": null,
       "grid_template_rows": null,
       "height": null,
       "justify_content": null,
       "justify_items": null,
       "left": null,
       "margin": null,
       "max_height": null,
       "max_width": null,
       "min_height": null,
       "min_width": null,
       "object_fit": null,
       "object_position": null,
       "order": null,
       "overflow": null,
       "overflow_x": null,
       "overflow_y": null,
       "padding": null,
       "right": null,
       "top": null,
       "visibility": null,
       "width": null
      }
     },
     "a4bf24ad2843485cba5d1a2e3d117a6d": {
      "model_module": "@jupyter-widgets/controls",
      "model_module_version": "1.5.0",
      "model_name": "ProgressStyleModel",
      "state": {
       "_model_module": "@jupyter-widgets/controls",
       "_model_module_version": "1.5.0",
       "_model_name": "ProgressStyleModel",
       "_view_count": null,
       "_view_module": "@jupyter-widgets/base",
       "_view_module_version": "1.2.0",
       "_view_name": "StyleView",
       "bar_color": null,
       "description_width": "initial"
      }
     },
     "a4e7c2b3d22c4554aa12275809775cb8": {
      "model_module": "@jupyter-widgets/base",
      "model_module_version": "1.2.0",
      "model_name": "LayoutModel",
      "state": {
       "_model_module": "@jupyter-widgets/base",
       "_model_module_version": "1.2.0",
       "_model_name": "LayoutModel",
       "_view_count": null,
       "_view_module": "@jupyter-widgets/base",
       "_view_module_version": "1.2.0",
       "_view_name": "LayoutView",
       "align_content": null,
       "align_items": null,
       "align_self": null,
       "border": null,
       "bottom": null,
       "display": null,
       "flex": null,
       "flex_flow": null,
       "grid_area": null,
       "grid_auto_columns": null,
       "grid_auto_flow": null,
       "grid_auto_rows": null,
       "grid_column": null,
       "grid_gap": null,
       "grid_row": null,
       "grid_template_areas": null,
       "grid_template_columns": null,
       "grid_template_rows": null,
       "height": null,
       "justify_content": null,
       "justify_items": null,
       "left": null,
       "margin": null,
       "max_height": null,
       "max_width": null,
       "min_height": null,
       "min_width": null,
       "object_fit": null,
       "object_position": null,
       "order": null,
       "overflow": null,
       "overflow_x": null,
       "overflow_y": null,
       "padding": null,
       "right": null,
       "top": null,
       "visibility": null,
       "width": null
      }
     },
     "a8344490152045cc9a440b39480e3a07": {
      "model_module": "@jupyter-widgets/base",
      "model_module_version": "1.2.0",
      "model_name": "LayoutModel",
      "state": {
       "_model_module": "@jupyter-widgets/base",
       "_model_module_version": "1.2.0",
       "_model_name": "LayoutModel",
       "_view_count": null,
       "_view_module": "@jupyter-widgets/base",
       "_view_module_version": "1.2.0",
       "_view_name": "LayoutView",
       "align_content": null,
       "align_items": null,
       "align_self": null,
       "border": null,
       "bottom": null,
       "display": null,
       "flex": null,
       "flex_flow": null,
       "grid_area": null,
       "grid_auto_columns": null,
       "grid_auto_flow": null,
       "grid_auto_rows": null,
       "grid_column": null,
       "grid_gap": null,
       "grid_row": null,
       "grid_template_areas": null,
       "grid_template_columns": null,
       "grid_template_rows": null,
       "height": null,
       "justify_content": null,
       "justify_items": null,
       "left": null,
       "margin": null,
       "max_height": null,
       "max_width": null,
       "min_height": null,
       "min_width": null,
       "object_fit": null,
       "object_position": null,
       "order": null,
       "overflow": null,
       "overflow_x": null,
       "overflow_y": null,
       "padding": null,
       "right": null,
       "top": null,
       "visibility": null,
       "width": null
      }
     },
     "a883fb5c74d74242aa3f095651d61425": {
      "model_module": "@jupyter-widgets/controls",
      "model_module_version": "1.5.0",
      "model_name": "HTMLModel",
      "state": {
       "_dom_classes": [],
       "_model_module": "@jupyter-widgets/controls",
       "_model_module_version": "1.5.0",
       "_model_name": "HTMLModel",
       "_view_count": null,
       "_view_module": "@jupyter-widgets/controls",
       "_view_module_version": "1.5.0",
       "_view_name": "HTMLView",
       "description": "",
       "description_tooltip": null,
       "layout": "IPY_MODEL_01e50b1cd63148bc9db875af804b1f0c",
       "placeholder": "​",
       "style": "IPY_MODEL_2d5933e504c244dc85240a6ac3e07b46",
       "value": " 232k/232k [00:00&lt;00:00, 615kB/s]"
      }
     },
     "a8ed985ba7564eaca60627225552aaaa": {
      "model_module": "@jupyter-widgets/base",
      "model_module_version": "1.2.0",
      "model_name": "LayoutModel",
      "state": {
       "_model_module": "@jupyter-widgets/base",
       "_model_module_version": "1.2.0",
       "_model_name": "LayoutModel",
       "_view_count": null,
       "_view_module": "@jupyter-widgets/base",
       "_view_module_version": "1.2.0",
       "_view_name": "LayoutView",
       "align_content": null,
       "align_items": null,
       "align_self": null,
       "border": null,
       "bottom": null,
       "display": null,
       "flex": null,
       "flex_flow": null,
       "grid_area": null,
       "grid_auto_columns": null,
       "grid_auto_flow": null,
       "grid_auto_rows": null,
       "grid_column": null,
       "grid_gap": null,
       "grid_row": null,
       "grid_template_areas": null,
       "grid_template_columns": null,
       "grid_template_rows": null,
       "height": null,
       "justify_content": null,
       "justify_items": null,
       "left": null,
       "margin": null,
       "max_height": null,
       "max_width": null,
       "min_height": null,
       "min_width": null,
       "object_fit": null,
       "object_position": null,
       "order": null,
       "overflow": null,
       "overflow_x": null,
       "overflow_y": null,
       "padding": null,
       "right": null,
       "top": null,
       "visibility": null,
       "width": null
      }
     },
     "aaa81d90221f4508b3dd9e1f669411c1": {
      "model_module": "@jupyter-widgets/controls",
      "model_module_version": "1.5.0",
      "model_name": "FloatProgressModel",
      "state": {
       "_dom_classes": [],
       "_model_module": "@jupyter-widgets/controls",
       "_model_module_version": "1.5.0",
       "_model_name": "FloatProgressModel",
       "_view_count": null,
       "_view_module": "@jupyter-widgets/controls",
       "_view_module_version": "1.5.0",
       "_view_name": "ProgressView",
       "bar_style": "success",
       "description": "Downloading: 100%",
       "description_tooltip": null,
       "layout": "IPY_MODEL_87e247e0cc5a4e68a67536842884707a",
       "max": 433.0,
       "min": 0.0,
       "orientation": "horizontal",
       "style": "IPY_MODEL_38f47a754eeb4c4bb4867b2973ea9078",
       "value": 433.0
      }
     },
     "ab414fc0f7a1421e94c926b6895a6e01": {
      "model_module": "@jupyter-widgets/controls",
      "model_module_version": "1.5.0",
      "model_name": "HBoxModel",
      "state": {
       "_dom_classes": [],
       "_model_module": "@jupyter-widgets/controls",
       "_model_module_version": "1.5.0",
       "_model_name": "HBoxModel",
       "_view_count": null,
       "_view_module": "@jupyter-widgets/controls",
       "_view_module_version": "1.5.0",
       "_view_name": "HBoxView",
       "box_style": "",
       "children": [
        "IPY_MODEL_687b165bfd6f418e8ec9c0aed2963c9e",
        "IPY_MODEL_2bd5fb74646c4624b571a8ffba930ef8"
       ],
       "layout": "IPY_MODEL_24184519e11b4ed4ab2bcffaf60d7904"
      }
     },
     "ac0f7dd8a881414db0954d5e89af21fe": {
      "model_module": "@jupyter-widgets/controls",
      "model_module_version": "1.5.0",
      "model_name": "FloatProgressModel",
      "state": {
       "_dom_classes": [],
       "_model_module": "@jupyter-widgets/controls",
       "_model_module_version": "1.5.0",
       "_model_name": "FloatProgressModel",
       "_view_count": null,
       "_view_module": "@jupyter-widgets/controls",
       "_view_module_version": "1.5.0",
       "_view_name": "ProgressView",
       "bar_style": "success",
       "description": "Downloading: 100%",
       "description_tooltip": null,
       "layout": "IPY_MODEL_08773420ad6741caa0a65fb48484196b",
       "max": 898823.0,
       "min": 0.0,
       "orientation": "horizontal",
       "style": "IPY_MODEL_26a91976ceb14f75b593baf9079dc791",
       "value": 898823.0
      }
     },
     "afc75b0a706a4b048e96a33e4539d327": {
      "model_module": "@jupyter-widgets/controls",
      "model_module_version": "1.5.0",
      "model_name": "HTMLModel",
      "state": {
       "_dom_classes": [],
       "_model_module": "@jupyter-widgets/controls",
       "_model_module_version": "1.5.0",
       "_model_name": "HTMLModel",
       "_view_count": null,
       "_view_module": "@jupyter-widgets/controls",
       "_view_module_version": "1.5.0",
       "_view_name": "HTMLView",
       "description": "",
       "description_tooltip": null,
       "layout": "IPY_MODEL_69a768b5f883432a8305f7419a6e8327",
       "placeholder": "​",
       "style": "IPY_MODEL_59e80e0990b447a9abdb1c813f82752e",
       "value": " 456k/456k [00:00&lt;00:00, 939kB/s]"
      }
     },
     "b28940fb3f884e6ea4ca727ca7ad9684": {
      "model_module": "@jupyter-widgets/controls",
      "model_module_version": "1.5.0",
      "model_name": "HBoxModel",
      "state": {
       "_dom_classes": [],
       "_model_module": "@jupyter-widgets/controls",
       "_model_module_version": "1.5.0",
       "_model_name": "HBoxModel",
       "_view_count": null,
       "_view_module": "@jupyter-widgets/controls",
       "_view_module_version": "1.5.0",
       "_view_name": "HBoxView",
       "box_style": "",
       "children": [
        "IPY_MODEL_3f8aeb602e1c4c7089e1db7385d882c6",
        "IPY_MODEL_a883fb5c74d74242aa3f095651d61425"
       ],
       "layout": "IPY_MODEL_c4de6c404fda41869f22bae3be34b7ca"
      }
     },
     "c30ea0b9311e400999fd6090f2f0a07c": {
      "model_module": "@jupyter-widgets/base",
      "model_module_version": "1.2.0",
      "model_name": "LayoutModel",
      "state": {
       "_model_module": "@jupyter-widgets/base",
       "_model_module_version": "1.2.0",
       "_model_name": "LayoutModel",
       "_view_count": null,
       "_view_module": "@jupyter-widgets/base",
       "_view_module_version": "1.2.0",
       "_view_name": "LayoutView",
       "align_content": null,
       "align_items": null,
       "align_self": null,
       "border": null,
       "bottom": null,
       "display": null,
       "flex": null,
       "flex_flow": null,
       "grid_area": null,
       "grid_auto_columns": null,
       "grid_auto_flow": null,
       "grid_auto_rows": null,
       "grid_column": null,
       "grid_gap": null,
       "grid_row": null,
       "grid_template_areas": null,
       "grid_template_columns": null,
       "grid_template_rows": null,
       "height": null,
       "justify_content": null,
       "justify_items": null,
       "left": null,
       "margin": null,
       "max_height": null,
       "max_width": null,
       "min_height": null,
       "min_width": null,
       "object_fit": null,
       "object_position": null,
       "order": null,
       "overflow": null,
       "overflow_x": null,
       "overflow_y": null,
       "padding": null,
       "right": null,
       "top": null,
       "visibility": null,
       "width": null
      }
     },
     "c4de6c404fda41869f22bae3be34b7ca": {
      "model_module": "@jupyter-widgets/base",
      "model_module_version": "1.2.0",
      "model_name": "LayoutModel",
      "state": {
       "_model_module": "@jupyter-widgets/base",
       "_model_module_version": "1.2.0",
       "_model_name": "LayoutModel",
       "_view_count": null,
       "_view_module": "@jupyter-widgets/base",
       "_view_module_version": "1.2.0",
       "_view_name": "LayoutView",
       "align_content": null,
       "align_items": null,
       "align_self": null,
       "border": null,
       "bottom": null,
       "display": null,
       "flex": null,
       "flex_flow": null,
       "grid_area": null,
       "grid_auto_columns": null,
       "grid_auto_flow": null,
       "grid_auto_rows": null,
       "grid_column": null,
       "grid_gap": null,
       "grid_row": null,
       "grid_template_areas": null,
       "grid_template_columns": null,
       "grid_template_rows": null,
       "height": null,
       "justify_content": null,
       "justify_items": null,
       "left": null,
       "margin": null,
       "max_height": null,
       "max_width": null,
       "min_height": null,
       "min_width": null,
       "object_fit": null,
       "object_position": null,
       "order": null,
       "overflow": null,
       "overflow_x": null,
       "overflow_y": null,
       "padding": null,
       "right": null,
       "top": null,
       "visibility": null,
       "width": null
      }
     },
     "c6be51805a17469cabfff1333f26bbcc": {
      "model_module": "@jupyter-widgets/base",
      "model_module_version": "1.2.0",
      "model_name": "LayoutModel",
      "state": {
       "_model_module": "@jupyter-widgets/base",
       "_model_module_version": "1.2.0",
       "_model_name": "LayoutModel",
       "_view_count": null,
       "_view_module": "@jupyter-widgets/base",
       "_view_module_version": "1.2.0",
       "_view_name": "LayoutView",
       "align_content": null,
       "align_items": null,
       "align_self": null,
       "border": null,
       "bottom": null,
       "display": null,
       "flex": null,
       "flex_flow": null,
       "grid_area": null,
       "grid_auto_columns": null,
       "grid_auto_flow": null,
       "grid_auto_rows": null,
       "grid_column": null,
       "grid_gap": null,
       "grid_row": null,
       "grid_template_areas": null,
       "grid_template_columns": null,
       "grid_template_rows": null,
       "height": null,
       "justify_content": null,
       "justify_items": null,
       "left": null,
       "margin": null,
       "max_height": null,
       "max_width": null,
       "min_height": null,
       "min_width": null,
       "object_fit": null,
       "object_position": null,
       "order": null,
       "overflow": null,
       "overflow_x": null,
       "overflow_y": null,
       "padding": null,
       "right": null,
       "top": null,
       "visibility": null,
       "width": null
      }
     },
     "cbbb6c07a6074b6e987d91a6601df4e3": {
      "model_module": "@jupyter-widgets/controls",
      "model_module_version": "1.5.0",
      "model_name": "DescriptionStyleModel",
      "state": {
       "_model_module": "@jupyter-widgets/controls",
       "_model_module_version": "1.5.0",
       "_model_name": "DescriptionStyleModel",
       "_view_count": null,
       "_view_module": "@jupyter-widgets/base",
       "_view_module_version": "1.2.0",
       "_view_name": "StyleView",
       "description_width": ""
      }
     },
     "cc48c50ab19742748ae6af80dcd2b0b1": {
      "model_module": "@jupyter-widgets/controls",
      "model_module_version": "1.5.0",
      "model_name": "HBoxModel",
      "state": {
       "_dom_classes": [],
       "_model_module": "@jupyter-widgets/controls",
       "_model_module_version": "1.5.0",
       "_model_name": "HBoxModel",
       "_view_count": null,
       "_view_module": "@jupyter-widgets/controls",
       "_view_module_version": "1.5.0",
       "_view_name": "HBoxView",
       "box_style": "",
       "children": [
        "IPY_MODEL_5edf2c655f3243a5a93c8abc0870af2b",
        "IPY_MODEL_afc75b0a706a4b048e96a33e4539d327"
       ],
       "layout": "IPY_MODEL_de454bb8ea4d4524a716c480ac717d0b"
      }
     },
     "cd712c7de4c74c2c832dbffc705a21d7": {
      "model_module": "@jupyter-widgets/controls",
      "model_module_version": "1.5.0",
      "model_name": "HBoxModel",
      "state": {
       "_dom_classes": [],
       "_model_module": "@jupyter-widgets/controls",
       "_model_module_version": "1.5.0",
       "_model_name": "HBoxModel",
       "_view_count": null,
       "_view_module": "@jupyter-widgets/controls",
       "_view_module_version": "1.5.0",
       "_view_name": "HBoxView",
       "box_style": "",
       "children": [
        "IPY_MODEL_32f463af03244dd6992a18c6447f6530",
        "IPY_MODEL_88bc380c16934646ba9e314af94a40a9"
       ],
       "layout": "IPY_MODEL_16a4bfdb98924bde83cdfccd8117f90e"
      }
     },
     "cde62b0696ab48fbaf5aa9ed1ae718aa": {
      "model_module": "@jupyter-widgets/base",
      "model_module_version": "1.2.0",
      "model_name": "LayoutModel",
      "state": {
       "_model_module": "@jupyter-widgets/base",
       "_model_module_version": "1.2.0",
       "_model_name": "LayoutModel",
       "_view_count": null,
       "_view_module": "@jupyter-widgets/base",
       "_view_module_version": "1.2.0",
       "_view_name": "LayoutView",
       "align_content": null,
       "align_items": null,
       "align_self": null,
       "border": null,
       "bottom": null,
       "display": null,
       "flex": null,
       "flex_flow": null,
       "grid_area": null,
       "grid_auto_columns": null,
       "grid_auto_flow": null,
       "grid_auto_rows": null,
       "grid_column": null,
       "grid_gap": null,
       "grid_row": null,
       "grid_template_areas": null,
       "grid_template_columns": null,
       "grid_template_rows": null,
       "height": null,
       "justify_content": null,
       "justify_items": null,
       "left": null,
       "margin": null,
       "max_height": null,
       "max_width": null,
       "min_height": null,
       "min_width": null,
       "object_fit": null,
       "object_position": null,
       "order": null,
       "overflow": null,
       "overflow_x": null,
       "overflow_y": null,
       "padding": null,
       "right": null,
       "top": null,
       "visibility": null,
       "width": null
      }
     },
     "d04ff423e9d743e4b30235f46ef8f465": {
      "model_module": "@jupyter-widgets/controls",
      "model_module_version": "1.5.0",
      "model_name": "HBoxModel",
      "state": {
       "_dom_classes": [],
       "_model_module": "@jupyter-widgets/controls",
       "_model_module_version": "1.5.0",
       "_model_name": "HBoxModel",
       "_view_count": null,
       "_view_module": "@jupyter-widgets/controls",
       "_view_module_version": "1.5.0",
       "_view_name": "HBoxView",
       "box_style": "",
       "children": [
        "IPY_MODEL_2c69e3f1400c4916ba5ee4a3335ea3a8",
        "IPY_MODEL_594bb255127049aba77e7e830bdf361b"
       ],
       "layout": "IPY_MODEL_717f12f595cf470fbdf33026a5527307"
      }
     },
     "d361afb874d245de9091d6d222e2c176": {
      "model_module": "@jupyter-widgets/controls",
      "model_module_version": "1.5.0",
      "model_name": "HTMLModel",
      "state": {
       "_dom_classes": [],
       "_model_module": "@jupyter-widgets/controls",
       "_model_module_version": "1.5.0",
       "_model_name": "HTMLModel",
       "_view_count": null,
       "_view_module": "@jupyter-widgets/controls",
       "_view_module_version": "1.5.0",
       "_view_name": "HTMLView",
       "description": "",
       "description_tooltip": null,
       "layout": "IPY_MODEL_de79c243b4924bec97157273eed99e50",
       "placeholder": "​",
       "style": "IPY_MODEL_78fc2cb2f10044a483e558a696678cac",
       "value": " 501M/501M [00:14&lt;00:00, 35.4MB/s]"
      }
     },
     "dc98d58755374f87b4516c263be90f9b": {
      "model_module": "@jupyter-widgets/controls",
      "model_module_version": "1.5.0",
      "model_name": "FloatProgressModel",
      "state": {
       "_dom_classes": [],
       "_model_module": "@jupyter-widgets/controls",
       "_model_module_version": "1.5.0",
       "_model_name": "FloatProgressModel",
       "_view_count": null,
       "_view_module": "@jupyter-widgets/controls",
       "_view_module_version": "1.5.0",
       "_view_name": "ProgressView",
       "bar_style": "success",
       "description": "Downloading: 100%",
       "description_tooltip": null,
       "layout": "IPY_MODEL_f8248f37a6c049fd990977a2b811a680",
       "max": 213450.0,
       "min": 0.0,
       "orientation": "horizontal",
       "style": "IPY_MODEL_a38b32f203fb40d586bd5121394a04cd",
       "value": 213450.0
      }
     },
     "de454bb8ea4d4524a716c480ac717d0b": {
      "model_module": "@jupyter-widgets/base",
      "model_module_version": "1.2.0",
      "model_name": "LayoutModel",
      "state": {
       "_model_module": "@jupyter-widgets/base",
       "_model_module_version": "1.2.0",
       "_model_name": "LayoutModel",
       "_view_count": null,
       "_view_module": "@jupyter-widgets/base",
       "_view_module_version": "1.2.0",
       "_view_name": "LayoutView",
       "align_content": null,
       "align_items": null,
       "align_self": null,
       "border": null,
       "bottom": null,
       "display": null,
       "flex": null,
       "flex_flow": null,
       "grid_area": null,
       "grid_auto_columns": null,
       "grid_auto_flow": null,
       "grid_auto_rows": null,
       "grid_column": null,
       "grid_gap": null,
       "grid_row": null,
       "grid_template_areas": null,
       "grid_template_columns": null,
       "grid_template_rows": null,
       "height": null,
       "justify_content": null,
       "justify_items": null,
       "left": null,
       "margin": null,
       "max_height": null,
       "max_width": null,
       "min_height": null,
       "min_width": null,
       "object_fit": null,
       "object_position": null,
       "order": null,
       "overflow": null,
       "overflow_x": null,
       "overflow_y": null,
       "padding": null,
       "right": null,
       "top": null,
       "visibility": null,
       "width": null
      }
     },
     "de79c243b4924bec97157273eed99e50": {
      "model_module": "@jupyter-widgets/base",
      "model_module_version": "1.2.0",
      "model_name": "LayoutModel",
      "state": {
       "_model_module": "@jupyter-widgets/base",
       "_model_module_version": "1.2.0",
       "_model_name": "LayoutModel",
       "_view_count": null,
       "_view_module": "@jupyter-widgets/base",
       "_view_module_version": "1.2.0",
       "_view_name": "LayoutView",
       "align_content": null,
       "align_items": null,
       "align_self": null,
       "border": null,
       "bottom": null,
       "display": null,
       "flex": null,
       "flex_flow": null,
       "grid_area": null,
       "grid_auto_columns": null,
       "grid_auto_flow": null,
       "grid_auto_rows": null,
       "grid_column": null,
       "grid_gap": null,
       "grid_row": null,
       "grid_template_areas": null,
       "grid_template_columns": null,
       "grid_template_rows": null,
       "height": null,
       "justify_content": null,
       "justify_items": null,
       "left": null,
       "margin": null,
       "max_height": null,
       "max_width": null,
       "min_height": null,
       "min_width": null,
       "object_fit": null,
       "object_position": null,
       "order": null,
       "overflow": null,
       "overflow_x": null,
       "overflow_y": null,
       "padding": null,
       "right": null,
       "top": null,
       "visibility": null,
       "width": null
      }
     },
     "e4d8b1a000fd4ebc8077467af72007a8": {
      "model_module": "@jupyter-widgets/controls",
      "model_module_version": "1.5.0",
      "model_name": "DescriptionStyleModel",
      "state": {
       "_model_module": "@jupyter-widgets/controls",
       "_model_module_version": "1.5.0",
       "_model_name": "DescriptionStyleModel",
       "_view_count": null,
       "_view_module": "@jupyter-widgets/base",
       "_view_module_version": "1.2.0",
       "_view_name": "StyleView",
       "description_width": ""
      }
     },
     "eb2d0cd0baaa49ca8b3d599129120ea5": {
      "model_module": "@jupyter-widgets/controls",
      "model_module_version": "1.5.0",
      "model_name": "FloatProgressModel",
      "state": {
       "_dom_classes": [],
       "_model_module": "@jupyter-widgets/controls",
       "_model_module_version": "1.5.0",
       "_model_name": "FloatProgressModel",
       "_view_count": null,
       "_view_module": "@jupyter-widgets/controls",
       "_view_module_version": "1.5.0",
       "_view_name": "ProgressView",
       "bar_style": "success",
       "description": "Downloading: 100%",
       "description_tooltip": null,
       "layout": "IPY_MODEL_45362d85116141e98c01b54d80d7e5ca",
       "max": 481.0,
       "min": 0.0,
       "orientation": "horizontal",
       "style": "IPY_MODEL_72a3ae49c1f14364b6e58475e5148d29",
       "value": 481.0
      }
     },
     "ecc52b02e1c446879c4deb0e0094a34d": {
      "model_module": "@jupyter-widgets/controls",
      "model_module_version": "1.5.0",
      "model_name": "DescriptionStyleModel",
      "state": {
       "_model_module": "@jupyter-widgets/controls",
       "_model_module_version": "1.5.0",
       "_model_name": "DescriptionStyleModel",
       "_view_count": null,
       "_view_module": "@jupyter-widgets/base",
       "_view_module_version": "1.2.0",
       "_view_name": "StyleView",
       "description_width": ""
      }
     },
     "ef5c4cefbf614d828153c1488b0ef8eb": {
      "model_module": "@jupyter-widgets/controls",
      "model_module_version": "1.5.0",
      "model_name": "DescriptionStyleModel",
      "state": {
       "_model_module": "@jupyter-widgets/controls",
       "_model_module_version": "1.5.0",
       "_model_name": "DescriptionStyleModel",
       "_view_count": null,
       "_view_module": "@jupyter-widgets/base",
       "_view_module_version": "1.2.0",
       "_view_name": "StyleView",
       "description_width": ""
      }
     },
     "f8248f37a6c049fd990977a2b811a680": {
      "model_module": "@jupyter-widgets/base",
      "model_module_version": "1.2.0",
      "model_name": "LayoutModel",
      "state": {
       "_model_module": "@jupyter-widgets/base",
       "_model_module_version": "1.2.0",
       "_model_name": "LayoutModel",
       "_view_count": null,
       "_view_module": "@jupyter-widgets/base",
       "_view_module_version": "1.2.0",
       "_view_name": "LayoutView",
       "align_content": null,
       "align_items": null,
       "align_self": null,
       "border": null,
       "bottom": null,
       "display": null,
       "flex": null,
       "flex_flow": null,
       "grid_area": null,
       "grid_auto_columns": null,
       "grid_auto_flow": null,
       "grid_auto_rows": null,
       "grid_column": null,
       "grid_gap": null,
       "grid_row": null,
       "grid_template_areas": null,
       "grid_template_columns": null,
       "grid_template_rows": null,
       "height": null,
       "justify_content": null,
       "justify_items": null,
       "left": null,
       "margin": null,
       "max_height": null,
       "max_width": null,
       "min_height": null,
       "min_width": null,
       "object_fit": null,
       "object_position": null,
       "order": null,
       "overflow": null,
       "overflow_x": null,
       "overflow_y": null,
       "padding": null,
       "right": null,
       "top": null,
       "visibility": null,
       "width": null
      }
     }
    },
    "version_major": 2,
    "version_minor": 0
   }
  }
 },
 "nbformat": 4,
 "nbformat_minor": 4
}
